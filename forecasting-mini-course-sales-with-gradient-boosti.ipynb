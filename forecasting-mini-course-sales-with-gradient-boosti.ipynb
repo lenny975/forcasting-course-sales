{
 "cells": [
  {
   "cell_type": "markdown",
   "id": "2cf97857",
   "metadata": {
    "papermill": {
     "duration": 0.017326,
     "end_time": "2023-07-28T10:39:21.246548",
     "exception": false,
     "start_time": "2023-07-28T10:39:21.229222",
     "status": "completed"
    },
    "tags": []
   },
   "source": [
    "# Forecasting Mini-Course Sales with Gradient Boosting Frameworks"
   ]
  },
  {
   "cell_type": "markdown",
   "id": "00c45e60",
   "metadata": {
    "papermill": {
     "duration": 0.016364,
     "end_time": "2023-07-28T10:39:21.279912",
     "exception": false,
     "start_time": "2023-07-28T10:39:21.263548",
     "status": "completed"
    },
    "tags": []
   },
   "source": [
    "**AIM**: To predict 2022 sales data for for various fictitious learning modules from different fictitious Kaggle-branded stores in different countries with sales data pertaining to 2017-2021."
   ]
  },
  {
   "cell_type": "markdown",
   "id": "91155f99",
   "metadata": {
    "papermill": {
     "duration": 0.017145,
     "end_time": "2023-07-28T10:39:21.313942",
     "exception": false,
     "start_time": "2023-07-28T10:39:21.296797",
     "status": "completed"
    },
    "tags": []
   },
   "source": [
    "### Step 1: Importing Libraries & Examining the Data"
   ]
  },
  {
   "cell_type": "code",
   "execution_count": 1,
   "id": "b0a5f583",
   "metadata": {
    "execution": {
     "iopub.execute_input": "2023-07-28T10:39:21.349591Z",
     "iopub.status.busy": "2023-07-28T10:39:21.349176Z",
     "iopub.status.idle": "2023-07-28T10:39:53.892049Z",
     "shell.execute_reply": "2023-07-28T10:39:53.890536Z"
    },
    "papermill": {
     "duration": 32.564306,
     "end_time": "2023-07-28T10:39:53.895175",
     "exception": false,
     "start_time": "2023-07-28T10:39:21.330869",
     "status": "completed"
    },
    "tags": []
   },
   "outputs": [
    {
     "name": "stdout",
     "output_type": "stream",
     "text": [
      "Requirement already satisfied: pip in /opt/conda/lib/python3.10/site-packages (23.1.2)\r\n",
      "Collecting pip\r\n",
      "  Downloading pip-23.2.1-py3-none-any.whl (2.1 MB)\r\n",
      "\u001b[2K     \u001b[90m━━━━━━━━━━━━━━━━━━━━━━━━━━━━━━━━━━━━━━━━\u001b[0m \u001b[32m2.1/2.1 MB\u001b[0m \u001b[31m21.9 MB/s\u001b[0m eta \u001b[36m0:00:00\u001b[0m\r\n",
      "\u001b[?25hInstalling collected packages: pip\r\n",
      "  Attempting uninstall: pip\r\n",
      "    Found existing installation: pip 23.1.2\r\n",
      "    Uninstalling pip-23.1.2:\r\n",
      "      Successfully uninstalled pip-23.1.2\r\n",
      "Successfully installed pip-23.2.1\r\n"
     ]
    }
   ],
   "source": [
    "!pip install --upgrade pip"
   ]
  },
  {
   "cell_type": "code",
   "execution_count": 2,
   "id": "4b440053",
   "metadata": {
    "execution": {
     "iopub.execute_input": "2023-07-28T10:39:53.934967Z",
     "iopub.status.busy": "2023-07-28T10:39:53.934514Z",
     "iopub.status.idle": "2023-07-28T10:40:13.054889Z",
     "shell.execute_reply": "2023-07-28T10:40:13.053202Z"
    },
    "papermill": {
     "duration": 19.144463,
     "end_time": "2023-07-28T10:40:13.058022",
     "exception": false,
     "start_time": "2023-07-28T10:39:53.913559",
     "status": "completed"
    },
    "tags": []
   },
   "outputs": [
    {
     "name": "stdout",
     "output_type": "stream",
     "text": [
      "\r\n",
      "\r\n",
      "\r\n",
      "The following additional packages will be installed:\r\n",
      "  freeglut3 libglu1-mesa libpython2-stdlib libpython2.7-minimal\r\n",
      "  libpython2.7-stdlib python2 python2-minimal python2.7 python2.7-minimal\r\n",
      "Suggested packages:\r\n",
      "  python-tk python-numpy libgle3 python2-doc python2.7-doc binfmt-support\r\n",
      "The following NEW packages will be installed:\r\n",
      "  freeglut3 libglu1-mesa libpython2-stdlib libpython2.7-minimal\r\n",
      "  libpython2.7-stdlib python-opengl python2 python2-minimal python2.7\r\n",
      "  python2.7-minimal\r\n",
      "0 upgraded, 10 newly installed, 0 to remove and 6 not upgraded.\r\n",
      "Need to get 4540 kB of archives.\r\n",
      "After this operation, 22.7 MB of additional disk space will be used.\r\n",
      "Get:1 http://archive.ubuntu.com/ubuntu focal-updates/universe amd64 libpython2.7-minimal amd64 2.7.18-1~20.04.3 [336 kB]\r\n",
      "Get:2 http://archive.ubuntu.com/ubuntu focal-updates/universe amd64 python2.7-minimal amd64 2.7.18-1~20.04.3 [1280 kB]\r\n",
      "Get:3 http://archive.ubuntu.com/ubuntu focal/universe amd64 python2-minimal amd64 2.7.17-2ubuntu4 [27.5 kB]\r\n",
      "Get:4 http://archive.ubuntu.com/ubuntu focal-updates/universe amd64 libpython2.7-stdlib amd64 2.7.18-1~20.04.3 [1888 kB]\r\n",
      "Get:5 http://archive.ubuntu.com/ubuntu focal-updates/universe amd64 python2.7 amd64 2.7.18-1~20.04.3 [248 kB]\r\n",
      "Get:6 http://archive.ubuntu.com/ubuntu focal/universe amd64 libpython2-stdlib amd64 2.7.17-2ubuntu4 [7072 B]\r\n",
      "Get:7 http://archive.ubuntu.com/ubuntu focal/universe amd64 python2 amd64 2.7.17-2ubuntu4 [26.5 kB]\r\n",
      "Get:8 http://archive.ubuntu.com/ubuntu focal/universe amd64 freeglut3 amd64 2.8.1-3 [73.6 kB]\r\n",
      "Get:9 http://archive.ubuntu.com/ubuntu focal/main amd64 libglu1-mesa amd64 9.0.1-1build1 [168 kB]\r\n",
      "Get:10 http://archive.ubuntu.com/ubuntu focal/universe amd64 python-opengl all 3.1.0+dfsg-2build1 [486 kB]\r\n",
      "Fetched 4540 kB in 1s (3973 kB/s)\r\n",
      "Selecting previously unselected package libpython2.7-minimal:amd64.\r\n",
      "(Reading database ... 107656 files and directories currently installed.)\r\n",
      "Preparing to unpack .../0-libpython2.7-minimal_2.7.18-1~20.04.3_amd64.deb ...\r\n",
      "Unpacking libpython2.7-minimal:amd64 (2.7.18-1~20.04.3) ...\r\n",
      "Selecting previously unselected package python2.7-minimal.\r\n",
      "Preparing to unpack .../1-python2.7-minimal_2.7.18-1~20.04.3_amd64.deb ...\r\n",
      "Unpacking python2.7-minimal (2.7.18-1~20.04.3) ...\r\n",
      "Selecting previously unselected package python2-minimal.\r\n",
      "Preparing to unpack .../2-python2-minimal_2.7.17-2ubuntu4_amd64.deb ...\r\n",
      "Unpacking python2-minimal (2.7.17-2ubuntu4) ...\r\n",
      "Selecting previously unselected package libpython2.7-stdlib:amd64.\r\n",
      "Preparing to unpack .../3-libpython2.7-stdlib_2.7.18-1~20.04.3_amd64.deb ...\r\n",
      "Unpacking libpython2.7-stdlib:amd64 (2.7.18-1~20.04.3) ...\r\n",
      "Selecting previously unselected package python2.7.\r\n",
      "Preparing to unpack .../4-python2.7_2.7.18-1~20.04.3_amd64.deb ...\r\n",
      "Unpacking python2.7 (2.7.18-1~20.04.3) ...\r\n",
      "Selecting previously unselected package libpython2-stdlib:amd64.\r\n",
      "Preparing to unpack .../5-libpython2-stdlib_2.7.17-2ubuntu4_amd64.deb ...\r\n",
      "Unpacking libpython2-stdlib:amd64 (2.7.17-2ubuntu4) ...\r\n",
      "Setting up libpython2.7-minimal:amd64 (2.7.18-1~20.04.3) ...\r\n",
      "Setting up python2.7-minimal (2.7.18-1~20.04.3) ...\r\n",
      "Linking and byte-compiling packages for runtime python2.7...\r\n",
      "Setting up python2-minimal (2.7.17-2ubuntu4) ...\r\n",
      "Selecting previously unselected package python2.\r\n",
      "(Reading database ... 108403 files and directories currently installed.)\r\n",
      "Preparing to unpack .../python2_2.7.17-2ubuntu4_amd64.deb ...\r\n",
      "Unpacking python2 (2.7.17-2ubuntu4) ...\r\n",
      "Selecting previously unselected package freeglut3:amd64.\r\n",
      "Preparing to unpack .../freeglut3_2.8.1-3_amd64.deb ...\r\n",
      "Unpacking freeglut3:amd64 (2.8.1-3) ...\r\n",
      "Selecting previously unselected package libglu1-mesa:amd64.\r\n",
      "Preparing to unpack .../libglu1-mesa_9.0.1-1build1_amd64.deb ...\r\n",
      "Unpacking libglu1-mesa:amd64 (9.0.1-1build1) ...\r\n",
      "Selecting previously unselected package python-opengl.\r\n",
      "Preparing to unpack .../python-opengl_3.1.0+dfsg-2build1_all.deb ...\r\n",
      "Unpacking python-opengl (3.1.0+dfsg-2build1) ...\r\n",
      "Setting up freeglut3:amd64 (2.8.1-3) ...\r\n",
      "Setting up libpython2.7-stdlib:amd64 (2.7.18-1~20.04.3) ...\r\n",
      "Setting up libglu1-mesa:amd64 (9.0.1-1build1) ...\r\n",
      "Setting up python2.7 (2.7.18-1~20.04.3) ...\r\n",
      "Setting up libpython2-stdlib:amd64 (2.7.17-2ubuntu4) ...\r\n",
      "Setting up python2 (2.7.17-2ubuntu4) ...\r\n",
      "Setting up python-opengl (3.1.0+dfsg-2build1) ...\r\n",
      "Processing triggers for man-db (2.9.1-1) ...\r\n",
      "Processing triggers for mime-support (3.64ubuntu1) ...\r\n",
      "Processing triggers for libc-bin (2.31-0ubuntu9.9) ...\r\n",
      "\r\n",
      "\r\n",
      "\r\n",
      "xvfb is already the newest version (2:1.20.13-1ubuntu1~20.04.8).\r\n",
      "0 upgraded, 0 newly installed, 0 to remove and 6 not upgraded.\r\n"
     ]
    }
   ],
   "source": [
    "!apt-get install -y python-opengl\n",
    "!apt install xvfb -y"
   ]
  },
  {
   "cell_type": "code",
   "execution_count": 3,
   "id": "0e9777c5",
   "metadata": {
    "execution": {
     "iopub.execute_input": "2023-07-28T10:40:13.111645Z",
     "iopub.status.busy": "2023-07-28T10:40:13.111199Z",
     "iopub.status.idle": "2023-07-28T10:40:58.468775Z",
     "shell.execute_reply": "2023-07-28T10:40:58.467314Z"
    },
    "papermill": {
     "duration": 45.388508,
     "end_time": "2023-07-28T10:40:58.472004",
     "exception": false,
     "start_time": "2023-07-28T10:40:13.083496",
     "status": "completed"
    },
    "tags": []
   },
   "outputs": [
    {
     "name": "stdout",
     "output_type": "stream",
     "text": [
      "Requirement already satisfied: shap in /opt/conda/lib/python3.10/site-packages (0.42.0)\r\n",
      "Requirement already satisfied: numpy in /opt/conda/lib/python3.10/site-packages (from shap) (1.23.5)\r\n",
      "Requirement already satisfied: scipy in /opt/conda/lib/python3.10/site-packages (from shap) (1.11.1)\r\n",
      "Requirement already satisfied: scikit-learn in /opt/conda/lib/python3.10/site-packages (from shap) (1.2.2)\r\n",
      "Requirement already satisfied: pandas in /opt/conda/lib/python3.10/site-packages (from shap) (1.5.3)\r\n",
      "Requirement already satisfied: tqdm>=4.27.0 in /opt/conda/lib/python3.10/site-packages (from shap) (4.65.0)\r\n",
      "Requirement already satisfied: packaging>20.9 in /opt/conda/lib/python3.10/site-packages (from shap) (21.3)\r\n",
      "Requirement already satisfied: slicer==0.0.7 in /opt/conda/lib/python3.10/site-packages (from shap) (0.0.7)\r\n",
      "Requirement already satisfied: numba in /opt/conda/lib/python3.10/site-packages (from shap) (0.57.1)\r\n",
      "Requirement already satisfied: cloudpickle in /opt/conda/lib/python3.10/site-packages (from shap) (2.2.1)\r\n",
      "Requirement already satisfied: pyparsing!=3.0.5,>=2.0.2 in /opt/conda/lib/python3.10/site-packages (from packaging>20.9->shap) (3.0.9)\r\n",
      "Requirement already satisfied: llvmlite<0.41,>=0.40.0dev0 in /opt/conda/lib/python3.10/site-packages (from numba->shap) (0.40.1)\r\n",
      "Requirement already satisfied: python-dateutil>=2.8.1 in /opt/conda/lib/python3.10/site-packages (from pandas->shap) (2.8.2)\r\n",
      "Requirement already satisfied: pytz>=2020.1 in /opt/conda/lib/python3.10/site-packages (from pandas->shap) (2023.3)\r\n",
      "Requirement already satisfied: joblib>=1.1.1 in /opt/conda/lib/python3.10/site-packages (from scikit-learn->shap) (1.2.0)\r\n",
      "Requirement already satisfied: threadpoolctl>=2.0.0 in /opt/conda/lib/python3.10/site-packages (from scikit-learn->shap) (3.1.0)\r\n",
      "Requirement already satisfied: six>=1.5 in /opt/conda/lib/python3.10/site-packages (from python-dateutil>=2.8.1->pandas->shap) (1.16.0)\r\n"
     ]
    }
   ],
   "source": [
    "!pip install -q pycaret\n",
    "!pip install shap"
   ]
  },
  {
   "cell_type": "code",
   "execution_count": 4,
   "id": "7d2c043f",
   "metadata": {
    "execution": {
     "iopub.execute_input": "2023-07-28T10:40:58.526992Z",
     "iopub.status.busy": "2023-07-28T10:40:58.526512Z",
     "iopub.status.idle": "2023-07-28T10:41:12.640834Z",
     "shell.execute_reply": "2023-07-28T10:41:12.639653Z"
    },
    "papermill": {
     "duration": 14.145401,
     "end_time": "2023-07-28T10:41:12.643917",
     "exception": false,
     "start_time": "2023-07-28T10:40:58.498516",
     "status": "completed"
    },
    "tags": []
   },
   "outputs": [
    {
     "name": "stdout",
     "output_type": "stream",
     "text": [
      "Requirement already satisfied: holidays in /opt/conda/lib/python3.10/site-packages (0.24)\r\n",
      "Requirement already satisfied: hijri-converter in /opt/conda/lib/python3.10/site-packages (from holidays) (2.3.1)\r\n",
      "Requirement already satisfied: korean-lunar-calendar in /opt/conda/lib/python3.10/site-packages (from holidays) (0.3.1)\r\n",
      "Requirement already satisfied: python-dateutil in /opt/conda/lib/python3.10/site-packages (from holidays) (2.8.2)\r\n",
      "Requirement already satisfied: six>=1.5 in /opt/conda/lib/python3.10/site-packages (from python-dateutil->holidays) (1.16.0)\r\n"
     ]
    }
   ],
   "source": [
    "!pip install holidays"
   ]
  },
  {
   "cell_type": "code",
   "execution_count": 5,
   "id": "983599b3",
   "metadata": {
    "execution": {
     "iopub.execute_input": "2023-07-28T10:41:12.698663Z",
     "iopub.status.busy": "2023-07-28T10:41:12.698248Z",
     "iopub.status.idle": "2023-07-28T10:45:15.023978Z",
     "shell.execute_reply": "2023-07-28T10:45:15.022394Z"
    },
    "papermill": {
     "duration": 242.356912,
     "end_time": "2023-07-28T10:45:15.027039",
     "exception": false,
     "start_time": "2023-07-28T10:41:12.670127",
     "status": "completed"
    },
    "tags": []
   },
   "outputs": [
    {
     "name": "stdout",
     "output_type": "stream",
     "text": [
      "Collecting numpy==1.21.0\r\n",
      "  Downloading numpy-1.21.0.zip (10.3 MB)\r\n",
      "\u001b[2K     \u001b[90m━━━━━━━━━━━━━━━━━━━━━━━━━━━━━━━━━━━━━━━━\u001b[0m \u001b[32m10.3/10.3 MB\u001b[0m \u001b[31m46.3 MB/s\u001b[0m eta \u001b[36m0:00:00\u001b[0m\r\n",
      "\u001b[?25h  Installing build dependencies ... \u001b[?25l-\b \b\\\b \b|\b \b/\b \b-\b \b\\\b \b|\b \bdone\r\n",
      "\u001b[?25h  Getting requirements to build wheel ... \u001b[?25l-\b \b\\\b \b|\b \bdone\r\n",
      "\u001b[?25h  Preparing metadata (pyproject.toml) ... \u001b[?25l-\b \b\\\b \b|\b \bdone\r\n",
      "\u001b[?25hBuilding wheels for collected packages: numpy\r\n",
      "  Building wheel for numpy (pyproject.toml) ... \u001b[?25l-\b \b\\\b \b|\b \b/\b \b-\b \b\\\b \b|\b \b/\b \b-\b \b\\\b \b|\b \b/\b \b-\b \b\\\b \b|\b \b/\b \b-\b \b\\\b \b|\b \b/\b \b-\b \b\\\b \b|\b \b/\b \b-\b \b\\\b \b|\b \b/\b \b-\b \b\\\b \b|\b \b/\b \b-\b \b\\\b \b|\b \b/\b \b-\b \b\\\b \b|\b \b/\b \b-\b \b\\\b \b|\b \b/\b \b-\b \b\\\b \b|\b \b/\b \b-\b \b\\\b \b|\b \b/\b \b-\b \b\\\b \b|\b \b/\b \b-\b \b\\\b \b|\b \b/\b \b-\b \b\\\b \b|\b \b/\b \b-\b \b\\\b \b|\b \b/\b \b-\b \b\\\b \b|\b \b/\b \b-\b \b\\\b \b|\b \b/\b \b-\b \b\\\b \b|\b \b/\b \b-\b \b\\\b \b|\b \b/\b \b-\b \b\\\b \b|\b \b/\b \b-\b \b\\\b \b|\b \b/\b \b-\b \b\\\b \b|\b \b/\b \b-\b \b\\\b \b|\b \b/\b \b-\b \b\\\b \b|\b \b/\b \b-\b \b\\\b \b|\b \b/\b \b-\b \b\\\b \b|\b \b/\b \b-\b \b\\\b \b|\b \b/\b \b-\b \b\\\b \b|\b \b/\b \b-\b \b\\\b \b|\b \b/\b \b-\b \b\\\b \b|\b \b/\b \b-\b \b\\\b \b|\b \b/\b \b-\b \b\\\b \b|\b \b/\b \b-\b \b\\\b \b|\b \b/\b \b-\b \b\\\b \b|\b \b/\b \b-\b \b\\\b \b|\b \b/\b \b-\b \b\\\b \b|\b \bdone\r\n",
      "\u001b[?25h  Created wheel for numpy: filename=numpy-1.21.0-cp310-cp310-linux_x86_64.whl size=5308598 sha256=986386ae8693223bc01122346c878e8c9da8834cf9a40cac11ef5a9234fa06c9\r\n",
      "  Stored in directory: /root/.cache/pip/wheels/05/61/d1/ccc2cd557b39e127ad98a392d9558f3c5dda28764b7f54b2f5\r\n",
      "Successfully built numpy\r\n",
      "Installing collected packages: numpy\r\n",
      "  Attempting uninstall: numpy\r\n",
      "    Found existing installation: numpy 1.23.5\r\n",
      "    Uninstalling numpy-1.23.5:\r\n",
      "      Successfully uninstalled numpy-1.23.5\r\n",
      "Successfully installed numpy-1.21.0\r\n"
     ]
    }
   ],
   "source": [
    "!pip install --force-reinstall --no-deps numpy==1.21.0"
   ]
  },
  {
   "cell_type": "code",
   "execution_count": 6,
   "id": "fafac200",
   "metadata": {
    "execution": {
     "iopub.execute_input": "2023-07-28T10:45:15.113228Z",
     "iopub.status.busy": "2023-07-28T10:45:15.112269Z",
     "iopub.status.idle": "2023-07-28T10:45:18.693336Z",
     "shell.execute_reply": "2023-07-28T10:45:18.691999Z"
    },
    "papermill": {
     "duration": 3.62774,
     "end_time": "2023-07-28T10:45:18.696492",
     "exception": false,
     "start_time": "2023-07-28T10:45:15.068752",
     "status": "completed"
    },
    "tags": []
   },
   "outputs": [
    {
     "name": "stderr",
     "output_type": "stream",
     "text": [
      "/opt/conda/lib/python3.10/site-packages/scipy/__init__.py:146: UserWarning: A NumPy version >=1.16.5 and <1.23.0 is required for this version of SciPy (detected version 1.23.5\n",
      "  warnings.warn(f\"A NumPy version >={np_minversion} and <{np_maxversion}\"\n"
     ]
    }
   ],
   "source": [
    "# Importing libraries\n",
    "import pandas as pd\n",
    "import numpy as np\n",
    "import matplotlib.pyplot as plt\n",
    "import seaborn as sns\n",
    "\n",
    "\n",
    "import holidays\n",
    "from catboost import CatBoostRegressor\n",
    "from xgboost import XGBRegressor\n",
    "from lightgbm import LGBMRegressor\n",
    "from sklearn.model_selection import RandomizedSearchCV\n",
    "from scipy.stats import randint\n",
    "from sklearn.preprocessing import LabelEncoder\n",
    "from scipy.stats import uniform as randFloat\n",
    "from sklearn.model_selection import train_test_split\n",
    "from sklearn.model_selection import TimeSeriesSplit"
   ]
  },
  {
   "cell_type": "code",
   "execution_count": 7,
   "id": "389d0139",
   "metadata": {
    "execution": {
     "iopub.execute_input": "2023-07-28T10:45:18.782028Z",
     "iopub.status.busy": "2023-07-28T10:45:18.781201Z",
     "iopub.status.idle": "2023-07-28T10:45:19.171752Z",
     "shell.execute_reply": "2023-07-28T10:45:19.170650Z"
    },
    "papermill": {
     "duration": 0.436272,
     "end_time": "2023-07-28T10:45:19.174271",
     "exception": false,
     "start_time": "2023-07-28T10:45:18.737999",
     "status": "completed"
    },
    "tags": []
   },
   "outputs": [
    {
     "data": {
      "text/html": [
       "<div>\n",
       "<style scoped>\n",
       "    .dataframe tbody tr th:only-of-type {\n",
       "        vertical-align: middle;\n",
       "    }\n",
       "\n",
       "    .dataframe tbody tr th {\n",
       "        vertical-align: top;\n",
       "    }\n",
       "\n",
       "    .dataframe thead th {\n",
       "        text-align: right;\n",
       "    }\n",
       "</style>\n",
       "<table border=\"1\" class=\"dataframe\">\n",
       "  <thead>\n",
       "    <tr style=\"text-align: right;\">\n",
       "      <th></th>\n",
       "      <th>id</th>\n",
       "      <th>date</th>\n",
       "      <th>country</th>\n",
       "      <th>store</th>\n",
       "      <th>product</th>\n",
       "      <th>num_sold</th>\n",
       "    </tr>\n",
       "  </thead>\n",
       "  <tbody>\n",
       "    <tr>\n",
       "      <th>0</th>\n",
       "      <td>0</td>\n",
       "      <td>2017-01-01</td>\n",
       "      <td>Argentina</td>\n",
       "      <td>Kaggle Learn</td>\n",
       "      <td>Using LLMs to Improve Your Coding</td>\n",
       "      <td>63</td>\n",
       "    </tr>\n",
       "    <tr>\n",
       "      <th>1</th>\n",
       "      <td>1</td>\n",
       "      <td>2017-01-01</td>\n",
       "      <td>Argentina</td>\n",
       "      <td>Kaggle Learn</td>\n",
       "      <td>Using LLMs to Train More LLMs</td>\n",
       "      <td>66</td>\n",
       "    </tr>\n",
       "    <tr>\n",
       "      <th>2</th>\n",
       "      <td>2</td>\n",
       "      <td>2017-01-01</td>\n",
       "      <td>Argentina</td>\n",
       "      <td>Kaggle Learn</td>\n",
       "      <td>Using LLMs to Win Friends and Influence People</td>\n",
       "      <td>9</td>\n",
       "    </tr>\n",
       "    <tr>\n",
       "      <th>3</th>\n",
       "      <td>3</td>\n",
       "      <td>2017-01-01</td>\n",
       "      <td>Argentina</td>\n",
       "      <td>Kaggle Learn</td>\n",
       "      <td>Using LLMs to Win More Kaggle Competitions</td>\n",
       "      <td>59</td>\n",
       "    </tr>\n",
       "    <tr>\n",
       "      <th>4</th>\n",
       "      <td>4</td>\n",
       "      <td>2017-01-01</td>\n",
       "      <td>Argentina</td>\n",
       "      <td>Kaggle Learn</td>\n",
       "      <td>Using LLMs to Write Better</td>\n",
       "      <td>49</td>\n",
       "    </tr>\n",
       "  </tbody>\n",
       "</table>\n",
       "</div>"
      ],
      "text/plain": [
       "   id       date    country         store  \\\n",
       "0   0 2017-01-01  Argentina  Kaggle Learn   \n",
       "1   1 2017-01-01  Argentina  Kaggle Learn   \n",
       "2   2 2017-01-01  Argentina  Kaggle Learn   \n",
       "3   3 2017-01-01  Argentina  Kaggle Learn   \n",
       "4   4 2017-01-01  Argentina  Kaggle Learn   \n",
       "\n",
       "                                          product  num_sold  \n",
       "0               Using LLMs to Improve Your Coding        63  \n",
       "1                   Using LLMs to Train More LLMs        66  \n",
       "2  Using LLMs to Win Friends and Influence People         9  \n",
       "3      Using LLMs to Win More Kaggle Competitions        59  \n",
       "4                      Using LLMs to Write Better        49  "
      ]
     },
     "execution_count": 7,
     "metadata": {},
     "output_type": "execute_result"
    }
   ],
   "source": [
    "# Reading in the data while parsing the 'date' column in as a datetime dtype\n",
    "orig_train = pd.read_csv('/kaggle/input/playground-series-s3e19/train.csv', parse_dates = ['date'])\n",
    "orig_test = pd.read_csv('/kaggle/input/playground-series-s3e19/test.csv', parse_dates = ['date'])\n",
    "\n",
    "# Looking at the training data\n",
    "orig_train.head()"
   ]
  },
  {
   "cell_type": "code",
   "execution_count": 8,
   "id": "a4ddcc7e",
   "metadata": {
    "execution": {
     "iopub.execute_input": "2023-07-28T10:45:19.260217Z",
     "iopub.status.busy": "2023-07-28T10:45:19.259711Z",
     "iopub.status.idle": "2023-07-28T10:45:19.410566Z",
     "shell.execute_reply": "2023-07-28T10:45:19.408800Z"
    },
    "papermill": {
     "duration": 0.196742,
     "end_time": "2023-07-28T10:45:19.413199",
     "exception": false,
     "start_time": "2023-07-28T10:45:19.216457",
     "status": "completed"
    },
    "tags": []
   },
   "outputs": [
    {
     "name": "stdout",
     "output_type": "stream",
     "text": [
      "<class 'pandas.core.frame.DataFrame'>\n",
      "RangeIndex: 136950 entries, 0 to 136949\n",
      "Data columns (total 6 columns):\n",
      " #   Column    Non-Null Count   Dtype         \n",
      "---  ------    --------------   -----         \n",
      " 0   id        136950 non-null  int64         \n",
      " 1   date      136950 non-null  datetime64[ns]\n",
      " 2   country   136950 non-null  object        \n",
      " 3   store     136950 non-null  object        \n",
      " 4   product   136950 non-null  object        \n",
      " 5   num_sold  136950 non-null  int64         \n",
      "dtypes: datetime64[ns](1), int64(2), object(3)\n",
      "memory usage: 6.3+ MB\n"
     ]
    }
   ],
   "source": [
    "orig_train.info()"
   ]
  },
  {
   "cell_type": "code",
   "execution_count": 9,
   "id": "b045e510",
   "metadata": {
    "execution": {
     "iopub.execute_input": "2023-07-28T10:45:19.503584Z",
     "iopub.status.busy": "2023-07-28T10:45:19.503121Z",
     "iopub.status.idle": "2023-07-28T10:45:19.528576Z",
     "shell.execute_reply": "2023-07-28T10:45:19.527696Z"
    },
    "papermill": {
     "duration": 0.073817,
     "end_time": "2023-07-28T10:45:19.531275",
     "exception": false,
     "start_time": "2023-07-28T10:45:19.457458",
     "status": "completed"
    },
    "tags": []
   },
   "outputs": [
    {
     "data": {
      "text/html": [
       "<div>\n",
       "<style scoped>\n",
       "    .dataframe tbody tr th:only-of-type {\n",
       "        vertical-align: middle;\n",
       "    }\n",
       "\n",
       "    .dataframe tbody tr th {\n",
       "        vertical-align: top;\n",
       "    }\n",
       "\n",
       "    .dataframe thead th {\n",
       "        text-align: right;\n",
       "    }\n",
       "</style>\n",
       "<table border=\"1\" class=\"dataframe\">\n",
       "  <thead>\n",
       "    <tr style=\"text-align: right;\">\n",
       "      <th></th>\n",
       "      <th>id</th>\n",
       "      <th>num_sold</th>\n",
       "    </tr>\n",
       "  </thead>\n",
       "  <tbody>\n",
       "    <tr>\n",
       "      <th>count</th>\n",
       "      <td>136950.00000</td>\n",
       "      <td>136950.000000</td>\n",
       "    </tr>\n",
       "    <tr>\n",
       "      <th>mean</th>\n",
       "      <td>68474.50000</td>\n",
       "      <td>165.522636</td>\n",
       "    </tr>\n",
       "    <tr>\n",
       "      <th>std</th>\n",
       "      <td>39534.20402</td>\n",
       "      <td>183.691575</td>\n",
       "    </tr>\n",
       "    <tr>\n",
       "      <th>min</th>\n",
       "      <td>0.00000</td>\n",
       "      <td>2.000000</td>\n",
       "    </tr>\n",
       "    <tr>\n",
       "      <th>25%</th>\n",
       "      <td>34237.25000</td>\n",
       "      <td>46.000000</td>\n",
       "    </tr>\n",
       "    <tr>\n",
       "      <th>50%</th>\n",
       "      <td>68474.50000</td>\n",
       "      <td>98.000000</td>\n",
       "    </tr>\n",
       "    <tr>\n",
       "      <th>75%</th>\n",
       "      <td>102711.75000</td>\n",
       "      <td>184.000000</td>\n",
       "    </tr>\n",
       "    <tr>\n",
       "      <th>max</th>\n",
       "      <td>136949.00000</td>\n",
       "      <td>1380.000000</td>\n",
       "    </tr>\n",
       "  </tbody>\n",
       "</table>\n",
       "</div>"
      ],
      "text/plain": [
       "                 id       num_sold\n",
       "count  136950.00000  136950.000000\n",
       "mean    68474.50000     165.522636\n",
       "std     39534.20402     183.691575\n",
       "min         0.00000       2.000000\n",
       "25%     34237.25000      46.000000\n",
       "50%     68474.50000      98.000000\n",
       "75%    102711.75000     184.000000\n",
       "max    136949.00000    1380.000000"
      ]
     },
     "execution_count": 9,
     "metadata": {},
     "output_type": "execute_result"
    }
   ],
   "source": [
    "orig_train.describe()"
   ]
  },
  {
   "cell_type": "markdown",
   "id": "b0f1b34c",
   "metadata": {
    "papermill": {
     "duration": 0.042585,
     "end_time": "2023-07-28T10:45:19.616891",
     "exception": false,
     "start_time": "2023-07-28T10:45:19.574306",
     "status": "completed"
    },
    "tags": []
   },
   "source": [
    "We'll take a look at the monthly sales per year next"
   ]
  },
  {
   "cell_type": "code",
   "execution_count": 10,
   "id": "e893e62d",
   "metadata": {
    "execution": {
     "iopub.execute_input": "2023-07-28T10:45:19.705334Z",
     "iopub.status.busy": "2023-07-28T10:45:19.704417Z",
     "iopub.status.idle": "2023-07-28T10:45:20.710662Z",
     "shell.execute_reply": "2023-07-28T10:45:20.709328Z"
    },
    "papermill": {
     "duration": 1.05296,
     "end_time": "2023-07-28T10:45:20.713529",
     "exception": false,
     "start_time": "2023-07-28T10:45:19.660569",
     "status": "completed"
    },
    "tags": []
   },
   "outputs": [
    {
     "data": {
      "image/png": "[encoded data removed]",
      "text/plain": [
       "<Figure size 1000x600 with 1 Axes>"
      ]
     },
     "metadata": {},
     "output_type": "display_data"
    }
   ],
   "source": [
    "monthly_sales = orig_train.copy()\n",
    "monthly_sales['year'] = monthly_sales['date'].dt.year\n",
    "monthly_sales['month'] = monthly_sales['date'].dt.month\n",
    "\n",
    "grouped_data = monthly_sales.groupby(['year', 'month'])['num_sold'].sum().reset_index()\n",
    "\n",
    "sns.set(style=\"darkgrid\")\n",
    "fig, ax = plt.subplots(figsize=(10, 6))\n",
    "sns.lineplot(data=monthly_sales, x='month', y='num_sold', hue='year', ax=ax, errorbar=None, palette='bright')\n",
    "ax.set_xticks(range(1, 13))\n",
    "ax.set_xticklabels(['Jan', 'Feb', 'Mar', 'Apr', 'May', 'Jun', 'Jul', 'Aug', 'Sep', 'Oct', 'Nov', 'Dec'])\n",
    "ax.set_xlabel('Month')\n",
    "ax.set_ylabel('Sales')\n",
    "ax.set_title('Monthly Sales')\n",
    "plt.show()"
   ]
  },
  {
   "cell_type": "markdown",
   "id": "80320863",
   "metadata": {
    "papermill": {
     "duration": 0.043527,
     "end_time": "2023-07-28T10:45:20.801009",
     "exception": false,
     "start_time": "2023-07-28T10:45:20.757482",
     "status": "completed"
    },
    "tags": []
   },
   "source": [
    "We can notice a significant drop in sales around the time of Covid (April 2020). This will impact our final model performance and so we'll adjust these values in a later step."
   ]
  },
  {
   "cell_type": "code",
   "execution_count": 11,
   "id": "0e990394",
   "metadata": {
    "execution": {
     "iopub.execute_input": "2023-07-28T10:45:20.890748Z",
     "iopub.status.busy": "2023-07-28T10:45:20.889980Z",
     "iopub.status.idle": "2023-07-28T10:45:20.930195Z",
     "shell.execute_reply": "2023-07-28T10:45:20.929296Z"
    },
    "papermill": {
     "duration": 0.088188,
     "end_time": "2023-07-28T10:45:20.932967",
     "exception": false,
     "start_time": "2023-07-28T10:45:20.844779",
     "status": "completed"
    },
    "tags": []
   },
   "outputs": [
    {
     "name": "stdout",
     "output_type": "stream",
     "text": [
      "<class 'pandas.core.frame.DataFrame'>\n",
      "RangeIndex: 27375 entries, 0 to 27374\n",
      "Data columns (total 5 columns):\n",
      " #   Column   Non-Null Count  Dtype         \n",
      "---  ------   --------------  -----         \n",
      " 0   id       27375 non-null  int64         \n",
      " 1   date     27375 non-null  datetime64[ns]\n",
      " 2   country  27375 non-null  object        \n",
      " 3   store    27375 non-null  object        \n",
      " 4   product  27375 non-null  object        \n",
      "dtypes: datetime64[ns](1), int64(1), object(3)\n",
      "memory usage: 1.0+ MB\n"
     ]
    }
   ],
   "source": [
    "orig_test.info()"
   ]
  },
  {
   "cell_type": "code",
   "execution_count": 12,
   "id": "f32f3ef5",
   "metadata": {
    "execution": {
     "iopub.execute_input": "2023-07-28T10:45:21.023428Z",
     "iopub.status.busy": "2023-07-28T10:45:21.022954Z",
     "iopub.status.idle": "2023-07-28T10:45:22.296261Z",
     "shell.execute_reply": "2023-07-28T10:45:22.294914Z"
    },
    "papermill": {
     "duration": 1.321869,
     "end_time": "2023-07-28T10:45:22.298890",
     "exception": false,
     "start_time": "2023-07-28T10:45:20.977021",
     "status": "completed"
    },
    "tags": []
   },
   "outputs": [
    {
     "data": {
      "image/png": "[encoded data removed]",
      "text/plain": [
       "<Figure size 800x400 with 1 Axes>"
      ]
     },
     "metadata": {},
     "output_type": "display_data"
    }
   ],
   "source": [
    "# Plotting a distribution of target variable, num_sold\n",
    "plt.figure(figsize=(8,4))\n",
    "sns.histplot(orig_train['num_sold'], color='b', bins=30, kde=True)\n",
    "plt.title('Number Sold Distribution')\n",
    "\n",
    "plt.show()"
   ]
  },
  {
   "cell_type": "markdown",
   "id": "ad812515",
   "metadata": {
    "papermill": {
     "duration": 0.044156,
     "end_time": "2023-07-28T10:45:22.388112",
     "exception": false,
     "start_time": "2023-07-28T10:45:22.343956",
     "status": "completed"
    },
    "tags": []
   },
   "source": [
    "The target variable distribution is stongly right-skewed, later we'll use a log transformation to amend this."
   ]
  },
  {
   "cell_type": "markdown",
   "id": "377ad0e7",
   "metadata": {
    "papermill": {
     "duration": 0.044437,
     "end_time": "2023-07-28T10:45:22.479015",
     "exception": false,
     "start_time": "2023-07-28T10:45:22.434578",
     "status": "completed"
    },
    "tags": []
   },
   "source": [
    "### Initial Observations:\n",
    "- Our train and test sets contain a mix of categorical and numerical data.\n",
    "- Our target variable is strongly right-skewed\n",
    "- There is a significant drop in sales around the time of Covid (April 2020)"
   ]
  },
  {
   "cell_type": "markdown",
   "id": "aec631fe",
   "metadata": {
    "papermill": {
     "duration": 0.044259,
     "end_time": "2023-07-28T10:45:22.568057",
     "exception": false,
     "start_time": "2023-07-28T10:45:22.523798",
     "status": "completed"
    },
    "tags": []
   },
   "source": [
    "### Covid Sales "
   ]
  },
  {
   "cell_type": "code",
   "execution_count": 13,
   "id": "fa78bf12",
   "metadata": {
    "execution": {
     "iopub.execute_input": "2023-07-28T10:45:22.660410Z",
     "iopub.status.busy": "2023-07-28T10:45:22.659732Z",
     "iopub.status.idle": "2023-07-28T10:45:22.699444Z",
     "shell.execute_reply": "2023-07-28T10:45:22.698175Z"
    },
    "papermill": {
     "duration": 0.089257,
     "end_time": "2023-07-28T10:45:22.702061",
     "exception": false,
     "start_time": "2023-07-28T10:45:22.612804",
     "status": "completed"
    },
    "tags": []
   },
   "outputs": [
    {
     "data": {
      "text/html": [
       "<div>\n",
       "<style scoped>\n",
       "    .dataframe tbody tr th:only-of-type {\n",
       "        vertical-align: middle;\n",
       "    }\n",
       "\n",
       "    .dataframe tbody tr th {\n",
       "        vertical-align: top;\n",
       "    }\n",
       "\n",
       "    .dataframe thead th {\n",
       "        text-align: right;\n",
       "    }\n",
       "</style>\n",
       "<table border=\"1\" class=\"dataframe\">\n",
       "  <thead>\n",
       "    <tr style=\"text-align: right;\">\n",
       "      <th></th>\n",
       "      <th>id</th>\n",
       "      <th>date</th>\n",
       "      <th>country</th>\n",
       "      <th>store</th>\n",
       "      <th>product</th>\n",
       "      <th>num_sold</th>\n",
       "      <th>year</th>\n",
       "      <th>month</th>\n",
       "    </tr>\n",
       "  </thead>\n",
       "  <tbody>\n",
       "    <tr>\n",
       "      <th>0</th>\n",
       "      <td>0</td>\n",
       "      <td>2017-01-01</td>\n",
       "      <td>Argentina</td>\n",
       "      <td>Kaggle Learn</td>\n",
       "      <td>Using LLMs to Improve Your Coding</td>\n",
       "      <td>63.0</td>\n",
       "      <td>2017</td>\n",
       "      <td>1</td>\n",
       "    </tr>\n",
       "    <tr>\n",
       "      <th>1</th>\n",
       "      <td>1</td>\n",
       "      <td>2017-01-01</td>\n",
       "      <td>Argentina</td>\n",
       "      <td>Kaggle Learn</td>\n",
       "      <td>Using LLMs to Train More LLMs</td>\n",
       "      <td>66.0</td>\n",
       "      <td>2017</td>\n",
       "      <td>1</td>\n",
       "    </tr>\n",
       "    <tr>\n",
       "      <th>2</th>\n",
       "      <td>2</td>\n",
       "      <td>2017-01-01</td>\n",
       "      <td>Argentina</td>\n",
       "      <td>Kaggle Learn</td>\n",
       "      <td>Using LLMs to Win Friends and Influence People</td>\n",
       "      <td>9.0</td>\n",
       "      <td>2017</td>\n",
       "      <td>1</td>\n",
       "    </tr>\n",
       "    <tr>\n",
       "      <th>3</th>\n",
       "      <td>3</td>\n",
       "      <td>2017-01-01</td>\n",
       "      <td>Argentina</td>\n",
       "      <td>Kaggle Learn</td>\n",
       "      <td>Using LLMs to Win More Kaggle Competitions</td>\n",
       "      <td>59.0</td>\n",
       "      <td>2017</td>\n",
       "      <td>1</td>\n",
       "    </tr>\n",
       "    <tr>\n",
       "      <th>4</th>\n",
       "      <td>4</td>\n",
       "      <td>2017-01-01</td>\n",
       "      <td>Argentina</td>\n",
       "      <td>Kaggle Learn</td>\n",
       "      <td>Using LLMs to Write Better</td>\n",
       "      <td>49.0</td>\n",
       "      <td>2017</td>\n",
       "      <td>1</td>\n",
       "    </tr>\n",
       "    <tr>\n",
       "      <th>...</th>\n",
       "      <td>...</td>\n",
       "      <td>...</td>\n",
       "      <td>...</td>\n",
       "      <td>...</td>\n",
       "      <td>...</td>\n",
       "      <td>...</td>\n",
       "      <td>...</td>\n",
       "      <td>...</td>\n",
       "    </tr>\n",
       "    <tr>\n",
       "      <th>136945</th>\n",
       "      <td>136945</td>\n",
       "      <td>2021-12-31</td>\n",
       "      <td>Spain</td>\n",
       "      <td>Kagglazon</td>\n",
       "      <td>Using LLMs to Improve Your Coding</td>\n",
       "      <td>700.0</td>\n",
       "      <td>2021</td>\n",
       "      <td>12</td>\n",
       "    </tr>\n",
       "    <tr>\n",
       "      <th>136946</th>\n",
       "      <td>136946</td>\n",
       "      <td>2021-12-31</td>\n",
       "      <td>Spain</td>\n",
       "      <td>Kagglazon</td>\n",
       "      <td>Using LLMs to Train More LLMs</td>\n",
       "      <td>752.0</td>\n",
       "      <td>2021</td>\n",
       "      <td>12</td>\n",
       "    </tr>\n",
       "    <tr>\n",
       "      <th>136947</th>\n",
       "      <td>136947</td>\n",
       "      <td>2021-12-31</td>\n",
       "      <td>Spain</td>\n",
       "      <td>Kagglazon</td>\n",
       "      <td>Using LLMs to Win Friends and Influence People</td>\n",
       "      <td>111.0</td>\n",
       "      <td>2021</td>\n",
       "      <td>12</td>\n",
       "    </tr>\n",
       "    <tr>\n",
       "      <th>136948</th>\n",
       "      <td>136948</td>\n",
       "      <td>2021-12-31</td>\n",
       "      <td>Spain</td>\n",
       "      <td>Kagglazon</td>\n",
       "      <td>Using LLMs to Win More Kaggle Competitions</td>\n",
       "      <td>641.0</td>\n",
       "      <td>2021</td>\n",
       "      <td>12</td>\n",
       "    </tr>\n",
       "    <tr>\n",
       "      <th>136949</th>\n",
       "      <td>136949</td>\n",
       "      <td>2021-12-31</td>\n",
       "      <td>Spain</td>\n",
       "      <td>Kagglazon</td>\n",
       "      <td>Using LLMs to Write Better</td>\n",
       "      <td>539.0</td>\n",
       "      <td>2021</td>\n",
       "      <td>12</td>\n",
       "    </tr>\n",
       "  </tbody>\n",
       "</table>\n",
       "<p>136950 rows × 8 columns</p>\n",
       "</div>"
      ],
      "text/plain": [
       "            id       date    country         store  \\\n",
       "0            0 2017-01-01  Argentina  Kaggle Learn   \n",
       "1            1 2017-01-01  Argentina  Kaggle Learn   \n",
       "2            2 2017-01-01  Argentina  Kaggle Learn   \n",
       "3            3 2017-01-01  Argentina  Kaggle Learn   \n",
       "4            4 2017-01-01  Argentina  Kaggle Learn   \n",
       "...        ...        ...        ...           ...   \n",
       "136945  136945 2021-12-31      Spain     Kagglazon   \n",
       "136946  136946 2021-12-31      Spain     Kagglazon   \n",
       "136947  136947 2021-12-31      Spain     Kagglazon   \n",
       "136948  136948 2021-12-31      Spain     Kagglazon   \n",
       "136949  136949 2021-12-31      Spain     Kagglazon   \n",
       "\n",
       "                                               product  num_sold  year  month  \n",
       "0                    Using LLMs to Improve Your Coding      63.0  2017      1  \n",
       "1                        Using LLMs to Train More LLMs      66.0  2017      1  \n",
       "2       Using LLMs to Win Friends and Influence People       9.0  2017      1  \n",
       "3           Using LLMs to Win More Kaggle Competitions      59.0  2017      1  \n",
       "4                           Using LLMs to Write Better      49.0  2017      1  \n",
       "...                                                ...       ...   ...    ...  \n",
       "136945               Using LLMs to Improve Your Coding     700.0  2021     12  \n",
       "136946                   Using LLMs to Train More LLMs     752.0  2021     12  \n",
       "136947  Using LLMs to Win Friends and Influence People     111.0  2021     12  \n",
       "136948      Using LLMs to Win More Kaggle Competitions     641.0  2021     12  \n",
       "136949                      Using LLMs to Write Better     539.0  2021     12  \n",
       "\n",
       "[136950 rows x 8 columns]"
      ]
     },
     "execution_count": 13,
     "metadata": {},
     "output_type": "execute_result"
    }
   ],
   "source": [
    "monthly_sales_amended = monthly_sales.copy()\n",
    "\n",
    "april_adjust = (monthly_sales_amended['year'] == 2020) & (monthly_sales_amended['month'] == 4)\n",
    "adjustment_factor_april = 1.2\n",
    "monthly_sales_amended.loc[april_adjust, 'num_sold'] *= adjustment_factor_april\n",
    "\n",
    "may_adjust = (monthly_sales_amended['year'] == 2020) & (monthly_sales_amended['month'] == 5)\n",
    "adjustment_factor_may = 1.05\n",
    "monthly_sales_amended.loc[may_adjust, 'num_sold'] *= adjustment_factor_may\n",
    "\n",
    "monthly_sales_amended"
   ]
  },
  {
   "cell_type": "code",
   "execution_count": 14,
   "id": "596195b7",
   "metadata": {
    "execution": {
     "iopub.execute_input": "2023-07-28T10:45:22.793572Z",
     "iopub.status.busy": "2023-07-28T10:45:22.793144Z",
     "iopub.status.idle": "2023-07-28T10:45:24.307919Z",
     "shell.execute_reply": "2023-07-28T10:45:24.306480Z"
    },
    "papermill": {
     "duration": 1.565517,
     "end_time": "2023-07-28T10:45:24.312447",
     "exception": false,
     "start_time": "2023-07-28T10:45:22.746930",
     "status": "completed"
    },
    "tags": []
   },
   "outputs": [
    {
     "data": {
      "image/png": "[encoded data removed]",
      "text/plain": [
       "<Figure size 2500x1000 with 2 Axes>"
      ]
     },
     "metadata": {},
     "output_type": "display_data"
    }
   ],
   "source": [
    "plt.figure(figsize=(25, 10))\n",
    "\n",
    "# Original Data\n",
    "plt.subplot(1, 2, 1)\n",
    "grouped_data = monthly_sales.groupby(['year', 'month'])['num_sold'].sum().reset_index()\n",
    "\n",
    "sns.set(style=\"darkgrid\")\n",
    "ax = sns.lineplot(data=monthly_sales, x='month', y='num_sold', hue='year', errorbar=None, palette='bright')\n",
    "ax.set_xticks(range(1, 13))\n",
    "ax.set_xticklabels(['Jan', 'Feb', 'Mar', 'Apr', 'May', 'Jun', 'Jul', 'Aug', 'Sep', 'Oct', 'Nov', 'Dec'])\n",
    "ax.set_xlabel('Month')\n",
    "ax.set_ylabel('Sales')\n",
    "ax.set_title('Monthly Sales')\n",
    "\n",
    "# Amended Data\n",
    "plt.subplot(1, 2, 2)\n",
    "grouped_data = monthly_sales.groupby(['year', 'month'])['num_sold'].sum().reset_index()\n",
    "\n",
    "sns.set(style=\"darkgrid\")\n",
    "ax = sns.lineplot(data=monthly_sales_amended, x='month', y='num_sold', hue='year', errorbar=None, palette='bright')\n",
    "ax.set_xticks(range(1, 13))\n",
    "ax.set_xticklabels(['Jan', 'Feb', 'Mar', 'Apr', 'May', 'Jun', 'Jul', 'Aug', 'Sep', 'Oct', 'Nov', 'Dec'])\n",
    "ax.set_xlabel('Month')\n",
    "ax.set_ylabel('Sales')\n",
    "ax.set_title('Monthly Sales (no Covid)')\n",
    "\n",
    "plt.show()\n"
   ]
  },
  {
   "cell_type": "markdown",
   "id": "aadc80c7",
   "metadata": {
    "papermill": {
     "duration": 0.04803,
     "end_time": "2023-07-28T10:45:24.409348",
     "exception": false,
     "start_time": "2023-07-28T10:45:24.361318",
     "status": "completed"
    },
    "tags": []
   },
   "source": [
    "We'll continue by using the adjusted values for the covid period sales."
   ]
  },
  {
   "cell_type": "code",
   "execution_count": 15,
   "id": "5214e80b",
   "metadata": {
    "execution": {
     "iopub.execute_input": "2023-07-28T10:45:24.514308Z",
     "iopub.status.busy": "2023-07-28T10:45:24.513834Z",
     "iopub.status.idle": "2023-07-28T10:45:24.525034Z",
     "shell.execute_reply": "2023-07-28T10:45:24.524160Z"
    },
    "papermill": {
     "duration": 0.065884,
     "end_time": "2023-07-28T10:45:24.527545",
     "exception": false,
     "start_time": "2023-07-28T10:45:24.461661",
     "status": "completed"
    },
    "tags": []
   },
   "outputs": [],
   "source": [
    "train_clean = orig_train.copy()"
   ]
  },
  {
   "cell_type": "code",
   "execution_count": 16,
   "id": "e793cbc9",
   "metadata": {
    "execution": {
     "iopub.execute_input": "2023-07-28T10:45:24.625430Z",
     "iopub.status.busy": "2023-07-28T10:45:24.624977Z",
     "iopub.status.idle": "2023-07-28T10:45:27.807007Z",
     "shell.execute_reply": "2023-07-28T10:45:27.805797Z"
    },
    "papermill": {
     "duration": 3.23464,
     "end_time": "2023-07-28T10:45:27.809845",
     "exception": false,
     "start_time": "2023-07-28T10:45:24.575205",
     "status": "completed"
    },
    "tags": []
   },
   "outputs": [],
   "source": [
    "def covid_adjustment(row):\n",
    "    april_adjustment_factor = 1.2\n",
    "    may_adjustment_factor = 1.05\n",
    "    if row['date'].year == 2020:\n",
    "        if row['date'].month == 4:  # April\n",
    "            return row['num_sold'] * april_adjustment_factor\n",
    "        elif row['date'].month == 5:  # May\n",
    "            return row['num_sold'] * may_adjustment_factor\n",
    "        else:\n",
    "            return row['num_sold']\n",
    "    else:\n",
    "        return row['num_sold']\n",
    "\n",
    "# Apply the adjustments to the num_sold column in the train_clean df\n",
    "train_clean['num_sold'] = train_clean.apply(covid_adjustment, axis=1)"
   ]
  },
  {
   "cell_type": "markdown",
   "id": "f806d50d",
   "metadata": {
    "papermill": {
     "duration": 0.048506,
     "end_time": "2023-07-28T10:45:27.907010",
     "exception": false,
     "start_time": "2023-07-28T10:45:27.858504",
     "status": "completed"
    },
    "tags": []
   },
   "source": [
    "## Step 2: Combining Train & Test Datasets\n",
    "\n",
    "We'll combine both our datasets before performing transformations on our categorical and numeric data."
   ]
  },
  {
   "cell_type": "code",
   "execution_count": 17,
   "id": "3fea0683",
   "metadata": {
    "execution": {
     "iopub.execute_input": "2023-07-28T10:45:28.005569Z",
     "iopub.status.busy": "2023-07-28T10:45:28.004519Z",
     "iopub.status.idle": "2023-07-28T10:45:28.194070Z",
     "shell.execute_reply": "2023-07-28T10:45:28.192335Z"
    },
    "papermill": {
     "duration": 0.242246,
     "end_time": "2023-07-28T10:45:28.197041",
     "exception": false,
     "start_time": "2023-07-28T10:45:27.954795",
     "status": "completed"
    },
    "tags": []
   },
   "outputs": [
    {
     "name": "stdout",
     "output_type": "stream",
     "text": [
      "<class 'pandas.core.frame.DataFrame'>\n",
      "RangeIndex: 164325 entries, 0 to 164324\n",
      "Data columns (total 4 columns):\n",
      " #   Column   Non-Null Count   Dtype         \n",
      "---  ------   --------------   -----         \n",
      " 0   date     164325 non-null  datetime64[ns]\n",
      " 1   country  164325 non-null  object        \n",
      " 2   store    164325 non-null  object        \n",
      " 3   product  164325 non-null  object        \n",
      "dtypes: datetime64[ns](1), object(3)\n",
      "memory usage: 5.0+ MB\n"
     ]
    }
   ],
   "source": [
    "# Combining the data\n",
    "\n",
    "# Isolating the target variable \n",
    "target_var = train_clean['num_sold']\n",
    "\n",
    "# Isolating the Id column - it isn't needed in the analysis but is for testing the predictions \n",
    "ids = orig_test['id']\n",
    "\n",
    "# Dropping target_var and ids from the datasets\n",
    "\n",
    "new_train = train_clean.drop(['id','num_sold'],axis=1)\n",
    "new_test = orig_test.drop('id',axis=1)\n",
    "\n",
    "# Creating a new df with the combined data\n",
    "combined_data = pd.concat([new_train, new_test], axis=0).reset_index(drop=True)\n",
    "\n",
    "combined_data.info()"
   ]
  },
  {
   "cell_type": "markdown",
   "id": "4d9cb90e",
   "metadata": {
    "papermill": {
     "duration": 0.048326,
     "end_time": "2023-07-28T10:45:28.293985",
     "exception": false,
     "start_time": "2023-07-28T10:45:28.245659",
     "status": "completed"
    },
    "tags": []
   },
   "source": [
    "## Step 3: Identifying Holidays & Weekends\n",
    "\n",
    "Holidays and weekends are known to have an impact on the sales of many products around the world. To get the most from our model we will identify and highlight these time periods."
   ]
  },
  {
   "cell_type": "code",
   "execution_count": 18,
   "id": "9f6cdc4c",
   "metadata": {
    "execution": {
     "iopub.execute_input": "2023-07-28T10:45:28.393239Z",
     "iopub.status.busy": "2023-07-28T10:45:28.392724Z",
     "iopub.status.idle": "2023-07-28T10:45:28.466543Z",
     "shell.execute_reply": "2023-07-28T10:45:28.465354Z"
    },
    "papermill": {
     "duration": 0.126377,
     "end_time": "2023-07-28T10:45:28.469318",
     "exception": false,
     "start_time": "2023-07-28T10:45:28.342941",
     "status": "completed"
    },
    "tags": []
   },
   "outputs": [],
   "source": [
    "# Extracting datetime objects from our date column\n",
    "combined_data['year'] = combined_data['date'].dt.year\n",
    "combined_data['month'] = combined_data['date'].dt.month\n",
    "combined_data['day'] = combined_data['date'].dt.day\n",
    "combined_data['dayofweek'] = combined_data.date.dt.dayofweek"
   ]
  },
  {
   "cell_type": "code",
   "execution_count": 19,
   "id": "bdf157ee",
   "metadata": {
    "execution": {
     "iopub.execute_input": "2023-07-28T10:45:28.569693Z",
     "iopub.status.busy": "2023-07-28T10:45:28.568672Z",
     "iopub.status.idle": "2023-07-28T10:45:28.596414Z",
     "shell.execute_reply": "2023-07-28T10:45:28.595044Z"
    },
    "papermill": {
     "duration": 0.08037,
     "end_time": "2023-07-28T10:45:28.599330",
     "exception": false,
     "start_time": "2023-07-28T10:45:28.518960",
     "status": "completed"
    },
    "tags": []
   },
   "outputs": [],
   "source": [
    "# Identifying weekends\n",
    "combined_data['is_weekend'] = combined_data['date'].dt.dayofweek.isin([5, 6]).astype(int)"
   ]
  },
  {
   "cell_type": "code",
   "execution_count": 20,
   "id": "2d2edfee",
   "metadata": {
    "execution": {
     "iopub.execute_input": "2023-07-28T10:45:28.699535Z",
     "iopub.status.busy": "2023-07-28T10:45:28.699134Z",
     "iopub.status.idle": "2023-07-28T10:45:28.911966Z",
     "shell.execute_reply": "2023-07-28T10:45:28.910844Z"
    },
    "papermill": {
     "duration": 0.266007,
     "end_time": "2023-07-28T10:45:28.914493",
     "exception": false,
     "start_time": "2023-07-28T10:45:28.648486",
     "status": "completed"
    },
    "tags": []
   },
   "outputs": [
    {
     "data": {
      "text/html": [
       "<div>\n",
       "<style scoped>\n",
       "    .dataframe tbody tr th:only-of-type {\n",
       "        vertical-align: middle;\n",
       "    }\n",
       "\n",
       "    .dataframe tbody tr th {\n",
       "        vertical-align: top;\n",
       "    }\n",
       "\n",
       "    .dataframe thead th {\n",
       "        text-align: right;\n",
       "    }\n",
       "</style>\n",
       "<table border=\"1\" class=\"dataframe\">\n",
       "  <thead>\n",
       "    <tr style=\"text-align: right;\">\n",
       "      <th></th>\n",
       "      <th>date</th>\n",
       "      <th>country</th>\n",
       "      <th>store</th>\n",
       "      <th>product</th>\n",
       "      <th>year</th>\n",
       "      <th>month</th>\n",
       "      <th>day</th>\n",
       "      <th>dayofweek</th>\n",
       "      <th>is_weekend</th>\n",
       "      <th>holiday</th>\n",
       "    </tr>\n",
       "  </thead>\n",
       "  <tbody>\n",
       "    <tr>\n",
       "      <th>0</th>\n",
       "      <td>2017-01-01</td>\n",
       "      <td>Argentina</td>\n",
       "      <td>Kaggle Learn</td>\n",
       "      <td>Using LLMs to Improve Your Coding</td>\n",
       "      <td>2017</td>\n",
       "      <td>1</td>\n",
       "      <td>1</td>\n",
       "      <td>6</td>\n",
       "      <td>1</td>\n",
       "      <td>1</td>\n",
       "    </tr>\n",
       "    <tr>\n",
       "      <th>1</th>\n",
       "      <td>2017-01-01</td>\n",
       "      <td>Argentina</td>\n",
       "      <td>Kaggle Learn</td>\n",
       "      <td>Using LLMs to Train More LLMs</td>\n",
       "      <td>2017</td>\n",
       "      <td>1</td>\n",
       "      <td>1</td>\n",
       "      <td>6</td>\n",
       "      <td>1</td>\n",
       "      <td>1</td>\n",
       "    </tr>\n",
       "    <tr>\n",
       "      <th>2</th>\n",
       "      <td>2017-01-01</td>\n",
       "      <td>Argentina</td>\n",
       "      <td>Kaggle Learn</td>\n",
       "      <td>Using LLMs to Win Friends and Influence People</td>\n",
       "      <td>2017</td>\n",
       "      <td>1</td>\n",
       "      <td>1</td>\n",
       "      <td>6</td>\n",
       "      <td>1</td>\n",
       "      <td>1</td>\n",
       "    </tr>\n",
       "    <tr>\n",
       "      <th>3</th>\n",
       "      <td>2017-01-01</td>\n",
       "      <td>Argentina</td>\n",
       "      <td>Kaggle Learn</td>\n",
       "      <td>Using LLMs to Win More Kaggle Competitions</td>\n",
       "      <td>2017</td>\n",
       "      <td>1</td>\n",
       "      <td>1</td>\n",
       "      <td>6</td>\n",
       "      <td>1</td>\n",
       "      <td>1</td>\n",
       "    </tr>\n",
       "    <tr>\n",
       "      <th>4</th>\n",
       "      <td>2017-01-01</td>\n",
       "      <td>Argentina</td>\n",
       "      <td>Kaggle Learn</td>\n",
       "      <td>Using LLMs to Write Better</td>\n",
       "      <td>2017</td>\n",
       "      <td>1</td>\n",
       "      <td>1</td>\n",
       "      <td>6</td>\n",
       "      <td>1</td>\n",
       "      <td>1</td>\n",
       "    </tr>\n",
       "    <tr>\n",
       "      <th>...</th>\n",
       "      <td>...</td>\n",
       "      <td>...</td>\n",
       "      <td>...</td>\n",
       "      <td>...</td>\n",
       "      <td>...</td>\n",
       "      <td>...</td>\n",
       "      <td>...</td>\n",
       "      <td>...</td>\n",
       "      <td>...</td>\n",
       "      <td>...</td>\n",
       "    </tr>\n",
       "    <tr>\n",
       "      <th>164320</th>\n",
       "      <td>2022-12-31</td>\n",
       "      <td>Spain</td>\n",
       "      <td>Kagglazon</td>\n",
       "      <td>Using LLMs to Improve Your Coding</td>\n",
       "      <td>2022</td>\n",
       "      <td>12</td>\n",
       "      <td>31</td>\n",
       "      <td>5</td>\n",
       "      <td>1</td>\n",
       "      <td>0</td>\n",
       "    </tr>\n",
       "    <tr>\n",
       "      <th>164321</th>\n",
       "      <td>2022-12-31</td>\n",
       "      <td>Spain</td>\n",
       "      <td>Kagglazon</td>\n",
       "      <td>Using LLMs to Train More LLMs</td>\n",
       "      <td>2022</td>\n",
       "      <td>12</td>\n",
       "      <td>31</td>\n",
       "      <td>5</td>\n",
       "      <td>1</td>\n",
       "      <td>0</td>\n",
       "    </tr>\n",
       "    <tr>\n",
       "      <th>164322</th>\n",
       "      <td>2022-12-31</td>\n",
       "      <td>Spain</td>\n",
       "      <td>Kagglazon</td>\n",
       "      <td>Using LLMs to Win Friends and Influence People</td>\n",
       "      <td>2022</td>\n",
       "      <td>12</td>\n",
       "      <td>31</td>\n",
       "      <td>5</td>\n",
       "      <td>1</td>\n",
       "      <td>0</td>\n",
       "    </tr>\n",
       "    <tr>\n",
       "      <th>164323</th>\n",
       "      <td>2022-12-31</td>\n",
       "      <td>Spain</td>\n",
       "      <td>Kagglazon</td>\n",
       "      <td>Using LLMs to Win More Kaggle Competitions</td>\n",
       "      <td>2022</td>\n",
       "      <td>12</td>\n",
       "      <td>31</td>\n",
       "      <td>5</td>\n",
       "      <td>1</td>\n",
       "      <td>0</td>\n",
       "    </tr>\n",
       "    <tr>\n",
       "      <th>164324</th>\n",
       "      <td>2022-12-31</td>\n",
       "      <td>Spain</td>\n",
       "      <td>Kagglazon</td>\n",
       "      <td>Using LLMs to Write Better</td>\n",
       "      <td>2022</td>\n",
       "      <td>12</td>\n",
       "      <td>31</td>\n",
       "      <td>5</td>\n",
       "      <td>1</td>\n",
       "      <td>0</td>\n",
       "    </tr>\n",
       "  </tbody>\n",
       "</table>\n",
       "<p>164325 rows × 10 columns</p>\n",
       "</div>"
      ],
      "text/plain": [
       "             date    country         store  \\\n",
       "0      2017-01-01  Argentina  Kaggle Learn   \n",
       "1      2017-01-01  Argentina  Kaggle Learn   \n",
       "2      2017-01-01  Argentina  Kaggle Learn   \n",
       "3      2017-01-01  Argentina  Kaggle Learn   \n",
       "4      2017-01-01  Argentina  Kaggle Learn   \n",
       "...           ...        ...           ...   \n",
       "164320 2022-12-31      Spain     Kagglazon   \n",
       "164321 2022-12-31      Spain     Kagglazon   \n",
       "164322 2022-12-31      Spain     Kagglazon   \n",
       "164323 2022-12-31      Spain     Kagglazon   \n",
       "164324 2022-12-31      Spain     Kagglazon   \n",
       "\n",
       "                                               product  year  month  day  \\\n",
       "0                    Using LLMs to Improve Your Coding  2017      1    1   \n",
       "1                        Using LLMs to Train More LLMs  2017      1    1   \n",
       "2       Using LLMs to Win Friends and Influence People  2017      1    1   \n",
       "3           Using LLMs to Win More Kaggle Competitions  2017      1    1   \n",
       "4                           Using LLMs to Write Better  2017      1    1   \n",
       "...                                                ...   ...    ...  ...   \n",
       "164320               Using LLMs to Improve Your Coding  2022     12   31   \n",
       "164321                   Using LLMs to Train More LLMs  2022     12   31   \n",
       "164322  Using LLMs to Win Friends and Influence People  2022     12   31   \n",
       "164323      Using LLMs to Win More Kaggle Competitions  2022     12   31   \n",
       "164324                      Using LLMs to Write Better  2022     12   31   \n",
       "\n",
       "        dayofweek  is_weekend  holiday  \n",
       "0               6           1        1  \n",
       "1               6           1        1  \n",
       "2               6           1        1  \n",
       "3               6           1        1  \n",
       "4               6           1        1  \n",
       "...           ...         ...      ...  \n",
       "164320          5           1        0  \n",
       "164321          5           1        0  \n",
       "164322          5           1        0  \n",
       "164323          5           1        0  \n",
       "164324          5           1        0  \n",
       "\n",
       "[164325 rows x 10 columns]"
      ]
     },
     "execution_count": 20,
     "metadata": {},
     "output_type": "execute_result"
    }
   ],
   "source": [
    "# Identifying holidays\n",
    "country_names = ['Argentina','Spain','Estonia','Japan','Canada']\n",
    "# Creating a blank df to hold all country holiday info\n",
    "holiday_df = pd.DataFrame()\n",
    "\n",
    "# Iterating through country_names and creating a dataframe for each country's holidays\n",
    "for country in country_names:\n",
    "    country_hols = pd.DataFrame(holidays.country_holidays(country,years=range(2017,2023)).items(), columns=['date', 'name'])\n",
    "    country_hols['country'] = country\n",
    "    # Appending each country's holiday df to the holiday_df\n",
    "    holiday_df = pd.concat([holiday_df,country_hols],axis=0, ignore_index=True)\n",
    "    \n",
    "# Converting date column from object to dt for merge    \n",
    "holiday_df['date'] = pd.to_datetime(holiday_df['date'])\n",
    "\n",
    "# Merging the dataframes using a left join, this way we'll keep only those dates that are holidays\n",
    "combined_final = combined_data.merge(holiday_df[['date','country']], on=['date','country'],how='left', indicator=True)\n",
    "\n",
    "# Adding a holiday column that indicates if the day is a holiday\n",
    "combined_final['holiday'] = combined_final['_merge'].apply(lambda x: 1 if x=='both' else 0)\n",
    "combined_final = combined_final.drop(columns='_merge', axis=1)\n",
    "\n",
    "combined_final = combined_final[['date','country','store','product','year','month','day','dayofweek','is_weekend','holiday']]\n",
    "combined_final"
   ]
  },
  {
   "cell_type": "code",
   "execution_count": 21,
   "id": "f158b966",
   "metadata": {
    "execution": {
     "iopub.execute_input": "2023-07-28T10:45:29.012887Z",
     "iopub.status.busy": "2023-07-28T10:45:29.012498Z",
     "iopub.status.idle": "2023-07-28T10:45:29.024174Z",
     "shell.execute_reply": "2023-07-28T10:45:29.022904Z"
    },
    "papermill": {
     "duration": 0.064136,
     "end_time": "2023-07-28T10:45:29.026779",
     "exception": false,
     "start_time": "2023-07-28T10:45:28.962643",
     "status": "completed"
    },
    "tags": []
   },
   "outputs": [],
   "source": [
    "combined_final_df = combined_final.copy()\n",
    "\n",
    "# Isolating our country names before we transform the country column\n",
    "combined_final_df['country_name'] = combined_final['country']"
   ]
  },
  {
   "cell_type": "markdown",
   "id": "902bae7d",
   "metadata": {
    "papermill": {
     "duration": 0.049196,
     "end_time": "2023-07-28T10:45:29.124807",
     "exception": false,
     "start_time": "2023-07-28T10:45:29.075611",
     "status": "completed"
    },
    "tags": []
   },
   "source": [
    "## Feature Transformations"
   ]
  },
  {
   "cell_type": "code",
   "execution_count": 22,
   "id": "702bb168",
   "metadata": {
    "execution": {
     "iopub.execute_input": "2023-07-28T10:45:29.227364Z",
     "iopub.status.busy": "2023-07-28T10:45:29.226563Z",
     "iopub.status.idle": "2023-07-28T10:45:29.396018Z",
     "shell.execute_reply": "2023-07-28T10:45:29.394675Z"
    },
    "papermill": {
     "duration": 0.224341,
     "end_time": "2023-07-28T10:45:29.398920",
     "exception": false,
     "start_time": "2023-07-28T10:45:29.174579",
     "status": "completed"
    },
    "tags": []
   },
   "outputs": [],
   "source": [
    "# Encoding Categorical Columns\n",
    "le = LabelEncoder()\n",
    "\n",
    "combined_final_df['store'] = le.fit_transform(combined_final_df['store'])\n",
    "combined_final_df['product'] = le.fit_transform(combined_final_df['product'])\n",
    "combined_final_df['country'] = le.fit_transform(combined_final_df['country'])"
   ]
  },
  {
   "cell_type": "code",
   "execution_count": 23,
   "id": "c1888bb0",
   "metadata": {
    "execution": {
     "iopub.execute_input": "2023-07-28T10:45:29.500261Z",
     "iopub.status.busy": "2023-07-28T10:45:29.498989Z",
     "iopub.status.idle": "2023-07-28T10:45:30.765069Z",
     "shell.execute_reply": "2023-07-28T10:45:30.763416Z"
    },
    "papermill": {
     "duration": 1.318965,
     "end_time": "2023-07-28T10:45:30.767651",
     "exception": false,
     "start_time": "2023-07-28T10:45:29.448686",
     "status": "completed"
    },
    "tags": []
   },
   "outputs": [
    {
     "data": {
      "text/html": [
       "<div>\n",
       "<style scoped>\n",
       "    .dataframe tbody tr th:only-of-type {\n",
       "        vertical-align: middle;\n",
       "    }\n",
       "\n",
       "    .dataframe tbody tr th {\n",
       "        vertical-align: top;\n",
       "    }\n",
       "\n",
       "    .dataframe thead th {\n",
       "        text-align: right;\n",
       "    }\n",
       "</style>\n",
       "<table border=\"1\" class=\"dataframe\">\n",
       "  <thead>\n",
       "    <tr style=\"text-align: right;\">\n",
       "      <th></th>\n",
       "      <th>date</th>\n",
       "      <th>country</th>\n",
       "      <th>store</th>\n",
       "      <th>product</th>\n",
       "      <th>year</th>\n",
       "      <th>month</th>\n",
       "      <th>day</th>\n",
       "      <th>dayofweek</th>\n",
       "      <th>is_weekend</th>\n",
       "      <th>holiday</th>\n",
       "      <th>country_name</th>\n",
       "      <th>month_cos</th>\n",
       "      <th>day_sin</th>\n",
       "      <th>day_cos</th>\n",
       "    </tr>\n",
       "  </thead>\n",
       "  <tbody>\n",
       "    <tr>\n",
       "      <th>0</th>\n",
       "      <td>2017-01-01</td>\n",
       "      <td>0</td>\n",
       "      <td>1</td>\n",
       "      <td>0</td>\n",
       "      <td>2017</td>\n",
       "      <td>1</td>\n",
       "      <td>1</td>\n",
       "      <td>6</td>\n",
       "      <td>1</td>\n",
       "      <td>1</td>\n",
       "      <td>Argentina</td>\n",
       "      <td>0.866025</td>\n",
       "      <td>0.017213</td>\n",
       "      <td>0.999852</td>\n",
       "    </tr>\n",
       "    <tr>\n",
       "      <th>1</th>\n",
       "      <td>2017-01-01</td>\n",
       "      <td>0</td>\n",
       "      <td>1</td>\n",
       "      <td>1</td>\n",
       "      <td>2017</td>\n",
       "      <td>1</td>\n",
       "      <td>1</td>\n",
       "      <td>6</td>\n",
       "      <td>1</td>\n",
       "      <td>1</td>\n",
       "      <td>Argentina</td>\n",
       "      <td>0.866025</td>\n",
       "      <td>0.017213</td>\n",
       "      <td>0.999852</td>\n",
       "    </tr>\n",
       "    <tr>\n",
       "      <th>2</th>\n",
       "      <td>2017-01-01</td>\n",
       "      <td>0</td>\n",
       "      <td>1</td>\n",
       "      <td>2</td>\n",
       "      <td>2017</td>\n",
       "      <td>1</td>\n",
       "      <td>1</td>\n",
       "      <td>6</td>\n",
       "      <td>1</td>\n",
       "      <td>1</td>\n",
       "      <td>Argentina</td>\n",
       "      <td>0.866025</td>\n",
       "      <td>0.017213</td>\n",
       "      <td>0.999852</td>\n",
       "    </tr>\n",
       "    <tr>\n",
       "      <th>3</th>\n",
       "      <td>2017-01-01</td>\n",
       "      <td>0</td>\n",
       "      <td>1</td>\n",
       "      <td>3</td>\n",
       "      <td>2017</td>\n",
       "      <td>1</td>\n",
       "      <td>1</td>\n",
       "      <td>6</td>\n",
       "      <td>1</td>\n",
       "      <td>1</td>\n",
       "      <td>Argentina</td>\n",
       "      <td>0.866025</td>\n",
       "      <td>0.017213</td>\n",
       "      <td>0.999852</td>\n",
       "    </tr>\n",
       "    <tr>\n",
       "      <th>4</th>\n",
       "      <td>2017-01-01</td>\n",
       "      <td>0</td>\n",
       "      <td>1</td>\n",
       "      <td>4</td>\n",
       "      <td>2017</td>\n",
       "      <td>1</td>\n",
       "      <td>1</td>\n",
       "      <td>6</td>\n",
       "      <td>1</td>\n",
       "      <td>1</td>\n",
       "      <td>Argentina</td>\n",
       "      <td>0.866025</td>\n",
       "      <td>0.017213</td>\n",
       "      <td>0.999852</td>\n",
       "    </tr>\n",
       "    <tr>\n",
       "      <th>...</th>\n",
       "      <td>...</td>\n",
       "      <td>...</td>\n",
       "      <td>...</td>\n",
       "      <td>...</td>\n",
       "      <td>...</td>\n",
       "      <td>...</td>\n",
       "      <td>...</td>\n",
       "      <td>...</td>\n",
       "      <td>...</td>\n",
       "      <td>...</td>\n",
       "      <td>...</td>\n",
       "      <td>...</td>\n",
       "      <td>...</td>\n",
       "      <td>...</td>\n",
       "    </tr>\n",
       "    <tr>\n",
       "      <th>164320</th>\n",
       "      <td>2022-12-31</td>\n",
       "      <td>4</td>\n",
       "      <td>0</td>\n",
       "      <td>0</td>\n",
       "      <td>2022</td>\n",
       "      <td>12</td>\n",
       "      <td>31</td>\n",
       "      <td>5</td>\n",
       "      <td>1</td>\n",
       "      <td>0</td>\n",
       "      <td>Spain</td>\n",
       "      <td>1.000000</td>\n",
       "      <td>0.508671</td>\n",
       "      <td>0.860961</td>\n",
       "    </tr>\n",
       "    <tr>\n",
       "      <th>164321</th>\n",
       "      <td>2022-12-31</td>\n",
       "      <td>4</td>\n",
       "      <td>0</td>\n",
       "      <td>1</td>\n",
       "      <td>2022</td>\n",
       "      <td>12</td>\n",
       "      <td>31</td>\n",
       "      <td>5</td>\n",
       "      <td>1</td>\n",
       "      <td>0</td>\n",
       "      <td>Spain</td>\n",
       "      <td>1.000000</td>\n",
       "      <td>0.508671</td>\n",
       "      <td>0.860961</td>\n",
       "    </tr>\n",
       "    <tr>\n",
       "      <th>164322</th>\n",
       "      <td>2022-12-31</td>\n",
       "      <td>4</td>\n",
       "      <td>0</td>\n",
       "      <td>2</td>\n",
       "      <td>2022</td>\n",
       "      <td>12</td>\n",
       "      <td>31</td>\n",
       "      <td>5</td>\n",
       "      <td>1</td>\n",
       "      <td>0</td>\n",
       "      <td>Spain</td>\n",
       "      <td>1.000000</td>\n",
       "      <td>0.508671</td>\n",
       "      <td>0.860961</td>\n",
       "    </tr>\n",
       "    <tr>\n",
       "      <th>164323</th>\n",
       "      <td>2022-12-31</td>\n",
       "      <td>4</td>\n",
       "      <td>0</td>\n",
       "      <td>3</td>\n",
       "      <td>2022</td>\n",
       "      <td>12</td>\n",
       "      <td>31</td>\n",
       "      <td>5</td>\n",
       "      <td>1</td>\n",
       "      <td>0</td>\n",
       "      <td>Spain</td>\n",
       "      <td>1.000000</td>\n",
       "      <td>0.508671</td>\n",
       "      <td>0.860961</td>\n",
       "    </tr>\n",
       "    <tr>\n",
       "      <th>164324</th>\n",
       "      <td>2022-12-31</td>\n",
       "      <td>4</td>\n",
       "      <td>0</td>\n",
       "      <td>4</td>\n",
       "      <td>2022</td>\n",
       "      <td>12</td>\n",
       "      <td>31</td>\n",
       "      <td>5</td>\n",
       "      <td>1</td>\n",
       "      <td>0</td>\n",
       "      <td>Spain</td>\n",
       "      <td>1.000000</td>\n",
       "      <td>0.508671</td>\n",
       "      <td>0.860961</td>\n",
       "    </tr>\n",
       "  </tbody>\n",
       "</table>\n",
       "<p>164325 rows × 14 columns</p>\n",
       "</div>"
      ],
      "text/plain": [
       "             date  country  store  product  year  month  day  dayofweek  \\\n",
       "0      2017-01-01        0      1        0  2017      1    1          6   \n",
       "1      2017-01-01        0      1        1  2017      1    1          6   \n",
       "2      2017-01-01        0      1        2  2017      1    1          6   \n",
       "3      2017-01-01        0      1        3  2017      1    1          6   \n",
       "4      2017-01-01        0      1        4  2017      1    1          6   \n",
       "...           ...      ...    ...      ...   ...    ...  ...        ...   \n",
       "164320 2022-12-31        4      0        0  2022     12   31          5   \n",
       "164321 2022-12-31        4      0        1  2022     12   31          5   \n",
       "164322 2022-12-31        4      0        2  2022     12   31          5   \n",
       "164323 2022-12-31        4      0        3  2022     12   31          5   \n",
       "164324 2022-12-31        4      0        4  2022     12   31          5   \n",
       "\n",
       "        is_weekend  holiday country_name  month_cos   day_sin   day_cos  \n",
       "0                1        1    Argentina   0.866025  0.017213  0.999852  \n",
       "1                1        1    Argentina   0.866025  0.017213  0.999852  \n",
       "2                1        1    Argentina   0.866025  0.017213  0.999852  \n",
       "3                1        1    Argentina   0.866025  0.017213  0.999852  \n",
       "4                1        1    Argentina   0.866025  0.017213  0.999852  \n",
       "...            ...      ...          ...        ...       ...       ...  \n",
       "164320           1        0        Spain   1.000000  0.508671  0.860961  \n",
       "164321           1        0        Spain   1.000000  0.508671  0.860961  \n",
       "164322           1        0        Spain   1.000000  0.508671  0.860961  \n",
       "164323           1        0        Spain   1.000000  0.508671  0.860961  \n",
       "164324           1        0        Spain   1.000000  0.508671  0.860961  \n",
       "\n",
       "[164325 rows x 14 columns]"
      ]
     },
     "execution_count": 23,
     "metadata": {},
     "output_type": "execute_result"
    }
   ],
   "source": [
    "# Transforming cyclic features - month and day \n",
    "def day_month_transformer(df):\n",
    "    df['month_cos'] = df['month'].apply(lambda x: np.cos(x / 12 * 2 * np.pi))\n",
    "    df['day_sin'] = df['day'].apply(lambda x: np.sin(x / 365 * 2 * np.pi))\n",
    "    df['day_cos'] = df['day'].apply(lambda x: np.cos(x / 365 * 2 * np.pi))\n",
    "    return df\n",
    "\n",
    "combined_final_df = day_month_transformer(combined_final_df)\n",
    "\n",
    "combined_final_df"
   ]
  },
  {
   "cell_type": "markdown",
   "id": "19b5d424",
   "metadata": {
    "papermill": {
     "duration": 0.050236,
     "end_time": "2023-07-28T10:45:30.869231",
     "exception": false,
     "start_time": "2023-07-28T10:45:30.818995",
     "status": "completed"
    },
    "tags": []
   },
   "source": [
    "## Step 4: Transforming the Target Variable"
   ]
  },
  {
   "cell_type": "code",
   "execution_count": 24,
   "id": "ab2e570d",
   "metadata": {
    "execution": {
     "iopub.execute_input": "2023-07-28T10:45:30.970674Z",
     "iopub.status.busy": "2023-07-28T10:45:30.970275Z",
     "iopub.status.idle": "2023-07-28T10:45:33.445392Z",
     "shell.execute_reply": "2023-07-28T10:45:33.443916Z"
    },
    "papermill": {
     "duration": 2.529106,
     "end_time": "2023-07-28T10:45:33.448444",
     "exception": false,
     "start_time": "2023-07-28T10:45:30.919338",
     "status": "completed"
    },
    "tags": []
   },
   "outputs": [
    {
     "data": {
      "image/png": "[encoded data removed]",
      "text/plain": [
       "<Figure size 2000x1000 with 2 Axes>"
      ]
     },
     "metadata": {},
     "output_type": "display_data"
    }
   ],
   "source": [
    "# Transforming the target varible with logs\n",
    "\n",
    "log_target_var = np.log(train_clean['num_sold']) \n",
    "\n",
    "# Plotting the new log distribution of target variable against the original\n",
    "plt.figure(figsize=(20,10))\n",
    "\n",
    "plt.subplot(1,2,1)\n",
    "sns.histplot(target_var, color='b', bins=30, kde=True)\n",
    "plt.title('Number Sold Distribution')\n",
    "\n",
    "plt.subplot(1,2,2)\n",
    "sns.histplot(log_target_var, color='b', bins=30, kde=True)\n",
    "plt.title('Number Sold Log Distribution')\n",
    "\n",
    "plt.show()"
   ]
  },
  {
   "cell_type": "markdown",
   "id": "72a3d1f8",
   "metadata": {
    "papermill": {
     "duration": 0.050711,
     "end_time": "2023-07-28T10:45:33.550262",
     "exception": false,
     "start_time": "2023-07-28T10:45:33.499551",
     "status": "completed"
    },
    "tags": []
   },
   "source": [
    "We now have a much better distribution of our target varible and will use this log version going forward."
   ]
  },
  {
   "cell_type": "markdown",
   "id": "c087769e",
   "metadata": {
    "papermill": {
     "duration": 0.050469,
     "end_time": "2023-07-28T10:45:33.651458",
     "exception": false,
     "start_time": "2023-07-28T10:45:33.600989",
     "status": "completed"
    },
    "tags": []
   },
   "source": [
    "## Step 5: Splitting the Data\n",
    "Now, we'll split the data back into the original training and test sets."
   ]
  },
  {
   "cell_type": "code",
   "execution_count": 25,
   "id": "588a2b3a",
   "metadata": {
    "execution": {
     "iopub.execute_input": "2023-07-28T10:45:33.756071Z",
     "iopub.status.busy": "2023-07-28T10:45:33.755666Z",
     "iopub.status.idle": "2023-07-28T10:45:33.820162Z",
     "shell.execute_reply": "2023-07-28T10:45:33.818401Z"
    },
    "papermill": {
     "duration": 0.120363,
     "end_time": "2023-07-28T10:45:33.823556",
     "exception": false,
     "start_time": "2023-07-28T10:45:33.703193",
     "status": "completed"
    },
    "tags": []
   },
   "outputs": [
    {
     "name": "stdout",
     "output_type": "stream",
     "text": [
      "<class 'pandas.core.frame.DataFrame'>\n",
      "Int64Index: 136950 entries, 0 to 136949\n",
      "Data columns (total 14 columns):\n",
      " #   Column        Non-Null Count   Dtype         \n",
      "---  ------        --------------   -----         \n",
      " 0   date          136950 non-null  datetime64[ns]\n",
      " 1   country       136950 non-null  int64         \n",
      " 2   store         136950 non-null  int64         \n",
      " 3   product       136950 non-null  int64         \n",
      " 4   year          136950 non-null  int64         \n",
      " 5   month         136950 non-null  int64         \n",
      " 6   day           136950 non-null  int64         \n",
      " 7   dayofweek     136950 non-null  int64         \n",
      " 8   is_weekend    136950 non-null  int64         \n",
      " 9   holiday       136950 non-null  int64         \n",
      " 10  country_name  136950 non-null  object        \n",
      " 11  month_cos     136950 non-null  float64       \n",
      " 12  day_sin       136950 non-null  float64       \n",
      " 13  day_cos       136950 non-null  float64       \n",
      "dtypes: datetime64[ns](1), float64(3), int64(9), object(1)\n",
      "memory usage: 15.7+ MB\n"
     ]
    }
   ],
   "source": [
    "final_train = combined_final_df.iloc[:136950,:]\n",
    "final_train.info()"
   ]
  },
  {
   "cell_type": "code",
   "execution_count": 26,
   "id": "1058cf02",
   "metadata": {
    "execution": {
     "iopub.execute_input": "2023-07-28T10:45:33.928430Z",
     "iopub.status.busy": "2023-07-28T10:45:33.927979Z",
     "iopub.status.idle": "2023-07-28T10:45:33.955685Z",
     "shell.execute_reply": "2023-07-28T10:45:33.953922Z"
    },
    "papermill": {
     "duration": 0.082875,
     "end_time": "2023-07-28T10:45:33.958406",
     "exception": false,
     "start_time": "2023-07-28T10:45:33.875531",
     "status": "completed"
    },
    "tags": []
   },
   "outputs": [
    {
     "name": "stdout",
     "output_type": "stream",
     "text": [
      "<class 'pandas.core.frame.DataFrame'>\n",
      "RangeIndex: 27375 entries, 0 to 27374\n",
      "Data columns (total 14 columns):\n",
      " #   Column        Non-Null Count  Dtype         \n",
      "---  ------        --------------  -----         \n",
      " 0   date          27375 non-null  datetime64[ns]\n",
      " 1   country       27375 non-null  int64         \n",
      " 2   store         27375 non-null  int64         \n",
      " 3   product       27375 non-null  int64         \n",
      " 4   year          27375 non-null  int64         \n",
      " 5   month         27375 non-null  int64         \n",
      " 6   day           27375 non-null  int64         \n",
      " 7   dayofweek     27375 non-null  int64         \n",
      " 8   is_weekend    27375 non-null  int64         \n",
      " 9   holiday       27375 non-null  int64         \n",
      " 10  country_name  27375 non-null  object        \n",
      " 11  month_cos     27375 non-null  float64       \n",
      " 12  day_sin       27375 non-null  float64       \n",
      " 13  day_cos       27375 non-null  float64       \n",
      "dtypes: datetime64[ns](1), float64(3), int64(9), object(1)\n",
      "memory usage: 2.9+ MB\n"
     ]
    }
   ],
   "source": [
    "final_test = combined_final_df.iloc[136950:,:].reset_index(drop=True)\n",
    "final_test.info()"
   ]
  },
  {
   "cell_type": "code",
   "execution_count": 27,
   "id": "643ec24c",
   "metadata": {
    "execution": {
     "iopub.execute_input": "2023-07-28T10:45:34.062974Z",
     "iopub.status.busy": "2023-07-28T10:45:34.062311Z",
     "iopub.status.idle": "2023-07-28T10:45:34.066598Z",
     "shell.execute_reply": "2023-07-28T10:45:34.065466Z"
    },
    "papermill": {
     "duration": 0.059798,
     "end_time": "2023-07-28T10:45:34.069021",
     "exception": false,
     "start_time": "2023-07-28T10:45:34.009223",
     "status": "completed"
    },
    "tags": []
   },
   "outputs": [],
   "source": [
    "# from pycaret.regression import setup, compare_models "
   ]
  },
  {
   "cell_type": "code",
   "execution_count": 28,
   "id": "22d6bbb1",
   "metadata": {
    "execution": {
     "iopub.execute_input": "2023-07-28T10:45:34.172846Z",
     "iopub.status.busy": "2023-07-28T10:45:34.172381Z",
     "iopub.status.idle": "2023-07-28T10:45:34.177621Z",
     "shell.execute_reply": "2023-07-28T10:45:34.176376Z"
    },
    "papermill": {
     "duration": 0.060513,
     "end_time": "2023-07-28T10:45:34.180141",
     "exception": false,
     "start_time": "2023-07-28T10:45:34.119628",
     "status": "completed"
    },
    "tags": []
   },
   "outputs": [],
   "source": [
    "# pycaret_setup = setup(data=(pd.concat([final_train,log_target_var],axis=1)), target='num_sold')"
   ]
  },
  {
   "cell_type": "code",
   "execution_count": 29,
   "id": "56a73577",
   "metadata": {
    "execution": {
     "iopub.execute_input": "2023-07-28T10:45:34.285281Z",
     "iopub.status.busy": "2023-07-28T10:45:34.284794Z",
     "iopub.status.idle": "2023-07-28T10:45:34.290575Z",
     "shell.execute_reply": "2023-07-28T10:45:34.288922Z"
    },
    "papermill": {
     "duration": 0.062093,
     "end_time": "2023-07-28T10:45:34.293500",
     "exception": false,
     "start_time": "2023-07-28T10:45:34.231407",
     "status": "completed"
    },
    "tags": []
   },
   "outputs": [],
   "source": [
    "# compare_models()"
   ]
  },
  {
   "cell_type": "markdown",
   "id": "af34a9a4",
   "metadata": {
    "papermill": {
     "duration": 0.05108,
     "end_time": "2023-07-28T10:45:34.396856",
     "exception": false,
     "start_time": "2023-07-28T10:45:34.345776",
     "status": "completed"
    },
    "tags": []
   },
   "source": [
    "## Step 6: Training the Model\n",
    "Since catboost, xgb and lightgbm wer the top performing models above, we will use them to make our predictions."
   ]
  },
  {
   "cell_type": "code",
   "execution_count": 30,
   "id": "75e95080",
   "metadata": {
    "execution": {
     "iopub.execute_input": "2023-07-28T10:45:34.501336Z",
     "iopub.status.busy": "2023-07-28T10:45:34.500889Z",
     "iopub.status.idle": "2023-07-28T10:45:34.554247Z",
     "shell.execute_reply": "2023-07-28T10:45:34.552814Z"
    },
    "papermill": {
     "duration": 0.108782,
     "end_time": "2023-07-28T10:45:34.557171",
     "exception": false,
     "start_time": "2023-07-28T10:45:34.448389",
     "status": "completed"
    },
    "tags": []
   },
   "outputs": [],
   "source": [
    "# Creating training and validation sets from our full training data to access performance\n",
    "X_train, X_val, y_train, y_val = train_test_split(final_train, log_target_var, test_size=0.3, random_state=42)"
   ]
  },
  {
   "cell_type": "code",
   "execution_count": 31,
   "id": "6f948c4b",
   "metadata": {
    "execution": {
     "iopub.execute_input": "2023-07-28T10:45:34.661192Z",
     "iopub.status.busy": "2023-07-28T10:45:34.660725Z",
     "iopub.status.idle": "2023-07-28T10:45:34.676748Z",
     "shell.execute_reply": "2023-07-28T10:45:34.675789Z"
    },
    "papermill": {
     "duration": 0.071627,
     "end_time": "2023-07-28T10:45:34.680113",
     "exception": false,
     "start_time": "2023-07-28T10:45:34.608486",
     "status": "completed"
    },
    "tags": []
   },
   "outputs": [],
   "source": [
    "# Initializing the models\n",
    "catboost_model = CatBoostRegressor()\n",
    "xgboost_model = XGBRegressor()\n",
    "lightgbm_model = LGBMRegressor()\n",
    "\n",
    "# Parameter distributions for RandomizedSearchCV for CBR only\n",
    "catboost_param_dist = {\n",
    "    'learning_rate': [0.01, 0.05, 0.1],\n",
    "    'iterations': randint(100, 301),  # Random integer between 100 and 300 (inclusive)\n",
    "    'depth': randint(4, 11),          # Random integer between 4 and 10 (inclusive)\n",
    "    'l2_leaf_reg': [1, 3, 5, 7,9],\n",
    "    'subsample' : randFloat(0.05, 0.95),\n",
    "    'colsample_bylevel': randFloat(0.05, 0.95)\n",
    "    \n",
    "}"
   ]
  },
  {
   "cell_type": "code",
   "execution_count": 32,
   "id": "5c8c388d",
   "metadata": {
    "execution": {
     "iopub.execute_input": "2023-07-28T10:45:34.788045Z",
     "iopub.status.busy": "2023-07-28T10:45:34.787640Z",
     "iopub.status.idle": "2023-07-28T10:45:34.793920Z",
     "shell.execute_reply": "2023-07-28T10:45:34.792626Z"
    },
    "papermill": {
     "duration": 0.06398,
     "end_time": "2023-07-28T10:45:34.796787",
     "exception": false,
     "start_time": "2023-07-28T10:45:34.732807",
     "status": "completed"
    },
    "tags": []
   },
   "outputs": [],
   "source": [
    "# Creating a TimeSeriesSplit object \n",
    "tscv = TimeSeriesSplit(n_splits=5)\n",
    "\n",
    "# RandomizedSearchCV for CBR to determine best params\n",
    "random_search_catboost = RandomizedSearchCV(\n",
    "    catboost_model,\n",
    "    param_distributions=catboost_param_dist,\n",
    "    n_iter=20,\n",
    "    cv=tscv,\n",
    "    n_jobs=-1\n",
    ")"
   ]
  },
  {
   "cell_type": "code",
   "execution_count": 33,
   "id": "6cbfa34e",
   "metadata": {
    "execution": {
     "iopub.execute_input": "2023-07-28T10:45:34.923369Z",
     "iopub.status.busy": "2023-07-28T10:45:34.922901Z",
     "iopub.status.idle": "2023-07-28T10:48:19.914506Z",
     "shell.execute_reply": "2023-07-28T10:48:19.913042Z"
    },
    "papermill": {
     "duration": 165.106409,
     "end_time": "2023-07-28T10:48:19.967194",
     "exception": false,
     "start_time": "2023-07-28T10:45:34.860785",
     "status": "completed"
    },
    "tags": []
   },
   "outputs": [
    {
     "data": {
      "text/html": [
       "<style>#sk-container-id-1 {color: black;background-color: white;}#sk-container-id-1 pre{padding: 0;}#sk-container-id-1 div.sk-toggleable {background-color: white;}#sk-container-id-1 label.sk-toggleable__label {cursor: pointer;display: block;width: 100%;margin-bottom: 0;padding: 0.3em;box-sizing: border-box;text-align: center;}#sk-container-id-1 label.sk-toggleable__label-arrow:before {content: \"▸\";float: left;margin-right: 0.25em;color: #696969;}#sk-container-id-1 label.sk-toggleable__label-arrow:hover:before {color: black;}#sk-container-id-1 div.sk-estimator:hover label.sk-toggleable__label-arrow:before {color: black;}#sk-container-id-1 div.sk-toggleable__content {max-height: 0;max-width: 0;overflow: hidden;text-align: left;background-color: #f0f8ff;}#sk-container-id-1 div.sk-toggleable__content pre {margin: 0.2em;color: black;border-radius: 0.25em;background-color: #f0f8ff;}#sk-container-id-1 input.sk-toggleable__control:checked~div.sk-toggleable__content {max-height: 200px;max-width: 100%;overflow: auto;}#sk-container-id-1 input.sk-toggleable__control:checked~label.sk-toggleable__label-arrow:before {content: \"▾\";}#sk-container-id-1 div.sk-estimator input.sk-toggleable__control:checked~label.sk-toggleable__label {background-color: #d4ebff;}#sk-container-id-1 div.sk-label input.sk-toggleable__control:checked~label.sk-toggleable__label {background-color: #d4ebff;}#sk-container-id-1 input.sk-hidden--visually {border: 0;clip: rect(1px 1px 1px 1px);clip: rect(1px, 1px, 1px, 1px);height: 1px;margin: -1px;overflow: hidden;padding: 0;position: absolute;width: 1px;}#sk-container-id-1 div.sk-estimator {font-family: monospace;background-color: #f0f8ff;border: 1px dotted black;border-radius: 0.25em;box-sizing: border-box;margin-bottom: 0.5em;}#sk-container-id-1 div.sk-estimator:hover {background-color: #d4ebff;}#sk-container-id-1 div.sk-parallel-item::after {content: \"\";width: 100%;border-bottom: 1px solid gray;flex-grow: 1;}#sk-container-id-1 div.sk-label:hover label.sk-toggleable__label {background-color: #d4ebff;}#sk-container-id-1 div.sk-serial::before {content: \"\";position: absolute;border-left: 1px solid gray;box-sizing: border-box;top: 0;bottom: 0;left: 50%;z-index: 0;}#sk-container-id-1 div.sk-serial {display: flex;flex-direction: column;align-items: center;background-color: white;padding-right: 0.2em;padding-left: 0.2em;position: relative;}#sk-container-id-1 div.sk-item {position: relative;z-index: 1;}#sk-container-id-1 div.sk-parallel {display: flex;align-items: stretch;justify-content: center;background-color: white;position: relative;}#sk-container-id-1 div.sk-item::before, #sk-container-id-1 div.sk-parallel-item::before {content: \"\";position: absolute;border-left: 1px solid gray;box-sizing: border-box;top: 0;bottom: 0;left: 50%;z-index: -1;}#sk-container-id-1 div.sk-parallel-item {display: flex;flex-direction: column;z-index: 1;position: relative;background-color: white;}#sk-container-id-1 div.sk-parallel-item:first-child::after {align-self: flex-end;width: 50%;}#sk-container-id-1 div.sk-parallel-item:last-child::after {align-self: flex-start;width: 50%;}#sk-container-id-1 div.sk-parallel-item:only-child::after {width: 0;}#sk-container-id-1 div.sk-dashed-wrapped {border: 1px dashed gray;margin: 0 0.4em 0.5em 0.4em;box-sizing: border-box;padding-bottom: 0.4em;background-color: white;}#sk-container-id-1 div.sk-label label {font-family: monospace;font-weight: bold;display: inline-block;line-height: 1.2em;}#sk-container-id-1 div.sk-label-container {text-align: center;}#sk-container-id-1 div.sk-container {/* jupyter's `normalize.less` sets `[hidden] { display: none; }` but bootstrap.min.css set `[hidden] { display: none !important; }` so we also need the `!important` here to be able to override the default hidden behavior on the sphinx rendered scikit-learn.org. See: https://github.com/scikit-learn/scikit-learn/issues/21755 */display: inline-block !important;position: relative;}#sk-container-id-1 div.sk-text-repr-fallback {display: none;}</style><div id=\"sk-container-id-1\" class=\"sk-top-container\"><div class=\"sk-text-repr-fallback\"><pre>RandomizedSearchCV(cv=TimeSeriesSplit(gap=0, max_train_size=None, n_splits=5, test_size=None),\n",
       "                   estimator=&lt;catboost.core.CatBoostRegressor object at 0x7cd7d3084520&gt;,\n",
       "                   n_iter=20, n_jobs=-1,\n",
       "                   param_distributions={&#x27;colsample_bylevel&#x27;: &lt;scipy.stats._distn_infrastructure.rv_frozen object at 0x7cd7cc89e440&gt;,\n",
       "                                        &#x27;depth&#x27;: &lt;scipy.stats._distn_infrastructure.rv_frozen object at 0x7cd7d3256740&gt;,\n",
       "                                        &#x27;iterations&#x27;: &lt;scipy.stats._distn_infrastructure.rv_frozen object at 0x7cd7d30871c0&gt;,\n",
       "                                        &#x27;l2_leaf_reg&#x27;: [1, 3, 5, 7, 9],\n",
       "                                        &#x27;learning_rate&#x27;: [0.01, 0.05, 0.1],\n",
       "                                        &#x27;subsample&#x27;: &lt;scipy.stats._distn_infrastructure.rv_frozen object at 0x7cd7cc89e110&gt;})</pre><b>In a Jupyter environment, please rerun this cell to show the HTML representation or trust the notebook. <br />On GitHub, the HTML representation is unable to render, please try loading this page with nbviewer.org.</b></div><div class=\"sk-container\" hidden><div class=\"sk-item sk-dashed-wrapped\"><div class=\"sk-label-container\"><div class=\"sk-label sk-toggleable\"><input class=\"sk-toggleable__control sk-hidden--visually\" id=\"sk-estimator-id-1\" type=\"checkbox\" ><label for=\"sk-estimator-id-1\" class=\"sk-toggleable__label sk-toggleable__label-arrow\">RandomizedSearchCV</label><div class=\"sk-toggleable__content\"><pre>RandomizedSearchCV(cv=TimeSeriesSplit(gap=0, max_train_size=None, n_splits=5, test_size=None),\n",
       "                   estimator=&lt;catboost.core.CatBoostRegressor object at 0x7cd7d3084520&gt;,\n",
       "                   n_iter=20, n_jobs=-1,\n",
       "                   param_distributions={&#x27;colsample_bylevel&#x27;: &lt;scipy.stats._distn_infrastructure.rv_frozen object at 0x7cd7cc89e440&gt;,\n",
       "                                        &#x27;depth&#x27;: &lt;scipy.stats._distn_infrastructure.rv_frozen object at 0x7cd7d3256740&gt;,\n",
       "                                        &#x27;iterations&#x27;: &lt;scipy.stats._distn_infrastructure.rv_frozen object at 0x7cd7d30871c0&gt;,\n",
       "                                        &#x27;l2_leaf_reg&#x27;: [1, 3, 5, 7, 9],\n",
       "                                        &#x27;learning_rate&#x27;: [0.01, 0.05, 0.1],\n",
       "                                        &#x27;subsample&#x27;: &lt;scipy.stats._distn_infrastructure.rv_frozen object at 0x7cd7cc89e110&gt;})</pre></div></div></div><div class=\"sk-parallel\"><div class=\"sk-parallel-item\"><div class=\"sk-item\"><div class=\"sk-label-container\"><div class=\"sk-label sk-toggleable\"><input class=\"sk-toggleable__control sk-hidden--visually\" id=\"sk-estimator-id-2\" type=\"checkbox\" ><label for=\"sk-estimator-id-2\" class=\"sk-toggleable__label sk-toggleable__label-arrow\">estimator: CatBoostRegressor</label><div class=\"sk-toggleable__content\"><pre>&lt;catboost.core.CatBoostRegressor object at 0x7cd7d3084520&gt;</pre></div></div></div><div class=\"sk-serial\"><div class=\"sk-item\"><div class=\"sk-estimator sk-toggleable\"><input class=\"sk-toggleable__control sk-hidden--visually\" id=\"sk-estimator-id-3\" type=\"checkbox\" ><label for=\"sk-estimator-id-3\" class=\"sk-toggleable__label sk-toggleable__label-arrow\">CatBoostRegressor</label><div class=\"sk-toggleable__content\"><pre>&lt;catboost.core.CatBoostRegressor object at 0x7cd7d3084520&gt;</pre></div></div></div></div></div></div></div></div></div></div>"
      ],
      "text/plain": [
       "RandomizedSearchCV(cv=TimeSeriesSplit(gap=0, max_train_size=None, n_splits=5, test_size=None),\n",
       "                   estimator=<catboost.core.CatBoostRegressor object at 0x7cd7d3084520>,\n",
       "                   n_iter=20, n_jobs=-1,\n",
       "                   param_distributions={'colsample_bylevel': <scipy.stats._distn_infrastructure.rv_frozen object at 0x7cd7cc89e440>,\n",
       "                                        'depth': <scipy.stats._distn_infrastructure.rv_frozen object at 0x7cd7d3256740>,\n",
       "                                        'iterations': <scipy.stats._distn_infrastructure.rv_frozen object at 0x7cd7d30871c0>,\n",
       "                                        'l2_leaf_reg': [1, 3, 5, 7, 9],\n",
       "                                        'learning_rate': [0.01, 0.05, 0.1],\n",
       "                                        'subsample': <scipy.stats._distn_infrastructure.rv_frozen object at 0x7cd7cc89e110>})"
      ]
     },
     "execution_count": 33,
     "metadata": {},
     "output_type": "execute_result"
    }
   ],
   "source": [
    "# Fitting the RandomizedSearchCV results to the data \n",
    "features = ['country', 'store', 'product', 'year', 'month',\n",
    "       'day', 'dayofweek', 'is_weekend','month_cos', 'day_sin', 'day_cos', 'holiday']\n",
    "\n",
    "random_search_catboost.fit(X_train[features], y_train,verbose=0) "
   ]
  },
  {
   "cell_type": "markdown",
   "id": "69aae6a6",
   "metadata": {
    "papermill": {
     "duration": 0.050637,
     "end_time": "2023-07-28T10:48:20.068712",
     "exception": false,
     "start_time": "2023-07-28T10:48:20.018075",
     "status": "completed"
    },
    "tags": []
   },
   "source": [
    "## Step 7: Evaluating Model Performance"
   ]
  },
  {
   "cell_type": "code",
   "execution_count": 34,
   "id": "c0ac8e37",
   "metadata": {
    "execution": {
     "iopub.execute_input": "2023-07-28T10:48:20.174191Z",
     "iopub.status.busy": "2023-07-28T10:48:20.172942Z",
     "iopub.status.idle": "2023-07-28T10:48:20.179576Z",
     "shell.execute_reply": "2023-07-28T10:48:20.178511Z"
    },
    "papermill": {
     "duration": 0.062355,
     "end_time": "2023-07-28T10:48:20.182305",
     "exception": false,
     "start_time": "2023-07-28T10:48:20.119950",
     "status": "completed"
    },
    "tags": []
   },
   "outputs": [
    {
     "name": "stdout",
     "output_type": "stream",
     "text": [
      "\n",
      "Best CatBoost Score: 0.9972934633232718\n",
      "Best CatBoost Parameters: {'colsample_bylevel': 0.6498484538249136, 'depth': 9, 'iterations': 167, 'l2_leaf_reg': 7, 'learning_rate': 0.1, 'subsample': 0.35778874673394306}\n"
     ]
    }
   ],
   "source": [
    "# Getting the best parameters and score for the CBR model\n",
    "best_params_catboost = random_search_catboost.best_params_\n",
    "best_score_catboost = random_search_catboost.best_score_\n",
    "\n",
    "print(\"\\nBest CatBoost Score:\", best_score_catboost)\n",
    "print(\"Best CatBoost Parameters:\", best_params_catboost)"
   ]
  },
  {
   "cell_type": "code",
   "execution_count": 35,
   "id": "31297768",
   "metadata": {
    "execution": {
     "iopub.execute_input": "2023-07-28T10:48:20.287768Z",
     "iopub.status.busy": "2023-07-28T10:48:20.287337Z",
     "iopub.status.idle": "2023-07-28T10:48:28.069058Z",
     "shell.execute_reply": "2023-07-28T10:48:28.067953Z"
    },
    "papermill": {
     "duration": 7.837517,
     "end_time": "2023-07-28T10:48:28.071707",
     "exception": false,
     "start_time": "2023-07-28T10:48:20.234190",
     "status": "completed"
    },
    "tags": []
   },
   "outputs": [
    {
     "data": {
      "text/html": [
       "<style>#sk-container-id-2 {color: black;background-color: white;}#sk-container-id-2 pre{padding: 0;}#sk-container-id-2 div.sk-toggleable {background-color: white;}#sk-container-id-2 label.sk-toggleable__label {cursor: pointer;display: block;width: 100%;margin-bottom: 0;padding: 0.3em;box-sizing: border-box;text-align: center;}#sk-container-id-2 label.sk-toggleable__label-arrow:before {content: \"▸\";float: left;margin-right: 0.25em;color: #696969;}#sk-container-id-2 label.sk-toggleable__label-arrow:hover:before {color: black;}#sk-container-id-2 div.sk-estimator:hover label.sk-toggleable__label-arrow:before {color: black;}#sk-container-id-2 div.sk-toggleable__content {max-height: 0;max-width: 0;overflow: hidden;text-align: left;background-color: #f0f8ff;}#sk-container-id-2 div.sk-toggleable__content pre {margin: 0.2em;color: black;border-radius: 0.25em;background-color: #f0f8ff;}#sk-container-id-2 input.sk-toggleable__control:checked~div.sk-toggleable__content {max-height: 200px;max-width: 100%;overflow: auto;}#sk-container-id-2 input.sk-toggleable__control:checked~label.sk-toggleable__label-arrow:before {content: \"▾\";}#sk-container-id-2 div.sk-estimator input.sk-toggleable__control:checked~label.sk-toggleable__label {background-color: #d4ebff;}#sk-container-id-2 div.sk-label input.sk-toggleable__control:checked~label.sk-toggleable__label {background-color: #d4ebff;}#sk-container-id-2 input.sk-hidden--visually {border: 0;clip: rect(1px 1px 1px 1px);clip: rect(1px, 1px, 1px, 1px);height: 1px;margin: -1px;overflow: hidden;padding: 0;position: absolute;width: 1px;}#sk-container-id-2 div.sk-estimator {font-family: monospace;background-color: #f0f8ff;border: 1px dotted black;border-radius: 0.25em;box-sizing: border-box;margin-bottom: 0.5em;}#sk-container-id-2 div.sk-estimator:hover {background-color: #d4ebff;}#sk-container-id-2 div.sk-parallel-item::after {content: \"\";width: 100%;border-bottom: 1px solid gray;flex-grow: 1;}#sk-container-id-2 div.sk-label:hover label.sk-toggleable__label {background-color: #d4ebff;}#sk-container-id-2 div.sk-serial::before {content: \"\";position: absolute;border-left: 1px solid gray;box-sizing: border-box;top: 0;bottom: 0;left: 50%;z-index: 0;}#sk-container-id-2 div.sk-serial {display: flex;flex-direction: column;align-items: center;background-color: white;padding-right: 0.2em;padding-left: 0.2em;position: relative;}#sk-container-id-2 div.sk-item {position: relative;z-index: 1;}#sk-container-id-2 div.sk-parallel {display: flex;align-items: stretch;justify-content: center;background-color: white;position: relative;}#sk-container-id-2 div.sk-item::before, #sk-container-id-2 div.sk-parallel-item::before {content: \"\";position: absolute;border-left: 1px solid gray;box-sizing: border-box;top: 0;bottom: 0;left: 50%;z-index: -1;}#sk-container-id-2 div.sk-parallel-item {display: flex;flex-direction: column;z-index: 1;position: relative;background-color: white;}#sk-container-id-2 div.sk-parallel-item:first-child::after {align-self: flex-end;width: 50%;}#sk-container-id-2 div.sk-parallel-item:last-child::after {align-self: flex-start;width: 50%;}#sk-container-id-2 div.sk-parallel-item:only-child::after {width: 0;}#sk-container-id-2 div.sk-dashed-wrapped {border: 1px dashed gray;margin: 0 0.4em 0.5em 0.4em;box-sizing: border-box;padding-bottom: 0.4em;background-color: white;}#sk-container-id-2 div.sk-label label {font-family: monospace;font-weight: bold;display: inline-block;line-height: 1.2em;}#sk-container-id-2 div.sk-label-container {text-align: center;}#sk-container-id-2 div.sk-container {/* jupyter's `normalize.less` sets `[hidden] { display: none; }` but bootstrap.min.css set `[hidden] { display: none !important; }` so we also need the `!important` here to be able to override the default hidden behavior on the sphinx rendered scikit-learn.org. See: https://github.com/scikit-learn/scikit-learn/issues/21755 */display: inline-block !important;position: relative;}#sk-container-id-2 div.sk-text-repr-fallback {display: none;}</style><div id=\"sk-container-id-2\" class=\"sk-top-container\"><div class=\"sk-text-repr-fallback\"><pre>LGBMRegressor()</pre><b>In a Jupyter environment, please rerun this cell to show the HTML representation or trust the notebook. <br />On GitHub, the HTML representation is unable to render, please try loading this page with nbviewer.org.</b></div><div class=\"sk-container\" hidden><div class=\"sk-item\"><div class=\"sk-estimator sk-toggleable\"><input class=\"sk-toggleable__control sk-hidden--visually\" id=\"sk-estimator-id-4\" type=\"checkbox\" checked><label for=\"sk-estimator-id-4\" class=\"sk-toggleable__label sk-toggleable__label-arrow\">LGBMRegressor</label><div class=\"sk-toggleable__content\"><pre>LGBMRegressor()</pre></div></div></div></div></div>"
      ],
      "text/plain": [
       "LGBMRegressor()"
      ]
     },
     "execution_count": 35,
     "metadata": {},
     "output_type": "execute_result"
    }
   ],
   "source": [
    "# Training all of our models on the training data\n",
    "models = {}\n",
    "\n",
    "# CBR\n",
    "models[\"catboost\"] = CatBoostRegressor(**best_params_catboost, random_state=12,verbose=False)\n",
    "models['catboost'].fit(X_train[features], y_train, \n",
    "                       eval_set = (X_val[features], y_val), verbose = False)\n",
    "# XGB\n",
    "models['xgb'] = XGBRegressor()\n",
    "models['xgb'].fit(X_train[features], y_train)\n",
    "\n",
    "# LGBM\n",
    "models['lgbm'] = LGBMRegressor()\n",
    "models['lgbm'].fit(X_train[features],y_train)"
   ]
  },
  {
   "cell_type": "code",
   "execution_count": 36,
   "id": "644f4c51",
   "metadata": {
    "execution": {
     "iopub.execute_input": "2023-07-28T10:48:28.177974Z",
     "iopub.status.busy": "2023-07-28T10:48:28.176784Z",
     "iopub.status.idle": "2023-07-28T10:48:28.445452Z",
     "shell.execute_reply": "2023-07-28T10:48:28.444321Z"
    },
    "papermill": {
     "duration": 0.323841,
     "end_time": "2023-07-28T10:48:28.447904",
     "exception": false,
     "start_time": "2023-07-28T10:48:28.124063",
     "status": "completed"
    },
    "tags": []
   },
   "outputs": [
    {
     "name": "stdout",
     "output_type": "stream",
     "text": [
      "sMAPE catboost: 4.600006664300776\n",
      "sMAPE xgb: 4.6234639092385015\n",
      "sMAPE lightgbm: 5.221363844815704\n"
     ]
    }
   ],
   "source": [
    "# Calculating the sMAPE score\n",
    "\n",
    "def smape(A, F):\n",
    "    return 100/len(A) * np.sum(2 * np.abs(F - A) / (np.abs(A) + np.abs(F)))\n",
    "\n",
    "print(\"sMAPE catboost:\",smape(np.exp(y_val),\n",
    "                              np.exp(models['catboost'].predict(X_val[features]))))\n",
    "print(\"sMAPE xgb:\",smape(np.exp(y_val),\n",
    "                              np.exp(models['xgb'].predict(X_val[features]))))\n",
    "print(\"sMAPE lightgbm:\",smape(np.exp(y_val),\n",
    "                              np.exp(models['lgbm'].predict(X_val[features]))))"
   ]
  },
  {
   "cell_type": "markdown",
   "id": "a9565666",
   "metadata": {
    "papermill": {
     "duration": 0.052497,
     "end_time": "2023-07-28T10:48:28.553112",
     "exception": false,
     "start_time": "2023-07-28T10:48:28.500615",
     "status": "completed"
    },
    "tags": []
   },
   "source": [
    "Our sMAPE scores for each model are low, indicating a very good performance from each of the models when predicting using our validation set."
   ]
  },
  {
   "cell_type": "markdown",
   "id": "92a1be3b",
   "metadata": {
    "papermill": {
     "duration": 0.051327,
     "end_time": "2023-07-28T10:48:28.656105",
     "exception": false,
     "start_time": "2023-07-28T10:48:28.604778",
     "status": "completed"
    },
    "tags": []
   },
   "source": [
    "## Step 8: Predictions"
   ]
  },
  {
   "cell_type": "code",
   "execution_count": 37,
   "id": "9553a535",
   "metadata": {
    "execution": {
     "iopub.execute_input": "2023-07-28T10:48:28.761751Z",
     "iopub.status.busy": "2023-07-28T10:48:28.761101Z",
     "iopub.status.idle": "2023-07-28T10:48:46.112206Z",
     "shell.execute_reply": "2023-07-28T10:48:46.111000Z"
    },
    "papermill": {
     "duration": 17.406613,
     "end_time": "2023-07-28T10:48:46.114462",
     "exception": false,
     "start_time": "2023-07-28T10:48:28.707849",
     "status": "completed"
    },
    "tags": []
   },
   "outputs": [
    {
     "data": {
      "text/html": [
       "<style>#sk-container-id-3 {color: black;background-color: white;}#sk-container-id-3 pre{padding: 0;}#sk-container-id-3 div.sk-toggleable {background-color: white;}#sk-container-id-3 label.sk-toggleable__label {cursor: pointer;display: block;width: 100%;margin-bottom: 0;padding: 0.3em;box-sizing: border-box;text-align: center;}#sk-container-id-3 label.sk-toggleable__label-arrow:before {content: \"▸\";float: left;margin-right: 0.25em;color: #696969;}#sk-container-id-3 label.sk-toggleable__label-arrow:hover:before {color: black;}#sk-container-id-3 div.sk-estimator:hover label.sk-toggleable__label-arrow:before {color: black;}#sk-container-id-3 div.sk-toggleable__content {max-height: 0;max-width: 0;overflow: hidden;text-align: left;background-color: #f0f8ff;}#sk-container-id-3 div.sk-toggleable__content pre {margin: 0.2em;color: black;border-radius: 0.25em;background-color: #f0f8ff;}#sk-container-id-3 input.sk-toggleable__control:checked~div.sk-toggleable__content {max-height: 200px;max-width: 100%;overflow: auto;}#sk-container-id-3 input.sk-toggleable__control:checked~label.sk-toggleable__label-arrow:before {content: \"▾\";}#sk-container-id-3 div.sk-estimator input.sk-toggleable__control:checked~label.sk-toggleable__label {background-color: #d4ebff;}#sk-container-id-3 div.sk-label input.sk-toggleable__control:checked~label.sk-toggleable__label {background-color: #d4ebff;}#sk-container-id-3 input.sk-hidden--visually {border: 0;clip: rect(1px 1px 1px 1px);clip: rect(1px, 1px, 1px, 1px);height: 1px;margin: -1px;overflow: hidden;padding: 0;position: absolute;width: 1px;}#sk-container-id-3 div.sk-estimator {font-family: monospace;background-color: #f0f8ff;border: 1px dotted black;border-radius: 0.25em;box-sizing: border-box;margin-bottom: 0.5em;}#sk-container-id-3 div.sk-estimator:hover {background-color: #d4ebff;}#sk-container-id-3 div.sk-parallel-item::after {content: \"\";width: 100%;border-bottom: 1px solid gray;flex-grow: 1;}#sk-container-id-3 div.sk-label:hover label.sk-toggleable__label {background-color: #d4ebff;}#sk-container-id-3 div.sk-serial::before {content: \"\";position: absolute;border-left: 1px solid gray;box-sizing: border-box;top: 0;bottom: 0;left: 50%;z-index: 0;}#sk-container-id-3 div.sk-serial {display: flex;flex-direction: column;align-items: center;background-color: white;padding-right: 0.2em;padding-left: 0.2em;position: relative;}#sk-container-id-3 div.sk-item {position: relative;z-index: 1;}#sk-container-id-3 div.sk-parallel {display: flex;align-items: stretch;justify-content: center;background-color: white;position: relative;}#sk-container-id-3 div.sk-item::before, #sk-container-id-3 div.sk-parallel-item::before {content: \"\";position: absolute;border-left: 1px solid gray;box-sizing: border-box;top: 0;bottom: 0;left: 50%;z-index: -1;}#sk-container-id-3 div.sk-parallel-item {display: flex;flex-direction: column;z-index: 1;position: relative;background-color: white;}#sk-container-id-3 div.sk-parallel-item:first-child::after {align-self: flex-end;width: 50%;}#sk-container-id-3 div.sk-parallel-item:last-child::after {align-self: flex-start;width: 50%;}#sk-container-id-3 div.sk-parallel-item:only-child::after {width: 0;}#sk-container-id-3 div.sk-dashed-wrapped {border: 1px dashed gray;margin: 0 0.4em 0.5em 0.4em;box-sizing: border-box;padding-bottom: 0.4em;background-color: white;}#sk-container-id-3 div.sk-label label {font-family: monospace;font-weight: bold;display: inline-block;line-height: 1.2em;}#sk-container-id-3 div.sk-label-container {text-align: center;}#sk-container-id-3 div.sk-container {/* jupyter's `normalize.less` sets `[hidden] { display: none; }` but bootstrap.min.css set `[hidden] { display: none !important; }` so we also need the `!important` here to be able to override the default hidden behavior on the sphinx rendered scikit-learn.org. See: https://github.com/scikit-learn/scikit-learn/issues/21755 */display: inline-block !important;position: relative;}#sk-container-id-3 div.sk-text-repr-fallback {display: none;}</style><div id=\"sk-container-id-3\" class=\"sk-top-container\"><div class=\"sk-text-repr-fallback\"><pre>LGBMRegressor()</pre><b>In a Jupyter environment, please rerun this cell to show the HTML representation or trust the notebook. <br />On GitHub, the HTML representation is unable to render, please try loading this page with nbviewer.org.</b></div><div class=\"sk-container\" hidden><div class=\"sk-item\"><div class=\"sk-estimator sk-toggleable\"><input class=\"sk-toggleable__control sk-hidden--visually\" id=\"sk-estimator-id-5\" type=\"checkbox\" checked><label for=\"sk-estimator-id-5\" class=\"sk-toggleable__label sk-toggleable__label-arrow\">LGBMRegressor</label><div class=\"sk-toggleable__content\"><pre>LGBMRegressor()</pre></div></div></div></div></div>"
      ],
      "text/plain": [
       "LGBMRegressor()"
      ]
     },
     "execution_count": 37,
     "metadata": {},
     "output_type": "execute_result"
    }
   ],
   "source": [
    "# Training our models for the fianl predictions\n",
    "models = {}\n",
    "\n",
    "\n",
    "models[\"catboost\"] = CatBoostRegressor(**best_params_catboost, random_state=12,verbose=False)\n",
    "models['catboost'].fit(final_train[features], log_target_var, \n",
    "                       verbose = False)\n",
    "\n",
    "models['xgb'] = XGBRegressor()\n",
    "models['xgb'].fit(final_train[features], log_target_var)\n",
    "\n",
    "models['lgbm'] = LGBMRegressor()\n",
    "models['lgbm'].fit(final_train[features],log_target_var)"
   ]
  },
  {
   "cell_type": "code",
   "execution_count": 38,
   "id": "590ee81b",
   "metadata": {
    "execution": {
     "iopub.execute_input": "2023-07-28T10:48:46.220020Z",
     "iopub.status.busy": "2023-07-28T10:48:46.219294Z",
     "iopub.status.idle": "2023-07-28T10:48:46.384122Z",
     "shell.execute_reply": "2023-07-28T10:48:46.383214Z"
    },
    "papermill": {
     "duration": 0.220451,
     "end_time": "2023-07-28T10:48:46.386679",
     "exception": false,
     "start_time": "2023-07-28T10:48:46.166228",
     "status": "completed"
    },
    "tags": []
   },
   "outputs": [],
   "source": [
    "# Making predictions using an ensemble of our models\n",
    "predictions = (np.exp(models['catboost'].predict(final_test[features]))*0.33+\n",
    "               np.exp(models['xgb'].predict(final_test[features]))*0.33+\n",
    "               np.exp(models['lgbm'].predict(final_test[features]))*0.33)"
   ]
  },
  {
   "cell_type": "code",
   "execution_count": 39,
   "id": "09ae4d58",
   "metadata": {
    "execution": {
     "iopub.execute_input": "2023-07-28T10:48:46.492501Z",
     "iopub.status.busy": "2023-07-28T10:48:46.491738Z",
     "iopub.status.idle": "2023-07-28T10:48:46.509951Z",
     "shell.execute_reply": "2023-07-28T10:48:46.508590Z"
    },
    "papermill": {
     "duration": 0.073806,
     "end_time": "2023-07-28T10:48:46.512327",
     "exception": false,
     "start_time": "2023-07-28T10:48:46.438521",
     "status": "completed"
    },
    "tags": []
   },
   "outputs": [
    {
     "data": {
      "text/html": [
       "<div>\n",
       "<style scoped>\n",
       "    .dataframe tbody tr th:only-of-type {\n",
       "        vertical-align: middle;\n",
       "    }\n",
       "\n",
       "    .dataframe tbody tr th {\n",
       "        vertical-align: top;\n",
       "    }\n",
       "\n",
       "    .dataframe thead th {\n",
       "        text-align: right;\n",
       "    }\n",
       "</style>\n",
       "<table border=\"1\" class=\"dataframe\">\n",
       "  <thead>\n",
       "    <tr style=\"text-align: right;\">\n",
       "      <th></th>\n",
       "      <th>Id</th>\n",
       "      <th>num_sold</th>\n",
       "    </tr>\n",
       "  </thead>\n",
       "  <tbody>\n",
       "    <tr>\n",
       "      <th>0</th>\n",
       "      <td>136950</td>\n",
       "      <td>37.0</td>\n",
       "    </tr>\n",
       "    <tr>\n",
       "      <th>1</th>\n",
       "      <td>136951</td>\n",
       "      <td>36.0</td>\n",
       "    </tr>\n",
       "    <tr>\n",
       "      <th>2</th>\n",
       "      <td>136952</td>\n",
       "      <td>5.0</td>\n",
       "    </tr>\n",
       "    <tr>\n",
       "      <th>3</th>\n",
       "      <td>136953</td>\n",
       "      <td>33.0</td>\n",
       "    </tr>\n",
       "    <tr>\n",
       "      <th>4</th>\n",
       "      <td>136954</td>\n",
       "      <td>28.0</td>\n",
       "    </tr>\n",
       "    <tr>\n",
       "      <th>...</th>\n",
       "      <td>...</td>\n",
       "      <td>...</td>\n",
       "    </tr>\n",
       "    <tr>\n",
       "      <th>27370</th>\n",
       "      <td>164320</td>\n",
       "      <td>745.0</td>\n",
       "    </tr>\n",
       "    <tr>\n",
       "      <th>27371</th>\n",
       "      <td>164321</td>\n",
       "      <td>725.0</td>\n",
       "    </tr>\n",
       "    <tr>\n",
       "      <th>27372</th>\n",
       "      <td>164322</td>\n",
       "      <td>114.0</td>\n",
       "    </tr>\n",
       "    <tr>\n",
       "      <th>27373</th>\n",
       "      <td>164323</td>\n",
       "      <td>676.0</td>\n",
       "    </tr>\n",
       "    <tr>\n",
       "      <th>27374</th>\n",
       "      <td>164324</td>\n",
       "      <td>566.0</td>\n",
       "    </tr>\n",
       "  </tbody>\n",
       "</table>\n",
       "<p>27375 rows × 2 columns</p>\n",
       "</div>"
      ],
      "text/plain": [
       "           Id  num_sold\n",
       "0      136950      37.0\n",
       "1      136951      36.0\n",
       "2      136952       5.0\n",
       "3      136953      33.0\n",
       "4      136954      28.0\n",
       "...       ...       ...\n",
       "27370  164320     745.0\n",
       "27371  164321     725.0\n",
       "27372  164322     114.0\n",
       "27373  164323     676.0\n",
       "27374  164324     566.0\n",
       "\n",
       "[27375 rows x 2 columns]"
      ]
     },
     "execution_count": 39,
     "metadata": {},
     "output_type": "execute_result"
    }
   ],
   "source": [
    "# Making our predictions a series so we can add it to a DF\n",
    "predictions =  pd.Series(predictions)\n",
    "\n",
    "# Combining our predictions with the Ids we extracted at the beginning\n",
    "final_predictions = pd.concat([ids,predictions], axis=1)\n",
    "\n",
    "# Renaming our columns \n",
    "final_predictions.columns = ['Id','num_sold']\n",
    "\n",
    "# Rounding our num_sold column values\n",
    "final_predictions['num_sold'] = np.round(final_predictions['num_sold'],0)\n",
    "\n",
    "# Looking at our final predictions\n",
    "final_predictions"
   ]
  },
  {
   "cell_type": "code",
   "execution_count": 40,
   "id": "51572e30",
   "metadata": {
    "execution": {
     "iopub.execute_input": "2023-07-28T10:48:46.620961Z",
     "iopub.status.busy": "2023-07-28T10:48:46.620184Z",
     "iopub.status.idle": "2023-07-28T10:48:46.712186Z",
     "shell.execute_reply": "2023-07-28T10:48:46.710540Z"
    },
    "papermill": {
     "duration": 0.151024,
     "end_time": "2023-07-28T10:48:46.715422",
     "exception": false,
     "start_time": "2023-07-28T10:48:46.564398",
     "status": "completed"
    },
    "tags": []
   },
   "outputs": [],
   "source": [
    "submissions = final_predictions\n",
    "submissions.to_csv('./submission.csv', index=False, header=True)"
   ]
  },
  {
   "cell_type": "code",
   "execution_count": null,
   "id": "192163a5",
   "metadata": {
    "papermill": {
     "duration": 0.053169,
     "end_time": "2023-07-28T10:48:46.821125",
     "exception": false,
     "start_time": "2023-07-28T10:48:46.767956",
     "status": "completed"
    },
    "tags": []
   },
   "outputs": [],
   "source": []
  }
 ],
 "metadata": {
  "kernelspec": {
   "display_name": "Python 3",
   "language": "python",
   "name": "python3"
  },
  "language_info": {
   "codemirror_mode": {
    "name": "ipython",
    "version": 3
   },
   "file_extension": ".py",
   "mimetype": "text/x-python",
   "name": "python",
   "nbconvert_exporter": "python",
   "pygments_lexer": "ipython3",
   "version": "3.10.12"
  },
  "papermill": {
   "default_parameters": {},
   "duration": 581.810298,
   "end_time": "2023-07-28T10:48:49.497155",
   "environment_variables": {},
   "exception": null,
   "input_path": "__notebook__.ipynb",
   "output_path": "__notebook__.ipynb",
   "parameters": {},
   "start_time": "2023-07-28T10:39:07.686857",
   "version": "2.4.0"
  }
 },
 "nbformat": 4,
 "nbformat_minor": 5
}
