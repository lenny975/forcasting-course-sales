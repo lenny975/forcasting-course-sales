{
 "cells": [
  {
   "cell_type": "markdown",
   "id": "51c3842d",
   "metadata": {
    "papermill": {
     "duration": 0.013436,
     "end_time": "2023-07-28T10:50:35.512135",
     "exception": false,
     "start_time": "2023-07-28T10:50:35.498699",
     "status": "completed"
    },
    "tags": []
   },
   "source": [
    "# Forecasting Mini-Course Sales with Gradient Boosting Frameworks"
   ]
  },
  {
   "cell_type": "markdown",
   "id": "73a7f1ed",
   "metadata": {
    "papermill": {
     "duration": 0.012513,
     "end_time": "2023-07-28T10:50:35.537859",
     "exception": false,
     "start_time": "2023-07-28T10:50:35.525346",
     "status": "completed"
    },
    "tags": []
   },
   "source": [
    "**AIM**: To predict 2022 sales data for various fictitious learning modules from different fictitious Kaggle-branded stores in different countries with sales data pertaining to 2017-2021."
   ]
  },
  {
   "cell_type": "markdown",
   "id": "6a3e2701",
   "metadata": {
    "papermill": {
     "duration": 0.013716,
     "end_time": "2023-07-28T10:50:35.565106",
     "exception": false,
     "start_time": "2023-07-28T10:50:35.551390",
     "status": "completed"
    },
    "tags": []
   },
   "source": [
    "### Step 1: Importing Libraries & Examining the Data"
   ]
  },
  {
   "cell_type": "code",
   "execution_count": 1,
   "id": "8bb8a2e6",
   "metadata": {
    "execution": {
     "iopub.execute_input": "2023-07-28T10:50:35.593443Z",
     "iopub.status.busy": "2023-07-28T10:50:35.592939Z",
     "iopub.status.idle": "2023-07-28T10:51:01.978365Z",
     "shell.execute_reply": "2023-07-28T10:51:01.977449Z"
    },
    "papermill": {
     "duration": 26.402398,
     "end_time": "2023-07-28T10:51:01.980965",
     "exception": false,
     "start_time": "2023-07-28T10:50:35.578567",
     "status": "completed"
    },
    "tags": []
   },
   "outputs": [
    {
     "name": "stdout",
     "output_type": "stream",
     "text": [
      "Requirement already satisfied: pip in /opt/conda/lib/python3.10/site-packages (23.1.2)\r\n",
      "Collecting pip\r\n",
      "  Downloading pip-23.2.1-py3-none-any.whl (2.1 MB)\r\n",
      "\u001b[2K     \u001b[90m━━━━━━━━━━━━━━━━━━━━━━━━━━━━━━━━━━━━━━━━\u001b[0m \u001b[32m2.1/2.1 MB\u001b[0m \u001b[31m33.8 MB/s\u001b[0m eta \u001b[36m0:00:00\u001b[0m\r\n",
      "\u001b[?25hInstalling collected packages: pip\r\n",
      "  Attempting uninstall: pip\r\n",
      "    Found existing installation: pip 23.1.2\r\n",
      "    Uninstalling pip-23.1.2:\r\n",
      "      Successfully uninstalled pip-23.1.2\r\n",
      "Successfully installed pip-23.2.1\r\n"
     ]
    }
   ],
   "source": [
    "!pip install --upgrade pip"
   ]
  },
  {
   "cell_type": "code",
   "execution_count": 2,
   "id": "dbbdc4f3",
   "metadata": {
    "execution": {
     "iopub.execute_input": "2023-07-28T10:51:02.010100Z",
     "iopub.status.busy": "2023-07-28T10:51:02.009697Z",
     "iopub.status.idle": "2023-07-28T10:51:19.169253Z",
     "shell.execute_reply": "2023-07-28T10:51:19.167849Z"
    },
    "papermill": {
     "duration": 17.177895,
     "end_time": "2023-07-28T10:51:19.172316",
     "exception": false,
     "start_time": "2023-07-28T10:51:01.994421",
     "status": "completed"
    },
    "tags": []
   },
   "outputs": [
    {
     "name": "stdout",
     "output_type": "stream",
     "text": [
      "\r\n",
      "\r\n",
      "\r\n",
      "The following additional packages will be installed:\r\n",
      "  freeglut3 libglu1-mesa libpython2-stdlib libpython2.7-minimal\r\n",
      "  libpython2.7-stdlib python2 python2-minimal python2.7 python2.7-minimal\r\n",
      "Suggested packages:\r\n",
      "  python-tk python-numpy libgle3 python2-doc python2.7-doc binfmt-support\r\n",
      "The following NEW packages will be installed:\r\n",
      "  freeglut3 libglu1-mesa libpython2-stdlib libpython2.7-minimal\r\n",
      "  libpython2.7-stdlib python-opengl python2 python2-minimal python2.7\r\n",
      "  python2.7-minimal\r\n",
      "0 upgraded, 10 newly installed, 0 to remove and 6 not upgraded.\r\n",
      "Need to get 4540 kB of archives.\r\n",
      "After this operation, 22.7 MB of additional disk space will be used.\r\n",
      "Get:1 http://archive.ubuntu.com/ubuntu focal-updates/universe amd64 libpython2.7-minimal amd64 2.7.18-1~20.04.3 [336 kB]\r\n",
      "Get:2 http://archive.ubuntu.com/ubuntu focal-updates/universe amd64 python2.7-minimal amd64 2.7.18-1~20.04.3 [1280 kB]\r\n",
      "Get:3 http://archive.ubuntu.com/ubuntu focal/universe amd64 python2-minimal amd64 2.7.17-2ubuntu4 [27.5 kB]\r\n",
      "Get:4 http://archive.ubuntu.com/ubuntu focal-updates/universe amd64 libpython2.7-stdlib amd64 2.7.18-1~20.04.3 [1888 kB]\r\n",
      "Get:5 http://archive.ubuntu.com/ubuntu focal-updates/universe amd64 python2.7 amd64 2.7.18-1~20.04.3 [248 kB]\r\n",
      "Get:6 http://archive.ubuntu.com/ubuntu focal/universe amd64 libpython2-stdlib amd64 2.7.17-2ubuntu4 [7072 B]\r\n",
      "Get:7 http://archive.ubuntu.com/ubuntu focal/universe amd64 python2 amd64 2.7.17-2ubuntu4 [26.5 kB]\r\n",
      "Get:8 http://archive.ubuntu.com/ubuntu focal/universe amd64 freeglut3 amd64 2.8.1-3 [73.6 kB]\r\n",
      "Get:9 http://archive.ubuntu.com/ubuntu focal/main amd64 libglu1-mesa amd64 9.0.1-1build1 [168 kB]\r\n",
      "Get:10 http://archive.ubuntu.com/ubuntu focal/universe amd64 python-opengl all 3.1.0+dfsg-2build1 [486 kB]\r\n",
      "Fetched 4540 kB in 2s (2734 kB/s)\r\n",
      "Selecting previously unselected package libpython2.7-minimal:amd64.\r\n",
      "(Reading database ... 107656 files and directories currently installed.)\r\n",
      "Preparing to unpack .../0-libpython2.7-minimal_2.7.18-1~20.04.3_amd64.deb ...\r\n",
      "Unpacking libpython2.7-minimal:amd64 (2.7.18-1~20.04.3) ...\r\n",
      "Selecting previously unselected package python2.7-minimal.\r\n",
      "Preparing to unpack .../1-python2.7-minimal_2.7.18-1~20.04.3_amd64.deb ...\r\n",
      "Unpacking python2.7-minimal (2.7.18-1~20.04.3) ...\r\n",
      "Selecting previously unselected package python2-minimal.\r\n",
      "Preparing to unpack .../2-python2-minimal_2.7.17-2ubuntu4_amd64.deb ...\r\n",
      "Unpacking python2-minimal (2.7.17-2ubuntu4) ...\r\n",
      "Selecting previously unselected package libpython2.7-stdlib:amd64.\r\n",
      "Preparing to unpack .../3-libpython2.7-stdlib_2.7.18-1~20.04.3_amd64.deb ...\r\n",
      "Unpacking libpython2.7-stdlib:amd64 (2.7.18-1~20.04.3) ...\r\n",
      "Selecting previously unselected package python2.7.\r\n",
      "Preparing to unpack .../4-python2.7_2.7.18-1~20.04.3_amd64.deb ...\r\n",
      "Unpacking python2.7 (2.7.18-1~20.04.3) ...\r\n",
      "Selecting previously unselected package libpython2-stdlib:amd64.\r\n",
      "Preparing to unpack .../5-libpython2-stdlib_2.7.17-2ubuntu4_amd64.deb ...\r\n",
      "Unpacking libpython2-stdlib:amd64 (2.7.17-2ubuntu4) ...\r\n",
      "Setting up libpython2.7-minimal:amd64 (2.7.18-1~20.04.3) ...\r\n",
      "Setting up python2.7-minimal (2.7.18-1~20.04.3) ...\r\n",
      "Linking and byte-compiling packages for runtime python2.7...\r\n",
      "Setting up python2-minimal (2.7.17-2ubuntu4) ...\r\n",
      "Selecting previously unselected package python2.\r\n",
      "(Reading database ... 108403 files and directories currently installed.)\r\n",
      "Preparing to unpack .../python2_2.7.17-2ubuntu4_amd64.deb ...\r\n",
      "Unpacking python2 (2.7.17-2ubuntu4) ...\r\n",
      "Selecting previously unselected package freeglut3:amd64.\r\n",
      "Preparing to unpack .../freeglut3_2.8.1-3_amd64.deb ...\r\n",
      "Unpacking freeglut3:amd64 (2.8.1-3) ...\r\n",
      "Selecting previously unselected package libglu1-mesa:amd64.\r\n",
      "Preparing to unpack .../libglu1-mesa_9.0.1-1build1_amd64.deb ...\r\n",
      "Unpacking libglu1-mesa:amd64 (9.0.1-1build1) ...\r\n",
      "Selecting previously unselected package python-opengl.\r\n",
      "Preparing to unpack .../python-opengl_3.1.0+dfsg-2build1_all.deb ...\r\n",
      "Unpacking python-opengl (3.1.0+dfsg-2build1) ...\r\n",
      "Setting up freeglut3:amd64 (2.8.1-3) ...\r\n",
      "Setting up libpython2.7-stdlib:amd64 (2.7.18-1~20.04.3) ...\r\n",
      "Setting up libglu1-mesa:amd64 (9.0.1-1build1) ...\r\n",
      "Setting up python2.7 (2.7.18-1~20.04.3) ...\r\n",
      "Setting up libpython2-stdlib:amd64 (2.7.17-2ubuntu4) ...\r\n",
      "Setting up python2 (2.7.17-2ubuntu4) ...\r\n",
      "Setting up python-opengl (3.1.0+dfsg-2build1) ...\r\n",
      "Processing triggers for man-db (2.9.1-1) ...\r\n",
      "Processing triggers for mime-support (3.64ubuntu1) ...\r\n",
      "Processing triggers for libc-bin (2.31-0ubuntu9.9) ...\r\n",
      "\r\n",
      "\r\n",
      "\r\n",
      "xvfb is already the newest version (2:1.20.13-1ubuntu1~20.04.8).\r\n",
      "0 upgraded, 0 newly installed, 0 to remove and 6 not upgraded.\r\n"
     ]
    }
   ],
   "source": [
    "!apt-get install -y python-opengl\n",
    "!apt install xvfb -y"
   ]
  },
  {
   "cell_type": "code",
   "execution_count": 3,
   "id": "d372102e",
   "metadata": {
    "execution": {
     "iopub.execute_input": "2023-07-28T10:51:19.215007Z",
     "iopub.status.busy": "2023-07-28T10:51:19.214594Z",
     "iopub.status.idle": "2023-07-28T10:52:00.439666Z",
     "shell.execute_reply": "2023-07-28T10:52:00.438546Z"
    },
    "papermill": {
     "duration": 41.24955,
     "end_time": "2023-07-28T10:52:00.442300",
     "exception": false,
     "start_time": "2023-07-28T10:51:19.192750",
     "status": "completed"
    },
    "tags": []
   },
   "outputs": [
    {
     "name": "stdout",
     "output_type": "stream",
     "text": [
      "Requirement already satisfied: shap in /opt/conda/lib/python3.10/site-packages (0.42.0)\r\n",
      "Requirement already satisfied: numpy in /opt/conda/lib/python3.10/site-packages (from shap) (1.23.5)\r\n",
      "Requirement already satisfied: scipy in /opt/conda/lib/python3.10/site-packages (from shap) (1.11.1)\r\n",
      "Requirement already satisfied: scikit-learn in /opt/conda/lib/python3.10/site-packages (from shap) (1.2.2)\r\n",
      "Requirement already satisfied: pandas in /opt/conda/lib/python3.10/site-packages (from shap) (1.5.3)\r\n",
      "Requirement already satisfied: tqdm>=4.27.0 in /opt/conda/lib/python3.10/site-packages (from shap) (4.65.0)\r\n",
      "Requirement already satisfied: packaging>20.9 in /opt/conda/lib/python3.10/site-packages (from shap) (21.3)\r\n",
      "Requirement already satisfied: slicer==0.0.7 in /opt/conda/lib/python3.10/site-packages (from shap) (0.0.7)\r\n",
      "Requirement already satisfied: numba in /opt/conda/lib/python3.10/site-packages (from shap) (0.57.1)\r\n",
      "Requirement already satisfied: cloudpickle in /opt/conda/lib/python3.10/site-packages (from shap) (2.2.1)\r\n",
      "Requirement already satisfied: pyparsing!=3.0.5,>=2.0.2 in /opt/conda/lib/python3.10/site-packages (from packaging>20.9->shap) (3.0.9)\r\n",
      "Requirement already satisfied: llvmlite<0.41,>=0.40.0dev0 in /opt/conda/lib/python3.10/site-packages (from numba->shap) (0.40.1)\r\n",
      "Requirement already satisfied: python-dateutil>=2.8.1 in /opt/conda/lib/python3.10/site-packages (from pandas->shap) (2.8.2)\r\n",
      "Requirement already satisfied: pytz>=2020.1 in /opt/conda/lib/python3.10/site-packages (from pandas->shap) (2023.3)\r\n",
      "Requirement already satisfied: joblib>=1.1.1 in /opt/conda/lib/python3.10/site-packages (from scikit-learn->shap) (1.2.0)\r\n",
      "Requirement already satisfied: threadpoolctl>=2.0.0 in /opt/conda/lib/python3.10/site-packages (from scikit-learn->shap) (3.1.0)\r\n",
      "Requirement already satisfied: six>=1.5 in /opt/conda/lib/python3.10/site-packages (from python-dateutil>=2.8.1->pandas->shap) (1.16.0)\r\n"
     ]
    }
   ],
   "source": [
    "!pip install -q pycaret\n",
    "!pip install shap"
   ]
  },
  {
   "cell_type": "code",
   "execution_count": 4,
   "id": "5ad79ca7",
   "metadata": {
    "execution": {
     "iopub.execute_input": "2023-07-28T10:52:00.486615Z",
     "iopub.status.busy": "2023-07-28T10:52:00.486225Z",
     "iopub.status.idle": "2023-07-28T10:52:13.485562Z",
     "shell.execute_reply": "2023-07-28T10:52:13.484300Z"
    },
    "papermill": {
     "duration": 13.024488,
     "end_time": "2023-07-28T10:52:13.487994",
     "exception": false,
     "start_time": "2023-07-28T10:52:00.463506",
     "status": "completed"
    },
    "tags": []
   },
   "outputs": [
    {
     "name": "stdout",
     "output_type": "stream",
     "text": [
      "Requirement already satisfied: holidays in /opt/conda/lib/python3.10/site-packages (0.24)\r\n",
      "Requirement already satisfied: hijri-converter in /opt/conda/lib/python3.10/site-packages (from holidays) (2.3.1)\r\n",
      "Requirement already satisfied: korean-lunar-calendar in /opt/conda/lib/python3.10/site-packages (from holidays) (0.3.1)\r\n",
      "Requirement already satisfied: python-dateutil in /opt/conda/lib/python3.10/site-packages (from holidays) (2.8.2)\r\n",
      "Requirement already satisfied: six>=1.5 in /opt/conda/lib/python3.10/site-packages (from python-dateutil->holidays) (1.16.0)\r\n"
     ]
    }
   ],
   "source": [
    "!pip install holidays"
   ]
  },
  {
   "cell_type": "code",
   "execution_count": 5,
   "id": "d3b4276e",
   "metadata": {
    "execution": {
     "iopub.execute_input": "2023-07-28T10:52:13.532472Z",
     "iopub.status.busy": "2023-07-28T10:52:13.531579Z",
     "iopub.status.idle": "2023-07-28T10:55:53.797151Z",
     "shell.execute_reply": "2023-07-28T10:55:53.796142Z"
    },
    "papermill": {
     "duration": 220.290925,
     "end_time": "2023-07-28T10:55:53.799908",
     "exception": false,
     "start_time": "2023-07-28T10:52:13.508983",
     "status": "completed"
    },
    "tags": []
   },
   "outputs": [
    {
     "name": "stdout",
     "output_type": "stream",
     "text": [
      "Collecting numpy==1.21.0\r\n",
      "  Downloading numpy-1.21.0.zip (10.3 MB)\r\n",
      "\u001b[2K     \u001b[90m━━━━━━━━━━━━━━━━━━━━━━━━━━━━━━━━━━━━━━━━\u001b[0m \u001b[32m10.3/10.3 MB\u001b[0m \u001b[31m63.5 MB/s\u001b[0m eta \u001b[36m0:00:00\u001b[0m\r\n",
      "\u001b[?25h  Installing build dependencies ... \u001b[?25l-\b \b\\\b \b|\b \b/\b \b-\b \b\\\b \b|\b \bdone\r\n",
      "\u001b[?25h  Getting requirements to build wheel ... \u001b[?25l-\b \b\\\b \b|\b \bdone\r\n",
      "\u001b[?25h  Preparing metadata (pyproject.toml) ... \u001b[?25l-\b \b\\\b \b|\b \bdone\r\n",
      "\u001b[?25hBuilding wheels for collected packages: numpy\r\n",
      "  Building wheel for numpy (pyproject.toml) ... \u001b[?25l-\b \b\\\b \b|\b \b/\b \b-\b \b\\\b \b|\b \b/\b \b-\b \b\\\b \b|\b \b/\b \b-\b \b\\\b \b|\b \b/\b \b-\b \b\\\b \b|\b \b/\b \b-\b \b\\\b \b|\b \b/\b \b-\b \b\\\b \b|\b \b/\b \b-\b \b\\\b \b|\b \b/\b \b-\b \b\\\b \b|\b \b/\b \b-\b \b\\\b \b|\b \b/\b \b-\b \b\\\b \b|\b \b/\b \b-\b \b\\\b \b|\b \b/\b \b-\b \b\\\b \b|\b \b/\b \b-\b \b\\\b \b|\b \b/\b \b-\b \b\\\b \b|\b \b/\b \b-\b \b\\\b \b|\b \b/\b \b-\b \b\\\b \b|\b \b/\b \b-\b \b\\\b \b|\b \b/\b \b-\b \b\\\b \b|\b \b/\b \b-\b \b\\\b \b|\b \b/\b \b-\b \b\\\b \b|\b \b/\b \b-\b \b\\\b \b|\b \b/\b \b-\b \b\\\b \b|\b \b/\b \b-\b \b\\\b \b|\b \b/\b \b-\b \b\\\b \b|\b \b/\b \b-\b \b\\\b \b|\b \b/\b \b-\b \b\\\b \b|\b \b/\b \b-\b \b\\\b \b|\b \b/\b \b-\b \b\\\b \b|\b \b/\b \b-\b \b\\\b \b|\b \b/\b \b-\b \b\\\b \b|\b \b/\b \b-\b \b\\\b \b|\b \b/\b \b-\b \b\\\b \b|\b \b/\b \b-\b \b\\\b \b|\b \b/\b \b-\b \b\\\b \b|\b \b/\b \b-\b \b\\\b \b|\b \b/\b \b-\b \b\\\b \b|\b \b/\b \bdone\r\n",
      "\u001b[?25h  Created wheel for numpy: filename=numpy-1.21.0-cp310-cp310-linux_x86_64.whl size=5308598 sha256=cda4eed989c89bac69a5707f47cc5f7a254db9fd3dc551c66f093788e7147b68\r\n",
      "  Stored in directory: /root/.cache/pip/wheels/05/61/d1/ccc2cd557b39e127ad98a392d9558f3c5dda28764b7f54b2f5\r\n",
      "Successfully built numpy\r\n",
      "Installing collected packages: numpy\r\n",
      "  Attempting uninstall: numpy\r\n",
      "    Found existing installation: numpy 1.23.5\r\n",
      "    Uninstalling numpy-1.23.5:\r\n",
      "      Successfully uninstalled numpy-1.23.5\r\n",
      "Successfully installed numpy-1.21.0\r\n"
     ]
    }
   ],
   "source": [
    "!pip install --force-reinstall --no-deps numpy==1.21.0"
   ]
  },
  {
   "cell_type": "code",
   "execution_count": 6,
   "id": "25ba2be9",
   "metadata": {
    "execution": {
     "iopub.execute_input": "2023-07-28T10:55:53.873057Z",
     "iopub.status.busy": "2023-07-28T10:55:53.872668Z",
     "iopub.status.idle": "2023-07-28T10:56:00.177647Z",
     "shell.execute_reply": "2023-07-28T10:56:00.176449Z"
    },
    "papermill": {
     "duration": 6.344069,
     "end_time": "2023-07-28T10:56:00.180419",
     "exception": false,
     "start_time": "2023-07-28T10:55:53.836350",
     "status": "completed"
    },
    "tags": []
   },
   "outputs": [
    {
     "name": "stderr",
     "output_type": "stream",
     "text": [
      "/opt/conda/lib/python3.10/site-packages/scipy/__init__.py:146: UserWarning: A NumPy version >=1.16.5 and <1.23.0 is required for this version of SciPy (detected version 1.23.5\n",
      "  warnings.warn(f\"A NumPy version >={np_minversion} and <{np_maxversion}\"\n"
     ]
    }
   ],
   "source": [
    "# Importing libraries\n",
    "import pandas as pd\n",
    "import numpy as np\n",
    "import matplotlib.pyplot as plt\n",
    "import seaborn as sns\n",
    "\n",
    "\n",
    "import holidays\n",
    "from pycaret.regression import setup, compare_models \n",
    "from catboost import CatBoostRegressor\n",
    "from xgboost import XGBRegressor\n",
    "from lightgbm import LGBMRegressor\n",
    "from sklearn.model_selection import RandomizedSearchCV\n",
    "from scipy.stats import randint\n",
    "from sklearn.preprocessing import LabelEncoder\n",
    "from scipy.stats import uniform as randFloat\n",
    "from sklearn.model_selection import train_test_split\n",
    "from sklearn.model_selection import TimeSeriesSplit\n"
   ]
  },
  {
   "cell_type": "code",
   "execution_count": 7,
   "id": "e592b89f",
   "metadata": {
    "execution": {
     "iopub.execute_input": "2023-07-28T10:56:00.254098Z",
     "iopub.status.busy": "2023-07-28T10:56:00.253664Z",
     "iopub.status.idle": "2023-07-28T10:56:00.622844Z",
     "shell.execute_reply": "2023-07-28T10:56:00.621858Z"
    },
    "papermill": {
     "duration": 0.409285,
     "end_time": "2023-07-28T10:56:00.625440",
     "exception": false,
     "start_time": "2023-07-28T10:56:00.216155",
     "status": "completed"
    },
    "tags": []
   },
   "outputs": [
    {
     "data": {
      "text/html": [
       "<div>\n",
       "<style scoped>\n",
       "    .dataframe tbody tr th:only-of-type {\n",
       "        vertical-align: middle;\n",
       "    }\n",
       "\n",
       "    .dataframe tbody tr th {\n",
       "        vertical-align: top;\n",
       "    }\n",
       "\n",
       "    .dataframe thead th {\n",
       "        text-align: right;\n",
       "    }\n",
       "</style>\n",
       "<table border=\"1\" class=\"dataframe\">\n",
       "  <thead>\n",
       "    <tr style=\"text-align: right;\">\n",
       "      <th></th>\n",
       "      <th>id</th>\n",
       "      <th>date</th>\n",
       "      <th>country</th>\n",
       "      <th>store</th>\n",
       "      <th>product</th>\n",
       "      <th>num_sold</th>\n",
       "    </tr>\n",
       "  </thead>\n",
       "  <tbody>\n",
       "    <tr>\n",
       "      <th>0</th>\n",
       "      <td>0</td>\n",
       "      <td>2017-01-01</td>\n",
       "      <td>Argentina</td>\n",
       "      <td>Kaggle Learn</td>\n",
       "      <td>Using LLMs to Improve Your Coding</td>\n",
       "      <td>63</td>\n",
       "    </tr>\n",
       "    <tr>\n",
       "      <th>1</th>\n",
       "      <td>1</td>\n",
       "      <td>2017-01-01</td>\n",
       "      <td>Argentina</td>\n",
       "      <td>Kaggle Learn</td>\n",
       "      <td>Using LLMs to Train More LLMs</td>\n",
       "      <td>66</td>\n",
       "    </tr>\n",
       "    <tr>\n",
       "      <th>2</th>\n",
       "      <td>2</td>\n",
       "      <td>2017-01-01</td>\n",
       "      <td>Argentina</td>\n",
       "      <td>Kaggle Learn</td>\n",
       "      <td>Using LLMs to Win Friends and Influence People</td>\n",
       "      <td>9</td>\n",
       "    </tr>\n",
       "    <tr>\n",
       "      <th>3</th>\n",
       "      <td>3</td>\n",
       "      <td>2017-01-01</td>\n",
       "      <td>Argentina</td>\n",
       "      <td>Kaggle Learn</td>\n",
       "      <td>Using LLMs to Win More Kaggle Competitions</td>\n",
       "      <td>59</td>\n",
       "    </tr>\n",
       "    <tr>\n",
       "      <th>4</th>\n",
       "      <td>4</td>\n",
       "      <td>2017-01-01</td>\n",
       "      <td>Argentina</td>\n",
       "      <td>Kaggle Learn</td>\n",
       "      <td>Using LLMs to Write Better</td>\n",
       "      <td>49</td>\n",
       "    </tr>\n",
       "  </tbody>\n",
       "</table>\n",
       "</div>"
      ],
      "text/plain": [
       "   id       date    country         store  \\\n",
       "0   0 2017-01-01  Argentina  Kaggle Learn   \n",
       "1   1 2017-01-01  Argentina  Kaggle Learn   \n",
       "2   2 2017-01-01  Argentina  Kaggle Learn   \n",
       "3   3 2017-01-01  Argentina  Kaggle Learn   \n",
       "4   4 2017-01-01  Argentina  Kaggle Learn   \n",
       "\n",
       "                                          product  num_sold  \n",
       "0               Using LLMs to Improve Your Coding        63  \n",
       "1                   Using LLMs to Train More LLMs        66  \n",
       "2  Using LLMs to Win Friends and Influence People         9  \n",
       "3      Using LLMs to Win More Kaggle Competitions        59  \n",
       "4                      Using LLMs to Write Better        49  "
      ]
     },
     "execution_count": 7,
     "metadata": {},
     "output_type": "execute_result"
    }
   ],
   "source": [
    "# Reading in the data while parsing the 'date' column in as a datetime dtype\n",
    "orig_train = pd.read_csv('/kaggle/input/playground-series-s3e19/train.csv', parse_dates = ['date'])\n",
    "orig_test = pd.read_csv('/kaggle/input/playground-series-s3e19/test.csv', parse_dates = ['date'])\n",
    "\n",
    "# Looking at the training data\n",
    "orig_train.head()"
   ]
  },
  {
   "cell_type": "code",
   "execution_count": 8,
   "id": "10b4ddc2",
   "metadata": {
    "execution": {
     "iopub.execute_input": "2023-07-28T10:56:00.698020Z",
     "iopub.status.busy": "2023-07-28T10:56:00.697630Z",
     "iopub.status.idle": "2023-07-28T10:56:00.840308Z",
     "shell.execute_reply": "2023-07-28T10:56:00.839612Z"
    },
    "papermill": {
     "duration": 0.181598,
     "end_time": "2023-07-28T10:56:00.842490",
     "exception": false,
     "start_time": "2023-07-28T10:56:00.660892",
     "status": "completed"
    },
    "tags": []
   },
   "outputs": [
    {
     "name": "stdout",
     "output_type": "stream",
     "text": [
      "<class 'pandas.core.frame.DataFrame'>\n",
      "RangeIndex: 136950 entries, 0 to 136949\n",
      "Data columns (total 6 columns):\n",
      " #   Column    Non-Null Count   Dtype         \n",
      "---  ------    --------------   -----         \n",
      " 0   id        136950 non-null  int64         \n",
      " 1   date      136950 non-null  datetime64[ns]\n",
      " 2   country   136950 non-null  object        \n",
      " 3   store     136950 non-null  object        \n",
      " 4   product   136950 non-null  object        \n",
      " 5   num_sold  136950 non-null  int64         \n",
      "dtypes: datetime64[ns](1), int64(2), object(3)\n",
      "memory usage: 6.3+ MB\n"
     ]
    }
   ],
   "source": [
    "orig_train.info()"
   ]
  },
  {
   "cell_type": "code",
   "execution_count": 9,
   "id": "f160369f",
   "metadata": {
    "execution": {
     "iopub.execute_input": "2023-07-28T10:56:00.913071Z",
     "iopub.status.busy": "2023-07-28T10:56:00.912458Z",
     "iopub.status.idle": "2023-07-28T10:56:00.934651Z",
     "shell.execute_reply": "2023-07-28T10:56:00.933552Z"
    },
    "papermill": {
     "duration": 0.060397,
     "end_time": "2023-07-28T10:56:00.936649",
     "exception": false,
     "start_time": "2023-07-28T10:56:00.876252",
     "status": "completed"
    },
    "tags": []
   },
   "outputs": [
    {
     "data": {
      "text/html": [
       "<div>\n",
       "<style scoped>\n",
       "    .dataframe tbody tr th:only-of-type {\n",
       "        vertical-align: middle;\n",
       "    }\n",
       "\n",
       "    .dataframe tbody tr th {\n",
       "        vertical-align: top;\n",
       "    }\n",
       "\n",
       "    .dataframe thead th {\n",
       "        text-align: right;\n",
       "    }\n",
       "</style>\n",
       "<table border=\"1\" class=\"dataframe\">\n",
       "  <thead>\n",
       "    <tr style=\"text-align: right;\">\n",
       "      <th></th>\n",
       "      <th>id</th>\n",
       "      <th>num_sold</th>\n",
       "    </tr>\n",
       "  </thead>\n",
       "  <tbody>\n",
       "    <tr>\n",
       "      <th>count</th>\n",
       "      <td>136950.00000</td>\n",
       "      <td>136950.000000</td>\n",
       "    </tr>\n",
       "    <tr>\n",
       "      <th>mean</th>\n",
       "      <td>68474.50000</td>\n",
       "      <td>165.522636</td>\n",
       "    </tr>\n",
       "    <tr>\n",
       "      <th>std</th>\n",
       "      <td>39534.20402</td>\n",
       "      <td>183.691575</td>\n",
       "    </tr>\n",
       "    <tr>\n",
       "      <th>min</th>\n",
       "      <td>0.00000</td>\n",
       "      <td>2.000000</td>\n",
       "    </tr>\n",
       "    <tr>\n",
       "      <th>25%</th>\n",
       "      <td>34237.25000</td>\n",
       "      <td>46.000000</td>\n",
       "    </tr>\n",
       "    <tr>\n",
       "      <th>50%</th>\n",
       "      <td>68474.50000</td>\n",
       "      <td>98.000000</td>\n",
       "    </tr>\n",
       "    <tr>\n",
       "      <th>75%</th>\n",
       "      <td>102711.75000</td>\n",
       "      <td>184.000000</td>\n",
       "    </tr>\n",
       "    <tr>\n",
       "      <th>max</th>\n",
       "      <td>136949.00000</td>\n",
       "      <td>1380.000000</td>\n",
       "    </tr>\n",
       "  </tbody>\n",
       "</table>\n",
       "</div>"
      ],
      "text/plain": [
       "                 id       num_sold\n",
       "count  136950.00000  136950.000000\n",
       "mean    68474.50000     165.522636\n",
       "std     39534.20402     183.691575\n",
       "min         0.00000       2.000000\n",
       "25%     34237.25000      46.000000\n",
       "50%     68474.50000      98.000000\n",
       "75%    102711.75000     184.000000\n",
       "max    136949.00000    1380.000000"
      ]
     },
     "execution_count": 9,
     "metadata": {},
     "output_type": "execute_result"
    }
   ],
   "source": [
    "orig_train.describe()"
   ]
  },
  {
   "cell_type": "markdown",
   "id": "abe8665f",
   "metadata": {
    "papermill": {
     "duration": 0.034996,
     "end_time": "2023-07-28T10:56:01.007412",
     "exception": false,
     "start_time": "2023-07-28T10:56:00.972416",
     "status": "completed"
    },
    "tags": []
   },
   "source": [
    "We'll take a look at the monthly sales per year next"
   ]
  },
  {
   "cell_type": "code",
   "execution_count": 10,
   "id": "51d3264d",
   "metadata": {
    "execution": {
     "iopub.execute_input": "2023-07-28T10:56:01.082102Z",
     "iopub.status.busy": "2023-07-28T10:56:01.081412Z",
     "iopub.status.idle": "2023-07-28T10:56:01.844610Z",
     "shell.execute_reply": "2023-07-28T10:56:01.843837Z"
    },
    "papermill": {
     "duration": 0.803566,
     "end_time": "2023-07-28T10:56:01.846992",
     "exception": false,
     "start_time": "2023-07-28T10:56:01.043426",
     "status": "completed"
    },
    "tags": []
   },
   "outputs": [
    {
     "data": {
      "image/png": "[encoded data removed]",
      "text/plain": [
       "<Figure size 1000x600 with 1 Axes>"
      ]
     },
     "metadata": {},
     "output_type": "display_data"
    }
   ],
   "source": [
    "monthly_sales = orig_train.copy()\n",
    "monthly_sales['year'] = monthly_sales['date'].dt.year\n",
    "monthly_sales['month'] = monthly_sales['date'].dt.month\n",
    "\n",
    "grouped_data = monthly_sales.groupby(['year', 'month'])['num_sold'].sum().reset_index()\n",
    "\n",
    "sns.set(style=\"darkgrid\")\n",
    "fig, ax = plt.subplots(figsize=(10, 6))\n",
    "sns.lineplot(data=monthly_sales, x='month', y='num_sold', hue='year', ax=ax, errorbar=None, palette='bright')\n",
    "ax.set_xticks(range(1, 13))\n",
    "ax.set_xticklabels(['Jan', 'Feb', 'Mar', 'Apr', 'May', 'Jun', 'Jul', 'Aug', 'Sep', 'Oct', 'Nov', 'Dec'])\n",
    "ax.set_xlabel('Month')\n",
    "ax.set_ylabel('Sales')\n",
    "ax.set_title('Monthly Sales')\n",
    "plt.show()"
   ]
  },
  {
   "cell_type": "markdown",
   "id": "91c97a88",
   "metadata": {
    "papermill": {
     "duration": 0.037005,
     "end_time": "2023-07-28T10:56:01.920674",
     "exception": false,
     "start_time": "2023-07-28T10:56:01.883669",
     "status": "completed"
    },
    "tags": []
   },
   "source": [
    "We can notice a significant drop in sales around the time of Covid (April 2020). This will impact our final model performance and so we'll adjust these values in a later step."
   ]
  },
  {
   "cell_type": "code",
   "execution_count": 11,
   "id": "5ccde3c2",
   "metadata": {
    "execution": {
     "iopub.execute_input": "2023-07-28T10:56:01.996505Z",
     "iopub.status.busy": "2023-07-28T10:56:01.995682Z",
     "iopub.status.idle": "2023-07-28T10:56:02.034150Z",
     "shell.execute_reply": "2023-07-28T10:56:02.032873Z"
    },
    "papermill": {
     "duration": 0.079434,
     "end_time": "2023-07-28T10:56:02.036475",
     "exception": false,
     "start_time": "2023-07-28T10:56:01.957041",
     "status": "completed"
    },
    "tags": []
   },
   "outputs": [
    {
     "name": "stdout",
     "output_type": "stream",
     "text": [
      "<class 'pandas.core.frame.DataFrame'>\n",
      "RangeIndex: 27375 entries, 0 to 27374\n",
      "Data columns (total 5 columns):\n",
      " #   Column   Non-Null Count  Dtype         \n",
      "---  ------   --------------  -----         \n",
      " 0   id       27375 non-null  int64         \n",
      " 1   date     27375 non-null  datetime64[ns]\n",
      " 2   country  27375 non-null  object        \n",
      " 3   store    27375 non-null  object        \n",
      " 4   product  27375 non-null  object        \n",
      "dtypes: datetime64[ns](1), int64(1), object(3)\n",
      "memory usage: 1.0+ MB\n"
     ]
    }
   ],
   "source": [
    "orig_test.info()"
   ]
  },
  {
   "cell_type": "code",
   "execution_count": 12,
   "id": "8ce4075a",
   "metadata": {
    "execution": {
     "iopub.execute_input": "2023-07-28T10:56:02.114876Z",
     "iopub.status.busy": "2023-07-28T10:56:02.114490Z",
     "iopub.status.idle": "2023-07-28T10:56:03.322768Z",
     "shell.execute_reply": "2023-07-28T10:56:03.321228Z"
    },
    "papermill": {
     "duration": 1.250752,
     "end_time": "2023-07-28T10:56:03.325716",
     "exception": false,
     "start_time": "2023-07-28T10:56:02.074964",
     "status": "completed"
    },
    "tags": []
   },
   "outputs": [
    {
     "data": {
      "image/png": "[encoded data removed]",
      "text/plain": [
       "<Figure size 800x400 with 1 Axes>"
      ]
     },
     "metadata": {},
     "output_type": "display_data"
    }
   ],
   "source": [
    "# Plotting a distribution of target variable, num_sold\n",
    "plt.figure(figsize=(8,4))\n",
    "sns.histplot(orig_train['num_sold'], color='b', bins=30, kde=True)\n",
    "plt.title('Number Sold Distribution')\n",
    "\n",
    "plt.show()"
   ]
  },
  {
   "cell_type": "markdown",
   "id": "ee5bd747",
   "metadata": {
    "papermill": {
     "duration": 0.040449,
     "end_time": "2023-07-28T10:56:03.406647",
     "exception": false,
     "start_time": "2023-07-28T10:56:03.366198",
     "status": "completed"
    },
    "tags": []
   },
   "source": [
    "The target variable distribution is stongly right-skewed, later we'll use a log transformation to amend this."
   ]
  },
  {
   "cell_type": "markdown",
   "id": "1047ab8a",
   "metadata": {
    "papermill": {
     "duration": 0.040685,
     "end_time": "2023-07-28T10:56:03.488137",
     "exception": false,
     "start_time": "2023-07-28T10:56:03.447452",
     "status": "completed"
    },
    "tags": []
   },
   "source": [
    "### Initial Observations:\n",
    "- Our train and test sets contain a mix of categorical and numerical data.\n",
    "- Our target variable is strongly right-skewed\n",
    "- There is a significant drop in sales around the time of Covid (April 2020)"
   ]
  },
  {
   "cell_type": "markdown",
   "id": "50dcfcd7",
   "metadata": {
    "papermill": {
     "duration": 0.039871,
     "end_time": "2023-07-28T10:56:03.568415",
     "exception": false,
     "start_time": "2023-07-28T10:56:03.528544",
     "status": "completed"
    },
    "tags": []
   },
   "source": [
    "### Covid Sales "
   ]
  },
  {
   "cell_type": "code",
   "execution_count": 13,
   "id": "8a8bb311",
   "metadata": {
    "execution": {
     "iopub.execute_input": "2023-07-28T10:56:03.652731Z",
     "iopub.status.busy": "2023-07-28T10:56:03.652300Z",
     "iopub.status.idle": "2023-07-28T10:56:03.694695Z",
     "shell.execute_reply": "2023-07-28T10:56:03.693521Z"
    },
    "papermill": {
     "duration": 0.088382,
     "end_time": "2023-07-28T10:56:03.697421",
     "exception": false,
     "start_time": "2023-07-28T10:56:03.609039",
     "status": "completed"
    },
    "tags": []
   },
   "outputs": [
    {
     "data": {
      "text/html": [
       "<div>\n",
       "<style scoped>\n",
       "    .dataframe tbody tr th:only-of-type {\n",
       "        vertical-align: middle;\n",
       "    }\n",
       "\n",
       "    .dataframe tbody tr th {\n",
       "        vertical-align: top;\n",
       "    }\n",
       "\n",
       "    .dataframe thead th {\n",
       "        text-align: right;\n",
       "    }\n",
       "</style>\n",
       "<table border=\"1\" class=\"dataframe\">\n",
       "  <thead>\n",
       "    <tr style=\"text-align: right;\">\n",
       "      <th></th>\n",
       "      <th>id</th>\n",
       "      <th>date</th>\n",
       "      <th>country</th>\n",
       "      <th>store</th>\n",
       "      <th>product</th>\n",
       "      <th>num_sold</th>\n",
       "      <th>year</th>\n",
       "      <th>month</th>\n",
       "    </tr>\n",
       "  </thead>\n",
       "  <tbody>\n",
       "    <tr>\n",
       "      <th>0</th>\n",
       "      <td>0</td>\n",
       "      <td>2017-01-01</td>\n",
       "      <td>Argentina</td>\n",
       "      <td>Kaggle Learn</td>\n",
       "      <td>Using LLMs to Improve Your Coding</td>\n",
       "      <td>63.0</td>\n",
       "      <td>2017</td>\n",
       "      <td>1</td>\n",
       "    </tr>\n",
       "    <tr>\n",
       "      <th>1</th>\n",
       "      <td>1</td>\n",
       "      <td>2017-01-01</td>\n",
       "      <td>Argentina</td>\n",
       "      <td>Kaggle Learn</td>\n",
       "      <td>Using LLMs to Train More LLMs</td>\n",
       "      <td>66.0</td>\n",
       "      <td>2017</td>\n",
       "      <td>1</td>\n",
       "    </tr>\n",
       "    <tr>\n",
       "      <th>2</th>\n",
       "      <td>2</td>\n",
       "      <td>2017-01-01</td>\n",
       "      <td>Argentina</td>\n",
       "      <td>Kaggle Learn</td>\n",
       "      <td>Using LLMs to Win Friends and Influence People</td>\n",
       "      <td>9.0</td>\n",
       "      <td>2017</td>\n",
       "      <td>1</td>\n",
       "    </tr>\n",
       "    <tr>\n",
       "      <th>3</th>\n",
       "      <td>3</td>\n",
       "      <td>2017-01-01</td>\n",
       "      <td>Argentina</td>\n",
       "      <td>Kaggle Learn</td>\n",
       "      <td>Using LLMs to Win More Kaggle Competitions</td>\n",
       "      <td>59.0</td>\n",
       "      <td>2017</td>\n",
       "      <td>1</td>\n",
       "    </tr>\n",
       "    <tr>\n",
       "      <th>4</th>\n",
       "      <td>4</td>\n",
       "      <td>2017-01-01</td>\n",
       "      <td>Argentina</td>\n",
       "      <td>Kaggle Learn</td>\n",
       "      <td>Using LLMs to Write Better</td>\n",
       "      <td>49.0</td>\n",
       "      <td>2017</td>\n",
       "      <td>1</td>\n",
       "    </tr>\n",
       "    <tr>\n",
       "      <th>...</th>\n",
       "      <td>...</td>\n",
       "      <td>...</td>\n",
       "      <td>...</td>\n",
       "      <td>...</td>\n",
       "      <td>...</td>\n",
       "      <td>...</td>\n",
       "      <td>...</td>\n",
       "      <td>...</td>\n",
       "    </tr>\n",
       "    <tr>\n",
       "      <th>136945</th>\n",
       "      <td>136945</td>\n",
       "      <td>2021-12-31</td>\n",
       "      <td>Spain</td>\n",
       "      <td>Kagglazon</td>\n",
       "      <td>Using LLMs to Improve Your Coding</td>\n",
       "      <td>700.0</td>\n",
       "      <td>2021</td>\n",
       "      <td>12</td>\n",
       "    </tr>\n",
       "    <tr>\n",
       "      <th>136946</th>\n",
       "      <td>136946</td>\n",
       "      <td>2021-12-31</td>\n",
       "      <td>Spain</td>\n",
       "      <td>Kagglazon</td>\n",
       "      <td>Using LLMs to Train More LLMs</td>\n",
       "      <td>752.0</td>\n",
       "      <td>2021</td>\n",
       "      <td>12</td>\n",
       "    </tr>\n",
       "    <tr>\n",
       "      <th>136947</th>\n",
       "      <td>136947</td>\n",
       "      <td>2021-12-31</td>\n",
       "      <td>Spain</td>\n",
       "      <td>Kagglazon</td>\n",
       "      <td>Using LLMs to Win Friends and Influence People</td>\n",
       "      <td>111.0</td>\n",
       "      <td>2021</td>\n",
       "      <td>12</td>\n",
       "    </tr>\n",
       "    <tr>\n",
       "      <th>136948</th>\n",
       "      <td>136948</td>\n",
       "      <td>2021-12-31</td>\n",
       "      <td>Spain</td>\n",
       "      <td>Kagglazon</td>\n",
       "      <td>Using LLMs to Win More Kaggle Competitions</td>\n",
       "      <td>641.0</td>\n",
       "      <td>2021</td>\n",
       "      <td>12</td>\n",
       "    </tr>\n",
       "    <tr>\n",
       "      <th>136949</th>\n",
       "      <td>136949</td>\n",
       "      <td>2021-12-31</td>\n",
       "      <td>Spain</td>\n",
       "      <td>Kagglazon</td>\n",
       "      <td>Using LLMs to Write Better</td>\n",
       "      <td>539.0</td>\n",
       "      <td>2021</td>\n",
       "      <td>12</td>\n",
       "    </tr>\n",
       "  </tbody>\n",
       "</table>\n",
       "<p>136950 rows × 8 columns</p>\n",
       "</div>"
      ],
      "text/plain": [
       "            id       date    country         store  \\\n",
       "0            0 2017-01-01  Argentina  Kaggle Learn   \n",
       "1            1 2017-01-01  Argentina  Kaggle Learn   \n",
       "2            2 2017-01-01  Argentina  Kaggle Learn   \n",
       "3            3 2017-01-01  Argentina  Kaggle Learn   \n",
       "4            4 2017-01-01  Argentina  Kaggle Learn   \n",
       "...        ...        ...        ...           ...   \n",
       "136945  136945 2021-12-31      Spain     Kagglazon   \n",
       "136946  136946 2021-12-31      Spain     Kagglazon   \n",
       "136947  136947 2021-12-31      Spain     Kagglazon   \n",
       "136948  136948 2021-12-31      Spain     Kagglazon   \n",
       "136949  136949 2021-12-31      Spain     Kagglazon   \n",
       "\n",
       "                                               product  num_sold  year  month  \n",
       "0                    Using LLMs to Improve Your Coding      63.0  2017      1  \n",
       "1                        Using LLMs to Train More LLMs      66.0  2017      1  \n",
       "2       Using LLMs to Win Friends and Influence People       9.0  2017      1  \n",
       "3           Using LLMs to Win More Kaggle Competitions      59.0  2017      1  \n",
       "4                           Using LLMs to Write Better      49.0  2017      1  \n",
       "...                                                ...       ...   ...    ...  \n",
       "136945               Using LLMs to Improve Your Coding     700.0  2021     12  \n",
       "136946                   Using LLMs to Train More LLMs     752.0  2021     12  \n",
       "136947  Using LLMs to Win Friends and Influence People     111.0  2021     12  \n",
       "136948      Using LLMs to Win More Kaggle Competitions     641.0  2021     12  \n",
       "136949                      Using LLMs to Write Better     539.0  2021     12  \n",
       "\n",
       "[136950 rows x 8 columns]"
      ]
     },
     "execution_count": 13,
     "metadata": {},
     "output_type": "execute_result"
    }
   ],
   "source": [
    "monthly_sales_amended = monthly_sales.copy()\n",
    "\n",
    "april_adjust = (monthly_sales_amended['year'] == 2020) & (monthly_sales_amended['month'] == 4)\n",
    "adjustment_factor_april = 1.2\n",
    "monthly_sales_amended.loc[april_adjust, 'num_sold'] *= adjustment_factor_april\n",
    "\n",
    "may_adjust = (monthly_sales_amended['year'] == 2020) & (monthly_sales_amended['month'] == 5)\n",
    "adjustment_factor_may = 1.05\n",
    "monthly_sales_amended.loc[may_adjust, 'num_sold'] *= adjustment_factor_may\n",
    "\n",
    "monthly_sales_amended"
   ]
  },
  {
   "cell_type": "code",
   "execution_count": 14,
   "id": "87fcee73",
   "metadata": {
    "execution": {
     "iopub.execute_input": "2023-07-28T10:56:03.780716Z",
     "iopub.status.busy": "2023-07-28T10:56:03.780328Z",
     "iopub.status.idle": "2023-07-28T10:56:05.463109Z",
     "shell.execute_reply": "2023-07-28T10:56:05.462057Z"
    },
    "papermill": {
     "duration": 1.729081,
     "end_time": "2023-07-28T10:56:05.467684",
     "exception": false,
     "start_time": "2023-07-28T10:56:03.738603",
     "status": "completed"
    },
    "tags": []
   },
   "outputs": [
    {
     "data": {
      "image/png": "[encoded data removed]",
      "text/plain": [
       "<Figure size 2500x1000 with 2 Axes>"
      ]
     },
     "metadata": {},
     "output_type": "display_data"
    }
   ],
   "source": [
    "plt.figure(figsize=(25, 10))\n",
    "\n",
    "# Original Data\n",
    "plt.subplot(1, 2, 1)\n",
    "grouped_data = monthly_sales.groupby(['year', 'month'])['num_sold'].sum().reset_index()\n",
    "\n",
    "sns.set(style=\"darkgrid\")\n",
    "ax = sns.lineplot(data=monthly_sales, x='month', y='num_sold', hue='year', errorbar=None, palette='bright')\n",
    "ax.set_xticks(range(1, 13))\n",
    "ax.set_xticklabels(['Jan', 'Feb', 'Mar', 'Apr', 'May', 'Jun', 'Jul', 'Aug', 'Sep', 'Oct', 'Nov', 'Dec'])\n",
    "ax.set_xlabel('Month')\n",
    "ax.set_ylabel('Sales')\n",
    "ax.set_title('Monthly Sales')\n",
    "\n",
    "# Amended Data\n",
    "plt.subplot(1, 2, 2)\n",
    "grouped_data = monthly_sales.groupby(['year', 'month'])['num_sold'].sum().reset_index()\n",
    "\n",
    "sns.set(style=\"darkgrid\")\n",
    "ax = sns.lineplot(data=monthly_sales_amended, x='month', y='num_sold', hue='year', errorbar=None, palette='bright')\n",
    "ax.set_xticks(range(1, 13))\n",
    "ax.set_xticklabels(['Jan', 'Feb', 'Mar', 'Apr', 'May', 'Jun', 'Jul', 'Aug', 'Sep', 'Oct', 'Nov', 'Dec'])\n",
    "ax.set_xlabel('Month')\n",
    "ax.set_ylabel('Sales')\n",
    "ax.set_title('Monthly Sales (no Covid)')\n",
    "\n",
    "plt.show()\n"
   ]
  },
  {
   "cell_type": "markdown",
   "id": "1b89f144",
   "metadata": {
    "papermill": {
     "duration": 0.044479,
     "end_time": "2023-07-28T10:56:05.555202",
     "exception": false,
     "start_time": "2023-07-28T10:56:05.510723",
     "status": "completed"
    },
    "tags": []
   },
   "source": [
    "We'll continue by using the adjusted values for the covid period sales."
   ]
  },
  {
   "cell_type": "code",
   "execution_count": 15,
   "id": "86b89727",
   "metadata": {
    "execution": {
     "iopub.execute_input": "2023-07-28T10:56:05.645559Z",
     "iopub.status.busy": "2023-07-28T10:56:05.645164Z",
     "iopub.status.idle": "2023-07-28T10:56:05.652233Z",
     "shell.execute_reply": "2023-07-28T10:56:05.651218Z"
    },
    "papermill": {
     "duration": 0.054831,
     "end_time": "2023-07-28T10:56:05.654412",
     "exception": false,
     "start_time": "2023-07-28T10:56:05.599581",
     "status": "completed"
    },
    "tags": []
   },
   "outputs": [],
   "source": [
    "train_clean = orig_train.copy()"
   ]
  },
  {
   "cell_type": "code",
   "execution_count": 16,
   "id": "25c12045",
   "metadata": {
    "execution": {
     "iopub.execute_input": "2023-07-28T10:56:05.745599Z",
     "iopub.status.busy": "2023-07-28T10:56:05.745184Z",
     "iopub.status.idle": "2023-07-28T10:56:08.789545Z",
     "shell.execute_reply": "2023-07-28T10:56:08.788334Z"
    },
    "papermill": {
     "duration": 3.09333,
     "end_time": "2023-07-28T10:56:08.792204",
     "exception": false,
     "start_time": "2023-07-28T10:56:05.698874",
     "status": "completed"
    },
    "tags": []
   },
   "outputs": [],
   "source": [
    "def covid_adjustment(row):\n",
    "    april_adjustment_factor = 1.2\n",
    "    may_adjustment_factor = 1.05\n",
    "    if row['date'].year == 2020:\n",
    "        if row['date'].month == 4:  # April\n",
    "            return row['num_sold'] * april_adjustment_factor\n",
    "        elif row['date'].month == 5:  # May\n",
    "            return row['num_sold'] * may_adjustment_factor\n",
    "        else:\n",
    "            return row['num_sold']\n",
    "    else:\n",
    "        return row['num_sold']\n",
    "\n",
    "# Apply the adjustments to the num_sold column in the train_clean df\n",
    "train_clean['num_sold'] = train_clean.apply(covid_adjustment, axis=1)"
   ]
  },
  {
   "cell_type": "markdown",
   "id": "2937f82e",
   "metadata": {
    "papermill": {
     "duration": 0.041525,
     "end_time": "2023-07-28T10:56:08.877734",
     "exception": false,
     "start_time": "2023-07-28T10:56:08.836209",
     "status": "completed"
    },
    "tags": []
   },
   "source": [
    "## Step 2: Combining Train & Test Datasets\n",
    "\n",
    "We'll combine both our datasets before performing transformations on our categorical and numeric data."
   ]
  },
  {
   "cell_type": "code",
   "execution_count": 17,
   "id": "063ed446",
   "metadata": {
    "execution": {
     "iopub.execute_input": "2023-07-28T10:56:08.965583Z",
     "iopub.status.busy": "2023-07-28T10:56:08.965233Z",
     "iopub.status.idle": "2023-07-28T10:56:09.149637Z",
     "shell.execute_reply": "2023-07-28T10:56:09.148084Z"
    },
    "papermill": {
     "duration": 0.231333,
     "end_time": "2023-07-28T10:56:09.152231",
     "exception": false,
     "start_time": "2023-07-28T10:56:08.920898",
     "status": "completed"
    },
    "tags": []
   },
   "outputs": [
    {
     "name": "stdout",
     "output_type": "stream",
     "text": [
      "<class 'pandas.core.frame.DataFrame'>\n",
      "RangeIndex: 164325 entries, 0 to 164324\n",
      "Data columns (total 4 columns):\n",
      " #   Column   Non-Null Count   Dtype         \n",
      "---  ------   --------------   -----         \n",
      " 0   date     164325 non-null  datetime64[ns]\n",
      " 1   country  164325 non-null  object        \n",
      " 2   store    164325 non-null  object        \n",
      " 3   product  164325 non-null  object        \n",
      "dtypes: datetime64[ns](1), object(3)\n",
      "memory usage: 5.0+ MB\n"
     ]
    }
   ],
   "source": [
    "# Combining the data\n",
    "\n",
    "# Isolating the target variable \n",
    "target_var = train_clean['num_sold']\n",
    "\n",
    "# Isolating the Id column - it isn't needed in the analysis but is for testing the predictions \n",
    "ids = orig_test['id']\n",
    "\n",
    "# Dropping target_var and ids from the datasets\n",
    "\n",
    "new_train = train_clean.drop(['id','num_sold'],axis=1)\n",
    "new_test = orig_test.drop('id',axis=1)\n",
    "\n",
    "# Creating a new df with the combined data\n",
    "combined_data = pd.concat([new_train, new_test], axis=0).reset_index(drop=True)\n",
    "\n",
    "combined_data.info()"
   ]
  },
  {
   "cell_type": "markdown",
   "id": "9bfd13eb",
   "metadata": {
    "papermill": {
     "duration": 0.042306,
     "end_time": "2023-07-28T10:56:09.236881",
     "exception": false,
     "start_time": "2023-07-28T10:56:09.194575",
     "status": "completed"
    },
    "tags": []
   },
   "source": [
    "## Step 3: Identifying Holidays & Weekends\n",
    "\n",
    "Holidays and weekends are known to have an impact on the sales of many products around the world. To get the most from our model we will identify and highlight these time periods."
   ]
  },
  {
   "cell_type": "code",
   "execution_count": 18,
   "id": "1855e4c8",
   "metadata": {
    "execution": {
     "iopub.execute_input": "2023-07-28T10:56:09.321984Z",
     "iopub.status.busy": "2023-07-28T10:56:09.321277Z",
     "iopub.status.idle": "2023-07-28T10:56:09.388350Z",
     "shell.execute_reply": "2023-07-28T10:56:09.387188Z"
    },
    "papermill": {
     "duration": 0.112579,
     "end_time": "2023-07-28T10:56:09.390859",
     "exception": false,
     "start_time": "2023-07-28T10:56:09.278280",
     "status": "completed"
    },
    "tags": []
   },
   "outputs": [],
   "source": [
    "# Extracting datetime objects from our date column\n",
    "combined_data['year'] = combined_data['date'].dt.year\n",
    "combined_data['month'] = combined_data['date'].dt.month\n",
    "combined_data['day'] = combined_data['date'].dt.day\n",
    "combined_data['dayofweek'] = combined_data.date.dt.dayofweek"
   ]
  },
  {
   "cell_type": "code",
   "execution_count": 19,
   "id": "99ddaf76",
   "metadata": {
    "execution": {
     "iopub.execute_input": "2023-07-28T10:56:09.475823Z",
     "iopub.status.busy": "2023-07-28T10:56:09.475408Z",
     "iopub.status.idle": "2023-07-28T10:56:09.499732Z",
     "shell.execute_reply": "2023-07-28T10:56:09.498635Z"
    },
    "papermill": {
     "duration": 0.069389,
     "end_time": "2023-07-28T10:56:09.502029",
     "exception": false,
     "start_time": "2023-07-28T10:56:09.432640",
     "status": "completed"
    },
    "tags": []
   },
   "outputs": [],
   "source": [
    "# Identifying weekends\n",
    "combined_data['is_weekend'] = combined_data['date'].dt.dayofweek.isin([5, 6]).astype(int)"
   ]
  },
  {
   "cell_type": "code",
   "execution_count": 20,
   "id": "089088a1",
   "metadata": {
    "execution": {
     "iopub.execute_input": "2023-07-28T10:56:09.589016Z",
     "iopub.status.busy": "2023-07-28T10:56:09.588600Z",
     "iopub.status.idle": "2023-07-28T10:56:09.783848Z",
     "shell.execute_reply": "2023-07-28T10:56:09.782693Z"
    },
    "papermill": {
     "duration": 0.24109,
     "end_time": "2023-07-28T10:56:09.786182",
     "exception": false,
     "start_time": "2023-07-28T10:56:09.545092",
     "status": "completed"
    },
    "tags": []
   },
   "outputs": [
    {
     "data": {
      "text/html": [
       "<div>\n",
       "<style scoped>\n",
       "    .dataframe tbody tr th:only-of-type {\n",
       "        vertical-align: middle;\n",
       "    }\n",
       "\n",
       "    .dataframe tbody tr th {\n",
       "        vertical-align: top;\n",
       "    }\n",
       "\n",
       "    .dataframe thead th {\n",
       "        text-align: right;\n",
       "    }\n",
       "</style>\n",
       "<table border=\"1\" class=\"dataframe\">\n",
       "  <thead>\n",
       "    <tr style=\"text-align: right;\">\n",
       "      <th></th>\n",
       "      <th>date</th>\n",
       "      <th>country</th>\n",
       "      <th>store</th>\n",
       "      <th>product</th>\n",
       "      <th>year</th>\n",
       "      <th>month</th>\n",
       "      <th>day</th>\n",
       "      <th>dayofweek</th>\n",
       "      <th>is_weekend</th>\n",
       "      <th>holiday</th>\n",
       "    </tr>\n",
       "  </thead>\n",
       "  <tbody>\n",
       "    <tr>\n",
       "      <th>0</th>\n",
       "      <td>2017-01-01</td>\n",
       "      <td>Argentina</td>\n",
       "      <td>Kaggle Learn</td>\n",
       "      <td>Using LLMs to Improve Your Coding</td>\n",
       "      <td>2017</td>\n",
       "      <td>1</td>\n",
       "      <td>1</td>\n",
       "      <td>6</td>\n",
       "      <td>1</td>\n",
       "      <td>1</td>\n",
       "    </tr>\n",
       "    <tr>\n",
       "      <th>1</th>\n",
       "      <td>2017-01-01</td>\n",
       "      <td>Argentina</td>\n",
       "      <td>Kaggle Learn</td>\n",
       "      <td>Using LLMs to Train More LLMs</td>\n",
       "      <td>2017</td>\n",
       "      <td>1</td>\n",
       "      <td>1</td>\n",
       "      <td>6</td>\n",
       "      <td>1</td>\n",
       "      <td>1</td>\n",
       "    </tr>\n",
       "    <tr>\n",
       "      <th>2</th>\n",
       "      <td>2017-01-01</td>\n",
       "      <td>Argentina</td>\n",
       "      <td>Kaggle Learn</td>\n",
       "      <td>Using LLMs to Win Friends and Influence People</td>\n",
       "      <td>2017</td>\n",
       "      <td>1</td>\n",
       "      <td>1</td>\n",
       "      <td>6</td>\n",
       "      <td>1</td>\n",
       "      <td>1</td>\n",
       "    </tr>\n",
       "    <tr>\n",
       "      <th>3</th>\n",
       "      <td>2017-01-01</td>\n",
       "      <td>Argentina</td>\n",
       "      <td>Kaggle Learn</td>\n",
       "      <td>Using LLMs to Win More Kaggle Competitions</td>\n",
       "      <td>2017</td>\n",
       "      <td>1</td>\n",
       "      <td>1</td>\n",
       "      <td>6</td>\n",
       "      <td>1</td>\n",
       "      <td>1</td>\n",
       "    </tr>\n",
       "    <tr>\n",
       "      <th>4</th>\n",
       "      <td>2017-01-01</td>\n",
       "      <td>Argentina</td>\n",
       "      <td>Kaggle Learn</td>\n",
       "      <td>Using LLMs to Write Better</td>\n",
       "      <td>2017</td>\n",
       "      <td>1</td>\n",
       "      <td>1</td>\n",
       "      <td>6</td>\n",
       "      <td>1</td>\n",
       "      <td>1</td>\n",
       "    </tr>\n",
       "    <tr>\n",
       "      <th>...</th>\n",
       "      <td>...</td>\n",
       "      <td>...</td>\n",
       "      <td>...</td>\n",
       "      <td>...</td>\n",
       "      <td>...</td>\n",
       "      <td>...</td>\n",
       "      <td>...</td>\n",
       "      <td>...</td>\n",
       "      <td>...</td>\n",
       "      <td>...</td>\n",
       "    </tr>\n",
       "    <tr>\n",
       "      <th>164320</th>\n",
       "      <td>2022-12-31</td>\n",
       "      <td>Spain</td>\n",
       "      <td>Kagglazon</td>\n",
       "      <td>Using LLMs to Improve Your Coding</td>\n",
       "      <td>2022</td>\n",
       "      <td>12</td>\n",
       "      <td>31</td>\n",
       "      <td>5</td>\n",
       "      <td>1</td>\n",
       "      <td>0</td>\n",
       "    </tr>\n",
       "    <tr>\n",
       "      <th>164321</th>\n",
       "      <td>2022-12-31</td>\n",
       "      <td>Spain</td>\n",
       "      <td>Kagglazon</td>\n",
       "      <td>Using LLMs to Train More LLMs</td>\n",
       "      <td>2022</td>\n",
       "      <td>12</td>\n",
       "      <td>31</td>\n",
       "      <td>5</td>\n",
       "      <td>1</td>\n",
       "      <td>0</td>\n",
       "    </tr>\n",
       "    <tr>\n",
       "      <th>164322</th>\n",
       "      <td>2022-12-31</td>\n",
       "      <td>Spain</td>\n",
       "      <td>Kagglazon</td>\n",
       "      <td>Using LLMs to Win Friends and Influence People</td>\n",
       "      <td>2022</td>\n",
       "      <td>12</td>\n",
       "      <td>31</td>\n",
       "      <td>5</td>\n",
       "      <td>1</td>\n",
       "      <td>0</td>\n",
       "    </tr>\n",
       "    <tr>\n",
       "      <th>164323</th>\n",
       "      <td>2022-12-31</td>\n",
       "      <td>Spain</td>\n",
       "      <td>Kagglazon</td>\n",
       "      <td>Using LLMs to Win More Kaggle Competitions</td>\n",
       "      <td>2022</td>\n",
       "      <td>12</td>\n",
       "      <td>31</td>\n",
       "      <td>5</td>\n",
       "      <td>1</td>\n",
       "      <td>0</td>\n",
       "    </tr>\n",
       "    <tr>\n",
       "      <th>164324</th>\n",
       "      <td>2022-12-31</td>\n",
       "      <td>Spain</td>\n",
       "      <td>Kagglazon</td>\n",
       "      <td>Using LLMs to Write Better</td>\n",
       "      <td>2022</td>\n",
       "      <td>12</td>\n",
       "      <td>31</td>\n",
       "      <td>5</td>\n",
       "      <td>1</td>\n",
       "      <td>0</td>\n",
       "    </tr>\n",
       "  </tbody>\n",
       "</table>\n",
       "<p>164325 rows × 10 columns</p>\n",
       "</div>"
      ],
      "text/plain": [
       "             date    country         store  \\\n",
       "0      2017-01-01  Argentina  Kaggle Learn   \n",
       "1      2017-01-01  Argentina  Kaggle Learn   \n",
       "2      2017-01-01  Argentina  Kaggle Learn   \n",
       "3      2017-01-01  Argentina  Kaggle Learn   \n",
       "4      2017-01-01  Argentina  Kaggle Learn   \n",
       "...           ...        ...           ...   \n",
       "164320 2022-12-31      Spain     Kagglazon   \n",
       "164321 2022-12-31      Spain     Kagglazon   \n",
       "164322 2022-12-31      Spain     Kagglazon   \n",
       "164323 2022-12-31      Spain     Kagglazon   \n",
       "164324 2022-12-31      Spain     Kagglazon   \n",
       "\n",
       "                                               product  year  month  day  \\\n",
       "0                    Using LLMs to Improve Your Coding  2017      1    1   \n",
       "1                        Using LLMs to Train More LLMs  2017      1    1   \n",
       "2       Using LLMs to Win Friends and Influence People  2017      1    1   \n",
       "3           Using LLMs to Win More Kaggle Competitions  2017      1    1   \n",
       "4                           Using LLMs to Write Better  2017      1    1   \n",
       "...                                                ...   ...    ...  ...   \n",
       "164320               Using LLMs to Improve Your Coding  2022     12   31   \n",
       "164321                   Using LLMs to Train More LLMs  2022     12   31   \n",
       "164322  Using LLMs to Win Friends and Influence People  2022     12   31   \n",
       "164323      Using LLMs to Win More Kaggle Competitions  2022     12   31   \n",
       "164324                      Using LLMs to Write Better  2022     12   31   \n",
       "\n",
       "        dayofweek  is_weekend  holiday  \n",
       "0               6           1        1  \n",
       "1               6           1        1  \n",
       "2               6           1        1  \n",
       "3               6           1        1  \n",
       "4               6           1        1  \n",
       "...           ...         ...      ...  \n",
       "164320          5           1        0  \n",
       "164321          5           1        0  \n",
       "164322          5           1        0  \n",
       "164323          5           1        0  \n",
       "164324          5           1        0  \n",
       "\n",
       "[164325 rows x 10 columns]"
      ]
     },
     "execution_count": 20,
     "metadata": {},
     "output_type": "execute_result"
    }
   ],
   "source": [
    "# Identifying holidays\n",
    "country_names = ['Argentina','Spain','Estonia','Japan','Canada']\n",
    "# Creating a blank df to hold all country holiday info\n",
    "holiday_df = pd.DataFrame()\n",
    "\n",
    "# Iterating through country_names and creating a dataframe for each country's holidays\n",
    "for country in country_names:\n",
    "    country_hols = pd.DataFrame(holidays.country_holidays(country,years=range(2017,2023)).items(), columns=['date', 'name'])\n",
    "    country_hols['country'] = country\n",
    "    # Appending each country's holiday df to the holiday_df\n",
    "    holiday_df = pd.concat([holiday_df,country_hols],axis=0, ignore_index=True)\n",
    "    \n",
    "# Converting date column from object to dt for merge    \n",
    "holiday_df['date'] = pd.to_datetime(holiday_df['date'])\n",
    "\n",
    "# Merging the dataframes using a left join, this way we'll keep only those dates that are holidays\n",
    "combined_final = combined_data.merge(holiday_df[['date','country']], on=['date','country'],how='left', indicator=True)\n",
    "\n",
    "# Adding a holiday column that indicates if the day is a holiday\n",
    "combined_final['holiday'] = combined_final['_merge'].apply(lambda x: 1 if x=='both' else 0)\n",
    "combined_final = combined_final.drop(columns='_merge', axis=1)\n",
    "\n",
    "combined_final = combined_final[['date','country','store','product','year','month','day','dayofweek','is_weekend','holiday']]\n",
    "combined_final"
   ]
  },
  {
   "cell_type": "code",
   "execution_count": 21,
   "id": "6aacfdaa",
   "metadata": {
    "execution": {
     "iopub.execute_input": "2023-07-28T10:56:09.877264Z",
     "iopub.status.busy": "2023-07-28T10:56:09.876910Z",
     "iopub.status.idle": "2023-07-28T10:56:09.887069Z",
     "shell.execute_reply": "2023-07-28T10:56:09.886274Z"
    },
    "papermill": {
     "duration": 0.059121,
     "end_time": "2023-07-28T10:56:09.889203",
     "exception": false,
     "start_time": "2023-07-28T10:56:09.830082",
     "status": "completed"
    },
    "tags": []
   },
   "outputs": [],
   "source": [
    "combined_final_df = combined_final.copy()\n",
    "\n",
    "# Isolating our country names before we transform the country column\n",
    "combined_final_df['country_name'] = combined_final['country']"
   ]
  },
  {
   "cell_type": "markdown",
   "id": "4288111e",
   "metadata": {
    "papermill": {
     "duration": 0.040772,
     "end_time": "2023-07-28T10:56:09.972330",
     "exception": false,
     "start_time": "2023-07-28T10:56:09.931558",
     "status": "completed"
    },
    "tags": []
   },
   "source": [
    "## Feature Transformations"
   ]
  },
  {
   "cell_type": "code",
   "execution_count": 22,
   "id": "79812636",
   "metadata": {
    "execution": {
     "iopub.execute_input": "2023-07-28T10:56:10.056744Z",
     "iopub.status.busy": "2023-07-28T10:56:10.056123Z",
     "iopub.status.idle": "2023-07-28T10:56:10.258022Z",
     "shell.execute_reply": "2023-07-28T10:56:10.256849Z"
    },
    "papermill": {
     "duration": 0.247464,
     "end_time": "2023-07-28T10:56:10.260470",
     "exception": false,
     "start_time": "2023-07-28T10:56:10.013006",
     "status": "completed"
    },
    "tags": []
   },
   "outputs": [],
   "source": [
    "# Encoding Categorical Columns\n",
    "le = LabelEncoder()\n",
    "\n",
    "combined_final_df['store'] = le.fit_transform(combined_final_df['store'])\n",
    "combined_final_df['product'] = le.fit_transform(combined_final_df['product'])\n",
    "combined_final_df['country'] = le.fit_transform(combined_final_df['country'])"
   ]
  },
  {
   "cell_type": "code",
   "execution_count": 23,
   "id": "edaaa4a2",
   "metadata": {
    "execution": {
     "iopub.execute_input": "2023-07-28T10:56:10.347930Z",
     "iopub.status.busy": "2023-07-28T10:56:10.347376Z",
     "iopub.status.idle": "2023-07-28T10:56:11.548760Z",
     "shell.execute_reply": "2023-07-28T10:56:11.547619Z"
    },
    "papermill": {
     "duration": 1.248322,
     "end_time": "2023-07-28T10:56:11.551173",
     "exception": false,
     "start_time": "2023-07-28T10:56:10.302851",
     "status": "completed"
    },
    "tags": []
   },
   "outputs": [
    {
     "data": {
      "text/html": [
       "<div>\n",
       "<style scoped>\n",
       "    .dataframe tbody tr th:only-of-type {\n",
       "        vertical-align: middle;\n",
       "    }\n",
       "\n",
       "    .dataframe tbody tr th {\n",
       "        vertical-align: top;\n",
       "    }\n",
       "\n",
       "    .dataframe thead th {\n",
       "        text-align: right;\n",
       "    }\n",
       "</style>\n",
       "<table border=\"1\" class=\"dataframe\">\n",
       "  <thead>\n",
       "    <tr style=\"text-align: right;\">\n",
       "      <th></th>\n",
       "      <th>date</th>\n",
       "      <th>country</th>\n",
       "      <th>store</th>\n",
       "      <th>product</th>\n",
       "      <th>year</th>\n",
       "      <th>month</th>\n",
       "      <th>day</th>\n",
       "      <th>dayofweek</th>\n",
       "      <th>is_weekend</th>\n",
       "      <th>holiday</th>\n",
       "      <th>country_name</th>\n",
       "      <th>month_cos</th>\n",
       "      <th>day_sin</th>\n",
       "      <th>day_cos</th>\n",
       "    </tr>\n",
       "  </thead>\n",
       "  <tbody>\n",
       "    <tr>\n",
       "      <th>0</th>\n",
       "      <td>2017-01-01</td>\n",
       "      <td>0</td>\n",
       "      <td>1</td>\n",
       "      <td>0</td>\n",
       "      <td>2017</td>\n",
       "      <td>1</td>\n",
       "      <td>1</td>\n",
       "      <td>6</td>\n",
       "      <td>1</td>\n",
       "      <td>1</td>\n",
       "      <td>Argentina</td>\n",
       "      <td>0.866025</td>\n",
       "      <td>0.017213</td>\n",
       "      <td>0.999852</td>\n",
       "    </tr>\n",
       "    <tr>\n",
       "      <th>1</th>\n",
       "      <td>2017-01-01</td>\n",
       "      <td>0</td>\n",
       "      <td>1</td>\n",
       "      <td>1</td>\n",
       "      <td>2017</td>\n",
       "      <td>1</td>\n",
       "      <td>1</td>\n",
       "      <td>6</td>\n",
       "      <td>1</td>\n",
       "      <td>1</td>\n",
       "      <td>Argentina</td>\n",
       "      <td>0.866025</td>\n",
       "      <td>0.017213</td>\n",
       "      <td>0.999852</td>\n",
       "    </tr>\n",
       "    <tr>\n",
       "      <th>2</th>\n",
       "      <td>2017-01-01</td>\n",
       "      <td>0</td>\n",
       "      <td>1</td>\n",
       "      <td>2</td>\n",
       "      <td>2017</td>\n",
       "      <td>1</td>\n",
       "      <td>1</td>\n",
       "      <td>6</td>\n",
       "      <td>1</td>\n",
       "      <td>1</td>\n",
       "      <td>Argentina</td>\n",
       "      <td>0.866025</td>\n",
       "      <td>0.017213</td>\n",
       "      <td>0.999852</td>\n",
       "    </tr>\n",
       "    <tr>\n",
       "      <th>3</th>\n",
       "      <td>2017-01-01</td>\n",
       "      <td>0</td>\n",
       "      <td>1</td>\n",
       "      <td>3</td>\n",
       "      <td>2017</td>\n",
       "      <td>1</td>\n",
       "      <td>1</td>\n",
       "      <td>6</td>\n",
       "      <td>1</td>\n",
       "      <td>1</td>\n",
       "      <td>Argentina</td>\n",
       "      <td>0.866025</td>\n",
       "      <td>0.017213</td>\n",
       "      <td>0.999852</td>\n",
       "    </tr>\n",
       "    <tr>\n",
       "      <th>4</th>\n",
       "      <td>2017-01-01</td>\n",
       "      <td>0</td>\n",
       "      <td>1</td>\n",
       "      <td>4</td>\n",
       "      <td>2017</td>\n",
       "      <td>1</td>\n",
       "      <td>1</td>\n",
       "      <td>6</td>\n",
       "      <td>1</td>\n",
       "      <td>1</td>\n",
       "      <td>Argentina</td>\n",
       "      <td>0.866025</td>\n",
       "      <td>0.017213</td>\n",
       "      <td>0.999852</td>\n",
       "    </tr>\n",
       "    <tr>\n",
       "      <th>...</th>\n",
       "      <td>...</td>\n",
       "      <td>...</td>\n",
       "      <td>...</td>\n",
       "      <td>...</td>\n",
       "      <td>...</td>\n",
       "      <td>...</td>\n",
       "      <td>...</td>\n",
       "      <td>...</td>\n",
       "      <td>...</td>\n",
       "      <td>...</td>\n",
       "      <td>...</td>\n",
       "      <td>...</td>\n",
       "      <td>...</td>\n",
       "      <td>...</td>\n",
       "    </tr>\n",
       "    <tr>\n",
       "      <th>164320</th>\n",
       "      <td>2022-12-31</td>\n",
       "      <td>4</td>\n",
       "      <td>0</td>\n",
       "      <td>0</td>\n",
       "      <td>2022</td>\n",
       "      <td>12</td>\n",
       "      <td>31</td>\n",
       "      <td>5</td>\n",
       "      <td>1</td>\n",
       "      <td>0</td>\n",
       "      <td>Spain</td>\n",
       "      <td>1.000000</td>\n",
       "      <td>0.508671</td>\n",
       "      <td>0.860961</td>\n",
       "    </tr>\n",
       "    <tr>\n",
       "      <th>164321</th>\n",
       "      <td>2022-12-31</td>\n",
       "      <td>4</td>\n",
       "      <td>0</td>\n",
       "      <td>1</td>\n",
       "      <td>2022</td>\n",
       "      <td>12</td>\n",
       "      <td>31</td>\n",
       "      <td>5</td>\n",
       "      <td>1</td>\n",
       "      <td>0</td>\n",
       "      <td>Spain</td>\n",
       "      <td>1.000000</td>\n",
       "      <td>0.508671</td>\n",
       "      <td>0.860961</td>\n",
       "    </tr>\n",
       "    <tr>\n",
       "      <th>164322</th>\n",
       "      <td>2022-12-31</td>\n",
       "      <td>4</td>\n",
       "      <td>0</td>\n",
       "      <td>2</td>\n",
       "      <td>2022</td>\n",
       "      <td>12</td>\n",
       "      <td>31</td>\n",
       "      <td>5</td>\n",
       "      <td>1</td>\n",
       "      <td>0</td>\n",
       "      <td>Spain</td>\n",
       "      <td>1.000000</td>\n",
       "      <td>0.508671</td>\n",
       "      <td>0.860961</td>\n",
       "    </tr>\n",
       "    <tr>\n",
       "      <th>164323</th>\n",
       "      <td>2022-12-31</td>\n",
       "      <td>4</td>\n",
       "      <td>0</td>\n",
       "      <td>3</td>\n",
       "      <td>2022</td>\n",
       "      <td>12</td>\n",
       "      <td>31</td>\n",
       "      <td>5</td>\n",
       "      <td>1</td>\n",
       "      <td>0</td>\n",
       "      <td>Spain</td>\n",
       "      <td>1.000000</td>\n",
       "      <td>0.508671</td>\n",
       "      <td>0.860961</td>\n",
       "    </tr>\n",
       "    <tr>\n",
       "      <th>164324</th>\n",
       "      <td>2022-12-31</td>\n",
       "      <td>4</td>\n",
       "      <td>0</td>\n",
       "      <td>4</td>\n",
       "      <td>2022</td>\n",
       "      <td>12</td>\n",
       "      <td>31</td>\n",
       "      <td>5</td>\n",
       "      <td>1</td>\n",
       "      <td>0</td>\n",
       "      <td>Spain</td>\n",
       "      <td>1.000000</td>\n",
       "      <td>0.508671</td>\n",
       "      <td>0.860961</td>\n",
       "    </tr>\n",
       "  </tbody>\n",
       "</table>\n",
       "<p>164325 rows × 14 columns</p>\n",
       "</div>"
      ],
      "text/plain": [
       "             date  country  store  product  year  month  day  dayofweek  \\\n",
       "0      2017-01-01        0      1        0  2017      1    1          6   \n",
       "1      2017-01-01        0      1        1  2017      1    1          6   \n",
       "2      2017-01-01        0      1        2  2017      1    1          6   \n",
       "3      2017-01-01        0      1        3  2017      1    1          6   \n",
       "4      2017-01-01        0      1        4  2017      1    1          6   \n",
       "...           ...      ...    ...      ...   ...    ...  ...        ...   \n",
       "164320 2022-12-31        4      0        0  2022     12   31          5   \n",
       "164321 2022-12-31        4      0        1  2022     12   31          5   \n",
       "164322 2022-12-31        4      0        2  2022     12   31          5   \n",
       "164323 2022-12-31        4      0        3  2022     12   31          5   \n",
       "164324 2022-12-31        4      0        4  2022     12   31          5   \n",
       "\n",
       "        is_weekend  holiday country_name  month_cos   day_sin   day_cos  \n",
       "0                1        1    Argentina   0.866025  0.017213  0.999852  \n",
       "1                1        1    Argentina   0.866025  0.017213  0.999852  \n",
       "2                1        1    Argentina   0.866025  0.017213  0.999852  \n",
       "3                1        1    Argentina   0.866025  0.017213  0.999852  \n",
       "4                1        1    Argentina   0.866025  0.017213  0.999852  \n",
       "...            ...      ...          ...        ...       ...       ...  \n",
       "164320           1        0        Spain   1.000000  0.508671  0.860961  \n",
       "164321           1        0        Spain   1.000000  0.508671  0.860961  \n",
       "164322           1        0        Spain   1.000000  0.508671  0.860961  \n",
       "164323           1        0        Spain   1.000000  0.508671  0.860961  \n",
       "164324           1        0        Spain   1.000000  0.508671  0.860961  \n",
       "\n",
       "[164325 rows x 14 columns]"
      ]
     },
     "execution_count": 23,
     "metadata": {},
     "output_type": "execute_result"
    }
   ],
   "source": [
    "# Transforming cyclic features - month and day \n",
    "def day_month_transformer(df):\n",
    "    df['month_cos'] = df['month'].apply(lambda x: np.cos(x / 12 * 2 * np.pi))\n",
    "    df['day_sin'] = df['day'].apply(lambda x: np.sin(x / 365 * 2 * np.pi))\n",
    "    df['day_cos'] = df['day'].apply(lambda x: np.cos(x / 365 * 2 * np.pi))\n",
    "    return df\n",
    "\n",
    "combined_final_df = day_month_transformer(combined_final_df)\n",
    "\n",
    "combined_final_df"
   ]
  },
  {
   "cell_type": "markdown",
   "id": "e48ee4c2",
   "metadata": {
    "papermill": {
     "duration": 0.042863,
     "end_time": "2023-07-28T10:56:11.637949",
     "exception": false,
     "start_time": "2023-07-28T10:56:11.595086",
     "status": "completed"
    },
    "tags": []
   },
   "source": [
    "## Step 4: Transforming the Target Variable"
   ]
  },
  {
   "cell_type": "code",
   "execution_count": 24,
   "id": "8c1bbb81",
   "metadata": {
    "execution": {
     "iopub.execute_input": "2023-07-28T10:56:11.725978Z",
     "iopub.status.busy": "2023-07-28T10:56:11.725541Z",
     "iopub.status.idle": "2023-07-28T10:56:14.059947Z",
     "shell.execute_reply": "2023-07-28T10:56:14.058850Z"
    },
    "papermill": {
     "duration": 2.382054,
     "end_time": "2023-07-28T10:56:14.062536",
     "exception": false,
     "start_time": "2023-07-28T10:56:11.680482",
     "status": "completed"
    },
    "tags": []
   },
   "outputs": [
    {
     "data": {
      "image/png": "[encoded data removed]",
      "text/plain": [
       "<Figure size 2000x1000 with 2 Axes>"
      ]
     },
     "metadata": {},
     "output_type": "display_data"
    }
   ],
   "source": [
    "# Transforming the target varible with logs\n",
    "\n",
    "log_target_var = np.log(train_clean['num_sold']) \n",
    "\n",
    "# Plotting the new log distribution of target variable against the original\n",
    "plt.figure(figsize=(20,10))\n",
    "\n",
    "plt.subplot(1,2,1)\n",
    "sns.histplot(target_var, color='b', bins=30, kde=True)\n",
    "plt.title('Number Sold Distribution')\n",
    "\n",
    "plt.subplot(1,2,2)\n",
    "sns.histplot(log_target_var, color='b', bins=30, kde=True)\n",
    "plt.title('Number Sold Log Distribution')\n",
    "\n",
    "plt.show()"
   ]
  },
  {
   "cell_type": "markdown",
   "id": "6ba423cc",
   "metadata": {
    "papermill": {
     "duration": 0.047905,
     "end_time": "2023-07-28T10:56:14.166427",
     "exception": false,
     "start_time": "2023-07-28T10:56:14.118522",
     "status": "completed"
    },
    "tags": []
   },
   "source": [
    "We now have a much better distribution of our target varible and will use this log version going forward."
   ]
  },
  {
   "cell_type": "markdown",
   "id": "dd4b99d1",
   "metadata": {
    "papermill": {
     "duration": 0.046737,
     "end_time": "2023-07-28T10:56:14.260747",
     "exception": false,
     "start_time": "2023-07-28T10:56:14.214010",
     "status": "completed"
    },
    "tags": []
   },
   "source": [
    "## Step 5: Splitting the Data\n",
    "Now, we'll split the data back into the original training and test sets."
   ]
  },
  {
   "cell_type": "code",
   "execution_count": 25,
   "id": "527bd880",
   "metadata": {
    "execution": {
     "iopub.execute_input": "2023-07-28T10:56:14.356711Z",
     "iopub.status.busy": "2023-07-28T10:56:14.356335Z",
     "iopub.status.idle": "2023-07-28T10:56:14.418134Z",
     "shell.execute_reply": "2023-07-28T10:56:14.416799Z"
    },
    "papermill": {
     "duration": 0.114924,
     "end_time": "2023-07-28T10:56:14.420589",
     "exception": false,
     "start_time": "2023-07-28T10:56:14.305665",
     "status": "completed"
    },
    "tags": []
   },
   "outputs": [
    {
     "name": "stdout",
     "output_type": "stream",
     "text": [
      "<class 'pandas.core.frame.DataFrame'>\n",
      "Int64Index: 136950 entries, 0 to 136949\n",
      "Data columns (total 14 columns):\n",
      " #   Column        Non-Null Count   Dtype         \n",
      "---  ------        --------------   -----         \n",
      " 0   date          136950 non-null  datetime64[ns]\n",
      " 1   country       136950 non-null  int64         \n",
      " 2   store         136950 non-null  int64         \n",
      " 3   product       136950 non-null  int64         \n",
      " 4   year          136950 non-null  int64         \n",
      " 5   month         136950 non-null  int64         \n",
      " 6   day           136950 non-null  int64         \n",
      " 7   dayofweek     136950 non-null  int64         \n",
      " 8   is_weekend    136950 non-null  int64         \n",
      " 9   holiday       136950 non-null  int64         \n",
      " 10  country_name  136950 non-null  object        \n",
      " 11  month_cos     136950 non-null  float64       \n",
      " 12  day_sin       136950 non-null  float64       \n",
      " 13  day_cos       136950 non-null  float64       \n",
      "dtypes: datetime64[ns](1), float64(3), int64(9), object(1)\n",
      "memory usage: 15.7+ MB\n"
     ]
    }
   ],
   "source": [
    "final_train = combined_final_df.iloc[:136950,:]\n",
    "final_train.info()"
   ]
  },
  {
   "cell_type": "code",
   "execution_count": 26,
   "id": "b88db1d0",
   "metadata": {
    "execution": {
     "iopub.execute_input": "2023-07-28T10:56:14.519887Z",
     "iopub.status.busy": "2023-07-28T10:56:14.519472Z",
     "iopub.status.idle": "2023-07-28T10:56:14.552076Z",
     "shell.execute_reply": "2023-07-28T10:56:14.550763Z"
    },
    "papermill": {
     "duration": 0.089345,
     "end_time": "2023-07-28T10:56:14.554536",
     "exception": false,
     "start_time": "2023-07-28T10:56:14.465191",
     "status": "completed"
    },
    "tags": []
   },
   "outputs": [
    {
     "name": "stdout",
     "output_type": "stream",
     "text": [
      "<class 'pandas.core.frame.DataFrame'>\n",
      "RangeIndex: 27375 entries, 0 to 27374\n",
      "Data columns (total 14 columns):\n",
      " #   Column        Non-Null Count  Dtype         \n",
      "---  ------        --------------  -----         \n",
      " 0   date          27375 non-null  datetime64[ns]\n",
      " 1   country       27375 non-null  int64         \n",
      " 2   store         27375 non-null  int64         \n",
      " 3   product       27375 non-null  int64         \n",
      " 4   year          27375 non-null  int64         \n",
      " 5   month         27375 non-null  int64         \n",
      " 6   day           27375 non-null  int64         \n",
      " 7   dayofweek     27375 non-null  int64         \n",
      " 8   is_weekend    27375 non-null  int64         \n",
      " 9   holiday       27375 non-null  int64         \n",
      " 10  country_name  27375 non-null  object        \n",
      " 11  month_cos     27375 non-null  float64       \n",
      " 12  day_sin       27375 non-null  float64       \n",
      " 13  day_cos       27375 non-null  float64       \n",
      "dtypes: datetime64[ns](1), float64(3), int64(9), object(1)\n",
      "memory usage: 2.9+ MB\n"
     ]
    }
   ],
   "source": [
    "final_test = combined_final_df.iloc[136950:,:].reset_index(drop=True)\n",
    "final_test.info()"
   ]
  },
  {
   "cell_type": "code",
   "execution_count": 27,
   "id": "2ab12310",
   "metadata": {
    "execution": {
     "iopub.execute_input": "2023-07-28T10:56:14.647324Z",
     "iopub.status.busy": "2023-07-28T10:56:14.646942Z",
     "iopub.status.idle": "2023-07-28T10:56:19.459832Z",
     "shell.execute_reply": "2023-07-28T10:56:19.458771Z"
    },
    "papermill": {
     "duration": 4.861448,
     "end_time": "2023-07-28T10:56:19.462976",
     "exception": false,
     "start_time": "2023-07-28T10:56:14.601528",
     "status": "completed"
    },
    "tags": []
   },
   "outputs": [
    {
     "data": {
      "text/html": [
       "<style type=\"text/css\">\n",
       "#T_d6ecf_row10_col1 {\n",
       "  background-color: lightgreen;\n",
       "}\n",
       "</style>\n",
       "<table id=\"T_d6ecf\">\n",
       "  <thead>\n",
       "    <tr>\n",
       "      <th class=\"blank level0\" >&nbsp;</th>\n",
       "      <th id=\"T_d6ecf_level0_col0\" class=\"col_heading level0 col0\" >Description</th>\n",
       "      <th id=\"T_d6ecf_level0_col1\" class=\"col_heading level0 col1\" >Value</th>\n",
       "    </tr>\n",
       "  </thead>\n",
       "  <tbody>\n",
       "    <tr>\n",
       "      <th id=\"T_d6ecf_level0_row0\" class=\"row_heading level0 row0\" >0</th>\n",
       "      <td id=\"T_d6ecf_row0_col0\" class=\"data row0 col0\" >Session id</td>\n",
       "      <td id=\"T_d6ecf_row0_col1\" class=\"data row0 col1\" >998</td>\n",
       "    </tr>\n",
       "    <tr>\n",
       "      <th id=\"T_d6ecf_level0_row1\" class=\"row_heading level0 row1\" >1</th>\n",
       "      <td id=\"T_d6ecf_row1_col0\" class=\"data row1 col0\" >Target</td>\n",
       "      <td id=\"T_d6ecf_row1_col1\" class=\"data row1 col1\" >num_sold</td>\n",
       "    </tr>\n",
       "    <tr>\n",
       "      <th id=\"T_d6ecf_level0_row2\" class=\"row_heading level0 row2\" >2</th>\n",
       "      <td id=\"T_d6ecf_row2_col0\" class=\"data row2 col0\" >Target type</td>\n",
       "      <td id=\"T_d6ecf_row2_col1\" class=\"data row2 col1\" >Regression</td>\n",
       "    </tr>\n",
       "    <tr>\n",
       "      <th id=\"T_d6ecf_level0_row3\" class=\"row_heading level0 row3\" >3</th>\n",
       "      <td id=\"T_d6ecf_row3_col0\" class=\"data row3 col0\" >Original data shape</td>\n",
       "      <td id=\"T_d6ecf_row3_col1\" class=\"data row3 col1\" >(136950, 15)</td>\n",
       "    </tr>\n",
       "    <tr>\n",
       "      <th id=\"T_d6ecf_level0_row4\" class=\"row_heading level0 row4\" >4</th>\n",
       "      <td id=\"T_d6ecf_row4_col0\" class=\"data row4 col0\" >Transformed data shape</td>\n",
       "      <td id=\"T_d6ecf_row4_col1\" class=\"data row4 col1\" >(136950, 21)</td>\n",
       "    </tr>\n",
       "    <tr>\n",
       "      <th id=\"T_d6ecf_level0_row5\" class=\"row_heading level0 row5\" >5</th>\n",
       "      <td id=\"T_d6ecf_row5_col0\" class=\"data row5 col0\" >Transformed train set shape</td>\n",
       "      <td id=\"T_d6ecf_row5_col1\" class=\"data row5 col1\" >(95865, 21)</td>\n",
       "    </tr>\n",
       "    <tr>\n",
       "      <th id=\"T_d6ecf_level0_row6\" class=\"row_heading level0 row6\" >6</th>\n",
       "      <td id=\"T_d6ecf_row6_col0\" class=\"data row6 col0\" >Transformed test set shape</td>\n",
       "      <td id=\"T_d6ecf_row6_col1\" class=\"data row6 col1\" >(41085, 21)</td>\n",
       "    </tr>\n",
       "    <tr>\n",
       "      <th id=\"T_d6ecf_level0_row7\" class=\"row_heading level0 row7\" >7</th>\n",
       "      <td id=\"T_d6ecf_row7_col0\" class=\"data row7 col0\" >Numeric features</td>\n",
       "      <td id=\"T_d6ecf_row7_col1\" class=\"data row7 col1\" >12</td>\n",
       "    </tr>\n",
       "    <tr>\n",
       "      <th id=\"T_d6ecf_level0_row8\" class=\"row_heading level0 row8\" >8</th>\n",
       "      <td id=\"T_d6ecf_row8_col0\" class=\"data row8 col0\" >Date features</td>\n",
       "      <td id=\"T_d6ecf_row8_col1\" class=\"data row8 col1\" >1</td>\n",
       "    </tr>\n",
       "    <tr>\n",
       "      <th id=\"T_d6ecf_level0_row9\" class=\"row_heading level0 row9\" >9</th>\n",
       "      <td id=\"T_d6ecf_row9_col0\" class=\"data row9 col0\" >Categorical features</td>\n",
       "      <td id=\"T_d6ecf_row9_col1\" class=\"data row9 col1\" >1</td>\n",
       "    </tr>\n",
       "    <tr>\n",
       "      <th id=\"T_d6ecf_level0_row10\" class=\"row_heading level0 row10\" >10</th>\n",
       "      <td id=\"T_d6ecf_row10_col0\" class=\"data row10 col0\" >Preprocess</td>\n",
       "      <td id=\"T_d6ecf_row10_col1\" class=\"data row10 col1\" >True</td>\n",
       "    </tr>\n",
       "    <tr>\n",
       "      <th id=\"T_d6ecf_level0_row11\" class=\"row_heading level0 row11\" >11</th>\n",
       "      <td id=\"T_d6ecf_row11_col0\" class=\"data row11 col0\" >Imputation type</td>\n",
       "      <td id=\"T_d6ecf_row11_col1\" class=\"data row11 col1\" >simple</td>\n",
       "    </tr>\n",
       "    <tr>\n",
       "      <th id=\"T_d6ecf_level0_row12\" class=\"row_heading level0 row12\" >12</th>\n",
       "      <td id=\"T_d6ecf_row12_col0\" class=\"data row12 col0\" >Numeric imputation</td>\n",
       "      <td id=\"T_d6ecf_row12_col1\" class=\"data row12 col1\" >mean</td>\n",
       "    </tr>\n",
       "    <tr>\n",
       "      <th id=\"T_d6ecf_level0_row13\" class=\"row_heading level0 row13\" >13</th>\n",
       "      <td id=\"T_d6ecf_row13_col0\" class=\"data row13 col0\" >Categorical imputation</td>\n",
       "      <td id=\"T_d6ecf_row13_col1\" class=\"data row13 col1\" >mode</td>\n",
       "    </tr>\n",
       "    <tr>\n",
       "      <th id=\"T_d6ecf_level0_row14\" class=\"row_heading level0 row14\" >14</th>\n",
       "      <td id=\"T_d6ecf_row14_col0\" class=\"data row14 col0\" >Maximum one-hot encoding</td>\n",
       "      <td id=\"T_d6ecf_row14_col1\" class=\"data row14 col1\" >25</td>\n",
       "    </tr>\n",
       "    <tr>\n",
       "      <th id=\"T_d6ecf_level0_row15\" class=\"row_heading level0 row15\" >15</th>\n",
       "      <td id=\"T_d6ecf_row15_col0\" class=\"data row15 col0\" >Encoding method</td>\n",
       "      <td id=\"T_d6ecf_row15_col1\" class=\"data row15 col1\" >None</td>\n",
       "    </tr>\n",
       "    <tr>\n",
       "      <th id=\"T_d6ecf_level0_row16\" class=\"row_heading level0 row16\" >16</th>\n",
       "      <td id=\"T_d6ecf_row16_col0\" class=\"data row16 col0\" >Fold Generator</td>\n",
       "      <td id=\"T_d6ecf_row16_col1\" class=\"data row16 col1\" >KFold</td>\n",
       "    </tr>\n",
       "    <tr>\n",
       "      <th id=\"T_d6ecf_level0_row17\" class=\"row_heading level0 row17\" >17</th>\n",
       "      <td id=\"T_d6ecf_row17_col0\" class=\"data row17 col0\" >Fold Number</td>\n",
       "      <td id=\"T_d6ecf_row17_col1\" class=\"data row17 col1\" >10</td>\n",
       "    </tr>\n",
       "    <tr>\n",
       "      <th id=\"T_d6ecf_level0_row18\" class=\"row_heading level0 row18\" >18</th>\n",
       "      <td id=\"T_d6ecf_row18_col0\" class=\"data row18 col0\" >CPU Jobs</td>\n",
       "      <td id=\"T_d6ecf_row18_col1\" class=\"data row18 col1\" >-1</td>\n",
       "    </tr>\n",
       "    <tr>\n",
       "      <th id=\"T_d6ecf_level0_row19\" class=\"row_heading level0 row19\" >19</th>\n",
       "      <td id=\"T_d6ecf_row19_col0\" class=\"data row19 col0\" >Use GPU</td>\n",
       "      <td id=\"T_d6ecf_row19_col1\" class=\"data row19 col1\" >False</td>\n",
       "    </tr>\n",
       "    <tr>\n",
       "      <th id=\"T_d6ecf_level0_row20\" class=\"row_heading level0 row20\" >20</th>\n",
       "      <td id=\"T_d6ecf_row20_col0\" class=\"data row20 col0\" >Log Experiment</td>\n",
       "      <td id=\"T_d6ecf_row20_col1\" class=\"data row20 col1\" >False</td>\n",
       "    </tr>\n",
       "    <tr>\n",
       "      <th id=\"T_d6ecf_level0_row21\" class=\"row_heading level0 row21\" >21</th>\n",
       "      <td id=\"T_d6ecf_row21_col0\" class=\"data row21 col0\" >Experiment Name</td>\n",
       "      <td id=\"T_d6ecf_row21_col1\" class=\"data row21 col1\" >reg-default-name</td>\n",
       "    </tr>\n",
       "    <tr>\n",
       "      <th id=\"T_d6ecf_level0_row22\" class=\"row_heading level0 row22\" >22</th>\n",
       "      <td id=\"T_d6ecf_row22_col0\" class=\"data row22 col0\" >USI</td>\n",
       "      <td id=\"T_d6ecf_row22_col1\" class=\"data row22 col1\" >8f29</td>\n",
       "    </tr>\n",
       "  </tbody>\n",
       "</table>\n"
      ],
      "text/plain": [
       "<pandas.io.formats.style.Styler at 0x7a7c92f54670>"
      ]
     },
     "metadata": {},
     "output_type": "display_data"
    }
   ],
   "source": [
    "pycaret_setup = setup(data=(pd.concat([final_train,log_target_var],axis=1)), target='num_sold')"
   ]
  },
  {
   "cell_type": "code",
   "execution_count": 28,
   "id": "8116f96f",
   "metadata": {
    "execution": {
     "iopub.execute_input": "2023-07-28T10:56:19.561630Z",
     "iopub.status.busy": "2023-07-28T10:56:19.561023Z",
     "iopub.status.idle": "2023-07-28T11:13:34.082659Z",
     "shell.execute_reply": "2023-07-28T11:13:34.081495Z"
    },
    "papermill": {
     "duration": 1034.573873,
     "end_time": "2023-07-28T11:13:34.085463",
     "exception": false,
     "start_time": "2023-07-28T10:56:19.511590",
     "status": "completed"
    },
    "tags": []
   },
   "outputs": [
    {
     "data": {
      "text/html": [],
      "text/plain": [
       "<IPython.core.display.HTML object>"
      ]
     },
     "metadata": {},
     "output_type": "display_data"
    },
    {
     "data": {
      "text/html": [
       "<style type=\"text/css\">\n",
       "#T_39f5a th {\n",
       "  text-align: left;\n",
       "}\n",
       "#T_39f5a_row0_col0, #T_39f5a_row1_col0, #T_39f5a_row1_col1, #T_39f5a_row1_col2, #T_39f5a_row1_col3, #T_39f5a_row1_col4, #T_39f5a_row1_col5, #T_39f5a_row1_col6, #T_39f5a_row2_col0, #T_39f5a_row2_col1, #T_39f5a_row2_col2, #T_39f5a_row2_col3, #T_39f5a_row2_col4, #T_39f5a_row2_col5, #T_39f5a_row2_col6, #T_39f5a_row3_col0, #T_39f5a_row3_col1, #T_39f5a_row3_col2, #T_39f5a_row3_col3, #T_39f5a_row3_col4, #T_39f5a_row3_col5, #T_39f5a_row3_col6, #T_39f5a_row4_col0, #T_39f5a_row4_col1, #T_39f5a_row4_col2, #T_39f5a_row4_col3, #T_39f5a_row4_col4, #T_39f5a_row4_col5, #T_39f5a_row4_col6, #T_39f5a_row5_col0, #T_39f5a_row5_col1, #T_39f5a_row5_col2, #T_39f5a_row5_col3, #T_39f5a_row5_col4, #T_39f5a_row5_col5, #T_39f5a_row5_col6, #T_39f5a_row6_col0, #T_39f5a_row6_col1, #T_39f5a_row6_col2, #T_39f5a_row6_col3, #T_39f5a_row6_col4, #T_39f5a_row6_col5, #T_39f5a_row6_col6, #T_39f5a_row7_col0, #T_39f5a_row7_col1, #T_39f5a_row7_col2, #T_39f5a_row7_col3, #T_39f5a_row7_col4, #T_39f5a_row7_col5, #T_39f5a_row7_col6, #T_39f5a_row8_col0, #T_39f5a_row8_col1, #T_39f5a_row8_col2, #T_39f5a_row8_col3, #T_39f5a_row8_col4, #T_39f5a_row8_col5, #T_39f5a_row8_col6, #T_39f5a_row9_col0, #T_39f5a_row9_col1, #T_39f5a_row9_col2, #T_39f5a_row9_col3, #T_39f5a_row9_col4, #T_39f5a_row9_col5, #T_39f5a_row9_col6, #T_39f5a_row10_col0, #T_39f5a_row10_col1, #T_39f5a_row10_col2, #T_39f5a_row10_col3, #T_39f5a_row10_col4, #T_39f5a_row10_col5, #T_39f5a_row10_col6, #T_39f5a_row11_col0, #T_39f5a_row11_col1, #T_39f5a_row11_col2, #T_39f5a_row11_col3, #T_39f5a_row11_col4, #T_39f5a_row11_col5, #T_39f5a_row11_col6, #T_39f5a_row12_col0, #T_39f5a_row12_col1, #T_39f5a_row12_col2, #T_39f5a_row12_col3, #T_39f5a_row12_col4, #T_39f5a_row12_col5, #T_39f5a_row12_col6, #T_39f5a_row13_col0, #T_39f5a_row13_col1, #T_39f5a_row13_col2, #T_39f5a_row13_col3, #T_39f5a_row13_col4, #T_39f5a_row13_col5, #T_39f5a_row13_col6, #T_39f5a_row14_col0, #T_39f5a_row14_col1, #T_39f5a_row14_col2, #T_39f5a_row14_col3, #T_39f5a_row14_col4, #T_39f5a_row14_col5, #T_39f5a_row14_col6, #T_39f5a_row15_col0, #T_39f5a_row15_col1, #T_39f5a_row15_col2, #T_39f5a_row15_col3, #T_39f5a_row15_col4, #T_39f5a_row15_col5, #T_39f5a_row15_col6, #T_39f5a_row16_col0, #T_39f5a_row16_col1, #T_39f5a_row16_col2, #T_39f5a_row16_col3, #T_39f5a_row16_col4, #T_39f5a_row16_col5, #T_39f5a_row16_col6, #T_39f5a_row17_col0, #T_39f5a_row17_col1, #T_39f5a_row17_col2, #T_39f5a_row17_col3, #T_39f5a_row17_col4, #T_39f5a_row17_col5, #T_39f5a_row17_col6, #T_39f5a_row18_col0, #T_39f5a_row18_col1, #T_39f5a_row18_col2, #T_39f5a_row18_col3, #T_39f5a_row18_col4, #T_39f5a_row18_col5, #T_39f5a_row18_col6, #T_39f5a_row19_col0, #T_39f5a_row19_col1, #T_39f5a_row19_col2, #T_39f5a_row19_col3, #T_39f5a_row19_col4, #T_39f5a_row19_col5, #T_39f5a_row19_col6 {\n",
       "  text-align: left;\n",
       "}\n",
       "#T_39f5a_row0_col1, #T_39f5a_row0_col2, #T_39f5a_row0_col3, #T_39f5a_row0_col4, #T_39f5a_row0_col5, #T_39f5a_row0_col6 {\n",
       "  text-align: left;\n",
       "  background-color: yellow;\n",
       "}\n",
       "#T_39f5a_row0_col7, #T_39f5a_row1_col7, #T_39f5a_row2_col7, #T_39f5a_row3_col7, #T_39f5a_row4_col7, #T_39f5a_row5_col7, #T_39f5a_row6_col7, #T_39f5a_row7_col7, #T_39f5a_row8_col7, #T_39f5a_row9_col7, #T_39f5a_row10_col7, #T_39f5a_row11_col7, #T_39f5a_row12_col7, #T_39f5a_row13_col7, #T_39f5a_row14_col7, #T_39f5a_row15_col7, #T_39f5a_row16_col7, #T_39f5a_row18_col7, #T_39f5a_row19_col7 {\n",
       "  text-align: left;\n",
       "  background-color: lightgrey;\n",
       "}\n",
       "#T_39f5a_row17_col7 {\n",
       "  text-align: left;\n",
       "  background-color: yellow;\n",
       "  background-color: lightgrey;\n",
       "}\n",
       "</style>\n",
       "<table id=\"T_39f5a\">\n",
       "  <thead>\n",
       "    <tr>\n",
       "      <th class=\"blank level0\" >&nbsp;</th>\n",
       "      <th id=\"T_39f5a_level0_col0\" class=\"col_heading level0 col0\" >Model</th>\n",
       "      <th id=\"T_39f5a_level0_col1\" class=\"col_heading level0 col1\" >MAE</th>\n",
       "      <th id=\"T_39f5a_level0_col2\" class=\"col_heading level0 col2\" >MSE</th>\n",
       "      <th id=\"T_39f5a_level0_col3\" class=\"col_heading level0 col3\" >RMSE</th>\n",
       "      <th id=\"T_39f5a_level0_col4\" class=\"col_heading level0 col4\" >R2</th>\n",
       "      <th id=\"T_39f5a_level0_col5\" class=\"col_heading level0 col5\" >RMSLE</th>\n",
       "      <th id=\"T_39f5a_level0_col6\" class=\"col_heading level0 col6\" >MAPE</th>\n",
       "      <th id=\"T_39f5a_level0_col7\" class=\"col_heading level0 col7\" >TT (Sec)</th>\n",
       "    </tr>\n",
       "  </thead>\n",
       "  <tbody>\n",
       "    <tr>\n",
       "      <th id=\"T_39f5a_level0_row0\" class=\"row_heading level0 row0\" >catboost</th>\n",
       "      <td id=\"T_39f5a_row0_col0\" class=\"data row0 col0\" >CatBoost Regressor</td>\n",
       "      <td id=\"T_39f5a_row0_col1\" class=\"data row0 col1\" >0.0437</td>\n",
       "      <td id=\"T_39f5a_row0_col2\" class=\"data row0 col2\" >0.0031</td>\n",
       "      <td id=\"T_39f5a_row0_col3\" class=\"data row0 col3\" >0.0553</td>\n",
       "      <td id=\"T_39f5a_row0_col4\" class=\"data row0 col4\" >0.9977</td>\n",
       "      <td id=\"T_39f5a_row0_col5\" class=\"data row0 col5\" >0.0120</td>\n",
       "      <td id=\"T_39f5a_row0_col6\" class=\"data row0 col6\" >0.0111</td>\n",
       "      <td id=\"T_39f5a_row0_col7\" class=\"data row0 col7\" >14.5510</td>\n",
       "    </tr>\n",
       "    <tr>\n",
       "      <th id=\"T_39f5a_level0_row1\" class=\"row_heading level0 row1\" >xgboost</th>\n",
       "      <td id=\"T_39f5a_row1_col0\" class=\"data row1 col0\" >Extreme Gradient Boosting</td>\n",
       "      <td id=\"T_39f5a_row1_col1\" class=\"data row1 col1\" >0.0464</td>\n",
       "      <td id=\"T_39f5a_row1_col2\" class=\"data row1 col2\" >0.0034</td>\n",
       "      <td id=\"T_39f5a_row1_col3\" class=\"data row1 col3\" >0.0587</td>\n",
       "      <td id=\"T_39f5a_row1_col4\" class=\"data row1 col4\" >0.9975</td>\n",
       "      <td id=\"T_39f5a_row1_col5\" class=\"data row1 col5\" >0.0126</td>\n",
       "      <td id=\"T_39f5a_row1_col6\" class=\"data row1 col6\" >0.0117</td>\n",
       "      <td id=\"T_39f5a_row1_col7\" class=\"data row1 col7\" >13.6650</td>\n",
       "    </tr>\n",
       "    <tr>\n",
       "      <th id=\"T_39f5a_level0_row2\" class=\"row_heading level0 row2\" >lightgbm</th>\n",
       "      <td id=\"T_39f5a_row2_col0\" class=\"data row2 col0\" >Light Gradient Boosting Machine</td>\n",
       "      <td id=\"T_39f5a_row2_col1\" class=\"data row2 col1\" >0.0527</td>\n",
       "      <td id=\"T_39f5a_row2_col2\" class=\"data row2 col2\" >0.0046</td>\n",
       "      <td id=\"T_39f5a_row2_col3\" class=\"data row2 col3\" >0.0675</td>\n",
       "      <td id=\"T_39f5a_row2_col4\" class=\"data row2 col4\" >0.9966</td>\n",
       "      <td id=\"T_39f5a_row2_col5\" class=\"data row2 col5\" >0.0143</td>\n",
       "      <td id=\"T_39f5a_row2_col6\" class=\"data row2 col6\" >0.0133</td>\n",
       "      <td id=\"T_39f5a_row2_col7\" class=\"data row2 col7\" >3.5130</td>\n",
       "    </tr>\n",
       "    <tr>\n",
       "      <th id=\"T_39f5a_level0_row3\" class=\"row_heading level0 row3\" >rf</th>\n",
       "      <td id=\"T_39f5a_row3_col0\" class=\"data row3 col0\" >Random Forest Regressor</td>\n",
       "      <td id=\"T_39f5a_row3_col1\" class=\"data row3 col1\" >0.0547</td>\n",
       "      <td id=\"T_39f5a_row3_col2\" class=\"data row3 col2\" >0.0051</td>\n",
       "      <td id=\"T_39f5a_row3_col3\" class=\"data row3 col3\" >0.0715</td>\n",
       "      <td id=\"T_39f5a_row3_col4\" class=\"data row3 col4\" >0.9962</td>\n",
       "      <td id=\"T_39f5a_row3_col5\" class=\"data row3 col5\" >0.0152</td>\n",
       "      <td id=\"T_39f5a_row3_col6\" class=\"data row3 col6\" >0.0137</td>\n",
       "      <td id=\"T_39f5a_row3_col7\" class=\"data row3 col7\" >32.8580</td>\n",
       "    </tr>\n",
       "    <tr>\n",
       "      <th id=\"T_39f5a_level0_row4\" class=\"row_heading level0 row4\" >et</th>\n",
       "      <td id=\"T_39f5a_row4_col0\" class=\"data row4 col0\" >Extra Trees Regressor</td>\n",
       "      <td id=\"T_39f5a_row4_col1\" class=\"data row4 col1\" >0.0564</td>\n",
       "      <td id=\"T_39f5a_row4_col2\" class=\"data row4 col2\" >0.0054</td>\n",
       "      <td id=\"T_39f5a_row4_col3\" class=\"data row4 col3\" >0.0736</td>\n",
       "      <td id=\"T_39f5a_row4_col4\" class=\"data row4 col4\" >0.9960</td>\n",
       "      <td id=\"T_39f5a_row4_col5\" class=\"data row4 col5\" >0.0157</td>\n",
       "      <td id=\"T_39f5a_row4_col6\" class=\"data row4 col6\" >0.0141</td>\n",
       "      <td id=\"T_39f5a_row4_col7\" class=\"data row4 col7\" >14.8900</td>\n",
       "    </tr>\n",
       "    <tr>\n",
       "      <th id=\"T_39f5a_level0_row5\" class=\"row_heading level0 row5\" >dt</th>\n",
       "      <td id=\"T_39f5a_row5_col0\" class=\"data row5 col0\" >Decision Tree Regressor</td>\n",
       "      <td id=\"T_39f5a_row5_col1\" class=\"data row5 col1\" >0.0713</td>\n",
       "      <td id=\"T_39f5a_row5_col2\" class=\"data row5 col2\" >0.0090</td>\n",
       "      <td id=\"T_39f5a_row5_col3\" class=\"data row5 col3\" >0.0950</td>\n",
       "      <td id=\"T_39f5a_row5_col4\" class=\"data row5 col4\" >0.9933</td>\n",
       "      <td id=\"T_39f5a_row5_col5\" class=\"data row5 col5\" >0.0200</td>\n",
       "      <td id=\"T_39f5a_row5_col6\" class=\"data row5 col6\" >0.0175</td>\n",
       "      <td id=\"T_39f5a_row5_col7\" class=\"data row5 col7\" >1.0250</td>\n",
       "    </tr>\n",
       "    <tr>\n",
       "      <th id=\"T_39f5a_level0_row6\" class=\"row_heading level0 row6\" >gbr</th>\n",
       "      <td id=\"T_39f5a_row6_col0\" class=\"data row6 col0\" >Gradient Boosting Regressor</td>\n",
       "      <td id=\"T_39f5a_row6_col1\" class=\"data row6 col1\" >0.0827</td>\n",
       "      <td id=\"T_39f5a_row6_col2\" class=\"data row6 col2\" >0.0113</td>\n",
       "      <td id=\"T_39f5a_row6_col3\" class=\"data row6 col3\" >0.1062</td>\n",
       "      <td id=\"T_39f5a_row6_col4\" class=\"data row6 col4\" >0.9917</td>\n",
       "      <td id=\"T_39f5a_row6_col5\" class=\"data row6 col5\" >0.0230</td>\n",
       "      <td id=\"T_39f5a_row6_col6\" class=\"data row6 col6\" >0.0212</td>\n",
       "      <td id=\"T_39f5a_row6_col7\" class=\"data row6 col7\" >4.6360</td>\n",
       "    </tr>\n",
       "    <tr>\n",
       "      <th id=\"T_39f5a_level0_row7\" class=\"row_heading level0 row7\" >ada</th>\n",
       "      <td id=\"T_39f5a_row7_col0\" class=\"data row7 col0\" >AdaBoost Regressor</td>\n",
       "      <td id=\"T_39f5a_row7_col1\" class=\"data row7 col1\" >0.3630</td>\n",
       "      <td id=\"T_39f5a_row7_col2\" class=\"data row7 col2\" >0.1839</td>\n",
       "      <td id=\"T_39f5a_row7_col3\" class=\"data row7 col3\" >0.4287</td>\n",
       "      <td id=\"T_39f5a_row7_col4\" class=\"data row7 col4\" >0.8643</td>\n",
       "      <td id=\"T_39f5a_row7_col5\" class=\"data row7 col5\" >0.0888</td>\n",
       "      <td id=\"T_39f5a_row7_col6\" class=\"data row7 col6\" >0.0928</td>\n",
       "      <td id=\"T_39f5a_row7_col7\" class=\"data row7 col7\" >3.3220</td>\n",
       "    </tr>\n",
       "    <tr>\n",
       "      <th id=\"T_39f5a_level0_row8\" class=\"row_heading level0 row8\" >knn</th>\n",
       "      <td id=\"T_39f5a_row8_col0\" class=\"data row8 col0\" >K Neighbors Regressor</td>\n",
       "      <td id=\"T_39f5a_row8_col1\" class=\"data row8 col1\" >0.6981</td>\n",
       "      <td id=\"T_39f5a_row8_col2\" class=\"data row8 col2\" >0.7779</td>\n",
       "      <td id=\"T_39f5a_row8_col3\" class=\"data row8 col3\" >0.8819</td>\n",
       "      <td id=\"T_39f5a_row8_col4\" class=\"data row8 col4\" >0.4259</td>\n",
       "      <td id=\"T_39f5a_row8_col5\" class=\"data row8 col5\" >0.1798</td>\n",
       "      <td id=\"T_39f5a_row8_col6\" class=\"data row8 col6\" >0.1862</td>\n",
       "      <td id=\"T_39f5a_row8_col7\" class=\"data row8 col7\" >4.2360</td>\n",
       "    </tr>\n",
       "    <tr>\n",
       "      <th id=\"T_39f5a_level0_row9\" class=\"row_heading level0 row9\" >lr</th>\n",
       "      <td id=\"T_39f5a_row9_col0\" class=\"data row9 col0\" >Linear Regression</td>\n",
       "      <td id=\"T_39f5a_row9_col1\" class=\"data row9 col1\" >0.7635</td>\n",
       "      <td id=\"T_39f5a_row9_col2\" class=\"data row9 col2\" >0.7922</td>\n",
       "      <td id=\"T_39f5a_row9_col3\" class=\"data row9 col3\" >0.8901</td>\n",
       "      <td id=\"T_39f5a_row9_col4\" class=\"data row9 col4\" >0.4153</td>\n",
       "      <td id=\"T_39f5a_row9_col5\" class=\"data row9 col5\" >0.1872</td>\n",
       "      <td id=\"T_39f5a_row9_col6\" class=\"data row9 col6\" >0.2096</td>\n",
       "      <td id=\"T_39f5a_row9_col7\" class=\"data row9 col7\" >1.2350</td>\n",
       "    </tr>\n",
       "    <tr>\n",
       "      <th id=\"T_39f5a_level0_row10\" class=\"row_heading level0 row10\" >ridge</th>\n",
       "      <td id=\"T_39f5a_row10_col0\" class=\"data row10 col0\" >Ridge Regression</td>\n",
       "      <td id=\"T_39f5a_row10_col1\" class=\"data row10 col1\" >0.7636</td>\n",
       "      <td id=\"T_39f5a_row10_col2\" class=\"data row10 col2\" >0.7923</td>\n",
       "      <td id=\"T_39f5a_row10_col3\" class=\"data row10 col3\" >0.8901</td>\n",
       "      <td id=\"T_39f5a_row10_col4\" class=\"data row10 col4\" >0.4153</td>\n",
       "      <td id=\"T_39f5a_row10_col5\" class=\"data row10 col5\" >0.1873</td>\n",
       "      <td id=\"T_39f5a_row10_col6\" class=\"data row10 col6\" >0.2097</td>\n",
       "      <td id=\"T_39f5a_row10_col7\" class=\"data row10 col7\" >0.3760</td>\n",
       "    </tr>\n",
       "    <tr>\n",
       "      <th id=\"T_39f5a_level0_row11\" class=\"row_heading level0 row11\" >br</th>\n",
       "      <td id=\"T_39f5a_row11_col0\" class=\"data row11 col0\" >Bayesian Ridge</td>\n",
       "      <td id=\"T_39f5a_row11_col1\" class=\"data row11 col1\" >0.7636</td>\n",
       "      <td id=\"T_39f5a_row11_col2\" class=\"data row11 col2\" >0.7923</td>\n",
       "      <td id=\"T_39f5a_row11_col3\" class=\"data row11 col3\" >0.8901</td>\n",
       "      <td id=\"T_39f5a_row11_col4\" class=\"data row11 col4\" >0.4152</td>\n",
       "      <td id=\"T_39f5a_row11_col5\" class=\"data row11 col5\" >0.1873</td>\n",
       "      <td id=\"T_39f5a_row11_col6\" class=\"data row11 col6\" >0.2097</td>\n",
       "      <td id=\"T_39f5a_row11_col7\" class=\"data row11 col7\" >0.4420</td>\n",
       "    </tr>\n",
       "    <tr>\n",
       "      <th id=\"T_39f5a_level0_row12\" class=\"row_heading level0 row12\" >huber</th>\n",
       "      <td id=\"T_39f5a_row12_col0\" class=\"data row12 col0\" >Huber Regressor</td>\n",
       "      <td id=\"T_39f5a_row12_col1\" class=\"data row12 col1\" >0.7607</td>\n",
       "      <td id=\"T_39f5a_row12_col2\" class=\"data row12 col2\" >0.8644</td>\n",
       "      <td id=\"T_39f5a_row12_col3\" class=\"data row12 col3\" >0.9296</td>\n",
       "      <td id=\"T_39f5a_row12_col4\" class=\"data row12 col4\" >0.3621</td>\n",
       "      <td id=\"T_39f5a_row12_col5\" class=\"data row12 col5\" >0.1970</td>\n",
       "      <td id=\"T_39f5a_row12_col6\" class=\"data row12 col6\" >0.2175</td>\n",
       "      <td id=\"T_39f5a_row12_col7\" class=\"data row12 col7\" >1.9920</td>\n",
       "    </tr>\n",
       "    <tr>\n",
       "      <th id=\"T_39f5a_level0_row13\" class=\"row_heading level0 row13\" >omp</th>\n",
       "      <td id=\"T_39f5a_row13_col0\" class=\"data row13 col0\" >Orthogonal Matching Pursuit</td>\n",
       "      <td id=\"T_39f5a_row13_col1\" class=\"data row13 col1\" >0.8135</td>\n",
       "      <td id=\"T_39f5a_row13_col2\" class=\"data row13 col2\" >1.0030</td>\n",
       "      <td id=\"T_39f5a_row13_col3\" class=\"data row13 col3\" >1.0015</td>\n",
       "      <td id=\"T_39f5a_row13_col4\" class=\"data row13 col4\" >0.2598</td>\n",
       "      <td id=\"T_39f5a_row13_col5\" class=\"data row13 col5\" >0.2076</td>\n",
       "      <td id=\"T_39f5a_row13_col6\" class=\"data row13 col6\" >0.2258</td>\n",
       "      <td id=\"T_39f5a_row13_col7\" class=\"data row13 col7\" >0.3810</td>\n",
       "    </tr>\n",
       "    <tr>\n",
       "      <th id=\"T_39f5a_level0_row14\" class=\"row_heading level0 row14\" >lasso</th>\n",
       "      <td id=\"T_39f5a_row14_col0\" class=\"data row14 col0\" >Lasso Regression</td>\n",
       "      <td id=\"T_39f5a_row14_col1\" class=\"data row14 col1\" >0.9072</td>\n",
       "      <td id=\"T_39f5a_row14_col2\" class=\"data row14 col2\" >1.3551</td>\n",
       "      <td id=\"T_39f5a_row14_col3\" class=\"data row14 col3\" >1.1641</td>\n",
       "      <td id=\"T_39f5a_row14_col4\" class=\"data row14 col4\" >-0.0001</td>\n",
       "      <td id=\"T_39f5a_row14_col5\" class=\"data row14 col5\" >0.2337</td>\n",
       "      <td id=\"T_39f5a_row14_col6\" class=\"data row14 col6\" >0.2510</td>\n",
       "      <td id=\"T_39f5a_row14_col7\" class=\"data row14 col7\" >0.5920</td>\n",
       "    </tr>\n",
       "    <tr>\n",
       "      <th id=\"T_39f5a_level0_row15\" class=\"row_heading level0 row15\" >en</th>\n",
       "      <td id=\"T_39f5a_row15_col0\" class=\"data row15 col0\" >Elastic Net</td>\n",
       "      <td id=\"T_39f5a_row15_col1\" class=\"data row15 col1\" >0.9072</td>\n",
       "      <td id=\"T_39f5a_row15_col2\" class=\"data row15 col2\" >1.3551</td>\n",
       "      <td id=\"T_39f5a_row15_col3\" class=\"data row15 col3\" >1.1641</td>\n",
       "      <td id=\"T_39f5a_row15_col4\" class=\"data row15 col4\" >-0.0001</td>\n",
       "      <td id=\"T_39f5a_row15_col5\" class=\"data row15 col5\" >0.2337</td>\n",
       "      <td id=\"T_39f5a_row15_col6\" class=\"data row15 col6\" >0.2510</td>\n",
       "      <td id=\"T_39f5a_row15_col7\" class=\"data row15 col7\" >0.3680</td>\n",
       "    </tr>\n",
       "    <tr>\n",
       "      <th id=\"T_39f5a_level0_row16\" class=\"row_heading level0 row16\" >llar</th>\n",
       "      <td id=\"T_39f5a_row16_col0\" class=\"data row16 col0\" >Lasso Least Angle Regression</td>\n",
       "      <td id=\"T_39f5a_row16_col1\" class=\"data row16 col1\" >0.9072</td>\n",
       "      <td id=\"T_39f5a_row16_col2\" class=\"data row16 col2\" >1.3551</td>\n",
       "      <td id=\"T_39f5a_row16_col3\" class=\"data row16 col3\" >1.1641</td>\n",
       "      <td id=\"T_39f5a_row16_col4\" class=\"data row16 col4\" >-0.0001</td>\n",
       "      <td id=\"T_39f5a_row16_col5\" class=\"data row16 col5\" >0.2337</td>\n",
       "      <td id=\"T_39f5a_row16_col6\" class=\"data row16 col6\" >0.2510</td>\n",
       "      <td id=\"T_39f5a_row16_col7\" class=\"data row16 col7\" >0.3390</td>\n",
       "    </tr>\n",
       "    <tr>\n",
       "      <th id=\"T_39f5a_level0_row17\" class=\"row_heading level0 row17\" >dummy</th>\n",
       "      <td id=\"T_39f5a_row17_col0\" class=\"data row17 col0\" >Dummy Regressor</td>\n",
       "      <td id=\"T_39f5a_row17_col1\" class=\"data row17 col1\" >0.9072</td>\n",
       "      <td id=\"T_39f5a_row17_col2\" class=\"data row17 col2\" >1.3551</td>\n",
       "      <td id=\"T_39f5a_row17_col3\" class=\"data row17 col3\" >1.1641</td>\n",
       "      <td id=\"T_39f5a_row17_col4\" class=\"data row17 col4\" >-0.0001</td>\n",
       "      <td id=\"T_39f5a_row17_col5\" class=\"data row17 col5\" >0.2337</td>\n",
       "      <td id=\"T_39f5a_row17_col6\" class=\"data row17 col6\" >0.2510</td>\n",
       "      <td id=\"T_39f5a_row17_col7\" class=\"data row17 col7\" >0.3230</td>\n",
       "    </tr>\n",
       "    <tr>\n",
       "      <th id=\"T_39f5a_level0_row18\" class=\"row_heading level0 row18\" >par</th>\n",
       "      <td id=\"T_39f5a_row18_col0\" class=\"data row18 col0\" >Passive Aggressive Regressor</td>\n",
       "      <td id=\"T_39f5a_row18_col1\" class=\"data row18 col1\" >0.9630</td>\n",
       "      <td id=\"T_39f5a_row18_col2\" class=\"data row18 col2\" >1.4251</td>\n",
       "      <td id=\"T_39f5a_row18_col3\" class=\"data row18 col3\" >1.1892</td>\n",
       "      <td id=\"T_39f5a_row18_col4\" class=\"data row18 col4\" >-0.0524</td>\n",
       "      <td id=\"T_39f5a_row18_col5\" class=\"data row18 col5\" >0.2348</td>\n",
       "      <td id=\"T_39f5a_row18_col6\" class=\"data row18 col6\" >0.2530</td>\n",
       "      <td id=\"T_39f5a_row18_col7\" class=\"data row18 col7\" >2.5040</td>\n",
       "    </tr>\n",
       "    <tr>\n",
       "      <th id=\"T_39f5a_level0_row19\" class=\"row_heading level0 row19\" >lar</th>\n",
       "      <td id=\"T_39f5a_row19_col0\" class=\"data row19 col0\" >Least Angle Regression</td>\n",
       "      <td id=\"T_39f5a_row19_col1\" class=\"data row19 col1\" >15.1363</td>\n",
       "      <td id=\"T_39f5a_row19_col2\" class=\"data row19 col2\" >2532.6333</td>\n",
       "      <td id=\"T_39f5a_row19_col3\" class=\"data row19 col3\" >17.7536</td>\n",
       "      <td id=\"T_39f5a_row19_col4\" class=\"data row19 col4\" >-1866.5602</td>\n",
       "      <td id=\"T_39f5a_row19_col5\" class=\"data row19 col5\" >0.6411</td>\n",
       "      <td id=\"T_39f5a_row19_col6\" class=\"data row19 col6\" >3.6750</td>\n",
       "      <td id=\"T_39f5a_row19_col7\" class=\"data row19 col7\" >0.3680</td>\n",
       "    </tr>\n",
       "  </tbody>\n",
       "</table>\n"
      ],
      "text/plain": [
       "<pandas.io.formats.style.Styler at 0x7a7cc16f3cd0>"
      ]
     },
     "metadata": {},
     "output_type": "display_data"
    },
    {
     "data": {
      "application/vnd.jupyter.widget-view+json": {
       "model_id": "77fb718ff2384e58bf5966b2f6779019",
       "version_major": 2,
       "version_minor": 0
      },
      "text/plain": [
       "Processing:   0%|          | 0/85 [00:00<?, ?it/s]"
      ]
     },
     "metadata": {},
     "output_type": "display_data"
    },
    {
     "data": {
      "text/plain": [
       "<catboost.core.CatBoostRegressor at 0x7a7cc149be80>"
      ]
     },
     "execution_count": 28,
     "metadata": {},
     "output_type": "execute_result"
    }
   ],
   "source": [
    "compare_models()"
   ]
  },
  {
   "cell_type": "markdown",
   "id": "62760161",
   "metadata": {
    "papermill": {
     "duration": 0.045163,
     "end_time": "2023-07-28T11:13:34.180304",
     "exception": false,
     "start_time": "2023-07-28T11:13:34.135141",
     "status": "completed"
    },
    "tags": []
   },
   "source": [
    "## Step 6: Training the Model\n",
    "Since catboost, xgb and lightgbm were the top performing models above, we will use them to make our predictions."
   ]
  },
  {
   "cell_type": "code",
   "execution_count": 29,
   "id": "79f587ab",
   "metadata": {
    "execution": {
     "iopub.execute_input": "2023-07-28T11:13:34.277415Z",
     "iopub.status.busy": "2023-07-28T11:13:34.276503Z",
     "iopub.status.idle": "2023-07-28T11:13:34.330619Z",
     "shell.execute_reply": "2023-07-28T11:13:34.329471Z"
    },
    "papermill": {
     "duration": 0.104783,
     "end_time": "2023-07-28T11:13:34.333372",
     "exception": false,
     "start_time": "2023-07-28T11:13:34.228589",
     "status": "completed"
    },
    "tags": []
   },
   "outputs": [],
   "source": [
    "# Creating training and validation sets from our full training data to access performance\n",
    "X_train, X_val, y_train, y_val = train_test_split(final_train, log_target_var, test_size=0.3, random_state=42)"
   ]
  },
  {
   "cell_type": "code",
   "execution_count": 30,
   "id": "f5cf6ee9",
   "metadata": {
    "execution": {
     "iopub.execute_input": "2023-07-28T11:13:34.428446Z",
     "iopub.status.busy": "2023-07-28T11:13:34.427617Z",
     "iopub.status.idle": "2023-07-28T11:13:34.439026Z",
     "shell.execute_reply": "2023-07-28T11:13:34.437866Z"
    },
    "papermill": {
     "duration": 0.060204,
     "end_time": "2023-07-28T11:13:34.441315",
     "exception": false,
     "start_time": "2023-07-28T11:13:34.381111",
     "status": "completed"
    },
    "tags": []
   },
   "outputs": [],
   "source": [
    "# Initializing the models\n",
    "catboost_model = CatBoostRegressor()\n",
    "xgboost_model = XGBRegressor()\n",
    "lightgbm_model = LGBMRegressor()\n",
    "\n",
    "# Parameter distributions for RandomizedSearchCV for CBR only\n",
    "catboost_param_dist = {\n",
    "    'learning_rate': [0.01, 0.05, 0.1],\n",
    "    'iterations': randint(100, 301),  # Random integer between 100 and 300 (inclusive)\n",
    "    'depth': randint(4, 11),          # Random integer between 4 and 10 (inclusive)\n",
    "    'l2_leaf_reg': [1, 3, 5, 7,9],\n",
    "    'subsample' : randFloat(0.05, 0.95),\n",
    "    'colsample_bylevel': randFloat(0.05, 0.95)\n",
    "    \n",
    "}"
   ]
  },
  {
   "cell_type": "code",
   "execution_count": 31,
   "id": "b3d2f79d",
   "metadata": {
    "execution": {
     "iopub.execute_input": "2023-07-28T11:13:34.556436Z",
     "iopub.status.busy": "2023-07-28T11:13:34.556058Z",
     "iopub.status.idle": "2023-07-28T11:13:34.561506Z",
     "shell.execute_reply": "2023-07-28T11:13:34.560469Z"
    },
    "papermill": {
     "duration": 0.065617,
     "end_time": "2023-07-28T11:13:34.563683",
     "exception": false,
     "start_time": "2023-07-28T11:13:34.498066",
     "status": "completed"
    },
    "tags": []
   },
   "outputs": [],
   "source": [
    "# Creating a TimeSeriesSplit object \n",
    "tscv = TimeSeriesSplit(n_splits=5)\n",
    "\n",
    "# RandomizedSearchCV for CBR to determine best params\n",
    "random_search_catboost = RandomizedSearchCV(\n",
    "    catboost_model,\n",
    "    param_distributions=catboost_param_dist,\n",
    "    n_iter=20,\n",
    "    cv=tscv,\n",
    "    n_jobs=-1\n",
    ")"
   ]
  },
  {
   "cell_type": "code",
   "execution_count": 32,
   "id": "5be4e960",
   "metadata": {
    "execution": {
     "iopub.execute_input": "2023-07-28T11:13:34.658648Z",
     "iopub.status.busy": "2023-07-28T11:13:34.657977Z",
     "iopub.status.idle": "2023-07-28T11:16:35.441996Z",
     "shell.execute_reply": "2023-07-28T11:16:35.440853Z"
    },
    "papermill": {
     "duration": 180.879847,
     "end_time": "2023-07-28T11:16:35.490775",
     "exception": false,
     "start_time": "2023-07-28T11:13:34.610928",
     "status": "completed"
    },
    "tags": []
   },
   "outputs": [
    {
     "data": {
      "text/html": [
       "<style>#sk-container-id-1 {color: black;background-color: white;}#sk-container-id-1 pre{padding: 0;}#sk-container-id-1 div.sk-toggleable {background-color: white;}#sk-container-id-1 label.sk-toggleable__label {cursor: pointer;display: block;width: 100%;margin-bottom: 0;padding: 0.3em;box-sizing: border-box;text-align: center;}#sk-container-id-1 label.sk-toggleable__label-arrow:before {content: \"▸\";float: left;margin-right: 0.25em;color: #696969;}#sk-container-id-1 label.sk-toggleable__label-arrow:hover:before {color: black;}#sk-container-id-1 div.sk-estimator:hover label.sk-toggleable__label-arrow:before {color: black;}#sk-container-id-1 div.sk-toggleable__content {max-height: 0;max-width: 0;overflow: hidden;text-align: left;background-color: #f0f8ff;}#sk-container-id-1 div.sk-toggleable__content pre {margin: 0.2em;color: black;border-radius: 0.25em;background-color: #f0f8ff;}#sk-container-id-1 input.sk-toggleable__control:checked~div.sk-toggleable__content {max-height: 200px;max-width: 100%;overflow: auto;}#sk-container-id-1 input.sk-toggleable__control:checked~label.sk-toggleable__label-arrow:before {content: \"▾\";}#sk-container-id-1 div.sk-estimator input.sk-toggleable__control:checked~label.sk-toggleable__label {background-color: #d4ebff;}#sk-container-id-1 div.sk-label input.sk-toggleable__control:checked~label.sk-toggleable__label {background-color: #d4ebff;}#sk-container-id-1 input.sk-hidden--visually {border: 0;clip: rect(1px 1px 1px 1px);clip: rect(1px, 1px, 1px, 1px);height: 1px;margin: -1px;overflow: hidden;padding: 0;position: absolute;width: 1px;}#sk-container-id-1 div.sk-estimator {font-family: monospace;background-color: #f0f8ff;border: 1px dotted black;border-radius: 0.25em;box-sizing: border-box;margin-bottom: 0.5em;}#sk-container-id-1 div.sk-estimator:hover {background-color: #d4ebff;}#sk-container-id-1 div.sk-parallel-item::after {content: \"\";width: 100%;border-bottom: 1px solid gray;flex-grow: 1;}#sk-container-id-1 div.sk-label:hover label.sk-toggleable__label {background-color: #d4ebff;}#sk-container-id-1 div.sk-serial::before {content: \"\";position: absolute;border-left: 1px solid gray;box-sizing: border-box;top: 0;bottom: 0;left: 50%;z-index: 0;}#sk-container-id-1 div.sk-serial {display: flex;flex-direction: column;align-items: center;background-color: white;padding-right: 0.2em;padding-left: 0.2em;position: relative;}#sk-container-id-1 div.sk-item {position: relative;z-index: 1;}#sk-container-id-1 div.sk-parallel {display: flex;align-items: stretch;justify-content: center;background-color: white;position: relative;}#sk-container-id-1 div.sk-item::before, #sk-container-id-1 div.sk-parallel-item::before {content: \"\";position: absolute;border-left: 1px solid gray;box-sizing: border-box;top: 0;bottom: 0;left: 50%;z-index: -1;}#sk-container-id-1 div.sk-parallel-item {display: flex;flex-direction: column;z-index: 1;position: relative;background-color: white;}#sk-container-id-1 div.sk-parallel-item:first-child::after {align-self: flex-end;width: 50%;}#sk-container-id-1 div.sk-parallel-item:last-child::after {align-self: flex-start;width: 50%;}#sk-container-id-1 div.sk-parallel-item:only-child::after {width: 0;}#sk-container-id-1 div.sk-dashed-wrapped {border: 1px dashed gray;margin: 0 0.4em 0.5em 0.4em;box-sizing: border-box;padding-bottom: 0.4em;background-color: white;}#sk-container-id-1 div.sk-label label {font-family: monospace;font-weight: bold;display: inline-block;line-height: 1.2em;}#sk-container-id-1 div.sk-label-container {text-align: center;}#sk-container-id-1 div.sk-container {/* jupyter's `normalize.less` sets `[hidden] { display: none; }` but bootstrap.min.css set `[hidden] { display: none !important; }` so we also need the `!important` here to be able to override the default hidden behavior on the sphinx rendered scikit-learn.org. See: https://github.com/scikit-learn/scikit-learn/issues/21755 */display: inline-block !important;position: relative;}#sk-container-id-1 div.sk-text-repr-fallback {display: none;}</style><div id=\"sk-container-id-1\" class=\"sk-top-container\"><div class=\"sk-text-repr-fallback\"><pre>RandomizedSearchCV(cv=TimeSeriesSplit(gap=0, max_train_size=None, n_splits=5, test_size=None),\n",
       "                   estimator=&lt;catboost.core.CatBoostRegressor object at 0x7a7cc1613100&gt;,\n",
       "                   n_iter=20, n_jobs=-1,\n",
       "                   param_distributions={&#x27;colsample_bylevel&#x27;: &lt;scipy.stats._distn_infrastructure.rv_frozen object at 0x7a7cc14993f0&gt;,\n",
       "                                        &#x27;depth&#x27;: &lt;scipy.stats._distn_infrastructure.rv_frozen object at 0x7a7cc14989a0&gt;,\n",
       "                                        &#x27;iterations&#x27;: &lt;scipy.stats._distn_infrastructure.rv_frozen object at 0x7a7cc1611930&gt;,\n",
       "                                        &#x27;l2_leaf_reg&#x27;: [1, 3, 5, 7, 9],\n",
       "                                        &#x27;learning_rate&#x27;: [0.01, 0.05, 0.1],\n",
       "                                        &#x27;subsample&#x27;: &lt;scipy.stats._distn_infrastructure.rv_frozen object at 0x7a7cc149a200&gt;})</pre><b>In a Jupyter environment, please rerun this cell to show the HTML representation or trust the notebook. <br />On GitHub, the HTML representation is unable to render, please try loading this page with nbviewer.org.</b></div><div class=\"sk-container\" hidden><div class=\"sk-item sk-dashed-wrapped\"><div class=\"sk-label-container\"><div class=\"sk-label sk-toggleable\"><input class=\"sk-toggleable__control sk-hidden--visually\" id=\"sk-estimator-id-1\" type=\"checkbox\" ><label for=\"sk-estimator-id-1\" class=\"sk-toggleable__label sk-toggleable__label-arrow\">RandomizedSearchCV</label><div class=\"sk-toggleable__content\"><pre>RandomizedSearchCV(cv=TimeSeriesSplit(gap=0, max_train_size=None, n_splits=5, test_size=None),\n",
       "                   estimator=&lt;catboost.core.CatBoostRegressor object at 0x7a7cc1613100&gt;,\n",
       "                   n_iter=20, n_jobs=-1,\n",
       "                   param_distributions={&#x27;colsample_bylevel&#x27;: &lt;scipy.stats._distn_infrastructure.rv_frozen object at 0x7a7cc14993f0&gt;,\n",
       "                                        &#x27;depth&#x27;: &lt;scipy.stats._distn_infrastructure.rv_frozen object at 0x7a7cc14989a0&gt;,\n",
       "                                        &#x27;iterations&#x27;: &lt;scipy.stats._distn_infrastructure.rv_frozen object at 0x7a7cc1611930&gt;,\n",
       "                                        &#x27;l2_leaf_reg&#x27;: [1, 3, 5, 7, 9],\n",
       "                                        &#x27;learning_rate&#x27;: [0.01, 0.05, 0.1],\n",
       "                                        &#x27;subsample&#x27;: &lt;scipy.stats._distn_infrastructure.rv_frozen object at 0x7a7cc149a200&gt;})</pre></div></div></div><div class=\"sk-parallel\"><div class=\"sk-parallel-item\"><div class=\"sk-item\"><div class=\"sk-label-container\"><div class=\"sk-label sk-toggleable\"><input class=\"sk-toggleable__control sk-hidden--visually\" id=\"sk-estimator-id-2\" type=\"checkbox\" ><label for=\"sk-estimator-id-2\" class=\"sk-toggleable__label sk-toggleable__label-arrow\">estimator: CatBoostRegressor</label><div class=\"sk-toggleable__content\"><pre>&lt;catboost.core.CatBoostRegressor object at 0x7a7cc1613100&gt;</pre></div></div></div><div class=\"sk-serial\"><div class=\"sk-item\"><div class=\"sk-estimator sk-toggleable\"><input class=\"sk-toggleable__control sk-hidden--visually\" id=\"sk-estimator-id-3\" type=\"checkbox\" ><label for=\"sk-estimator-id-3\" class=\"sk-toggleable__label sk-toggleable__label-arrow\">CatBoostRegressor</label><div class=\"sk-toggleable__content\"><pre>&lt;catboost.core.CatBoostRegressor object at 0x7a7cc1613100&gt;</pre></div></div></div></div></div></div></div></div></div></div>"
      ],
      "text/plain": [
       "RandomizedSearchCV(cv=TimeSeriesSplit(gap=0, max_train_size=None, n_splits=5, test_size=None),\n",
       "                   estimator=<catboost.core.CatBoostRegressor object at 0x7a7cc1613100>,\n",
       "                   n_iter=20, n_jobs=-1,\n",
       "                   param_distributions={'colsample_bylevel': <scipy.stats._distn_infrastructure.rv_frozen object at 0x7a7cc14993f0>,\n",
       "                                        'depth': <scipy.stats._distn_infrastructure.rv_frozen object at 0x7a7cc14989a0>,\n",
       "                                        'iterations': <scipy.stats._distn_infrastructure.rv_frozen object at 0x7a7cc1611930>,\n",
       "                                        'l2_leaf_reg': [1, 3, 5, 7, 9],\n",
       "                                        'learning_rate': [0.01, 0.05, 0.1],\n",
       "                                        'subsample': <scipy.stats._distn_infrastructure.rv_frozen object at 0x7a7cc149a200>})"
      ]
     },
     "execution_count": 32,
     "metadata": {},
     "output_type": "execute_result"
    }
   ],
   "source": [
    "# Fitting the RandomizedSearchCV results to the data \n",
    "features = ['country', 'store', 'product', 'year', 'month',\n",
    "       'day', 'dayofweek', 'is_weekend','month_cos', 'day_sin', 'day_cos', 'holiday']\n",
    "\n",
    "random_search_catboost.fit(X_train[features], y_train,verbose=0) "
   ]
  },
  {
   "cell_type": "markdown",
   "id": "bfdac3ea",
   "metadata": {
    "papermill": {
     "duration": 0.046634,
     "end_time": "2023-07-28T11:16:35.584027",
     "exception": false,
     "start_time": "2023-07-28T11:16:35.537393",
     "status": "completed"
    },
    "tags": []
   },
   "source": [
    "## Step 7: Evaluating Model Performance"
   ]
  },
  {
   "cell_type": "code",
   "execution_count": 33,
   "id": "656f5497",
   "metadata": {
    "execution": {
     "iopub.execute_input": "2023-07-28T11:16:35.680863Z",
     "iopub.status.busy": "2023-07-28T11:16:35.680070Z",
     "iopub.status.idle": "2023-07-28T11:16:35.686690Z",
     "shell.execute_reply": "2023-07-28T11:16:35.685617Z"
    },
    "papermill": {
     "duration": 0.057611,
     "end_time": "2023-07-28T11:16:35.689024",
     "exception": false,
     "start_time": "2023-07-28T11:16:35.631413",
     "status": "completed"
    },
    "tags": []
   },
   "outputs": [
    {
     "name": "stdout",
     "output_type": "stream",
     "text": [
      "\n",
      "Best CatBoost Score: 0.9974279327551834\n",
      "Best CatBoost Parameters: {'colsample_bylevel': 0.6207693650663481, 'depth': 8, 'iterations': 251, 'l2_leaf_reg': 7, 'learning_rate': 0.1, 'subsample': 0.4150663990850982}\n"
     ]
    }
   ],
   "source": [
    "# Getting the best parameters and score for the CBR model\n",
    "best_params_catboost = random_search_catboost.best_params_\n",
    "best_score_catboost = random_search_catboost.best_score_\n",
    "\n",
    "print(\"\\nBest CatBoost Score:\", best_score_catboost)\n",
    "print(\"Best CatBoost Parameters:\", best_params_catboost)"
   ]
  },
  {
   "cell_type": "code",
   "execution_count": 34,
   "id": "c98f143c",
   "metadata": {
    "execution": {
     "iopub.execute_input": "2023-07-28T11:16:35.784598Z",
     "iopub.status.busy": "2023-07-28T11:16:35.784196Z",
     "iopub.status.idle": "2023-07-28T11:16:43.660149Z",
     "shell.execute_reply": "2023-07-28T11:16:43.659126Z"
    },
    "papermill": {
     "duration": 7.926438,
     "end_time": "2023-07-28T11:16:43.662336",
     "exception": false,
     "start_time": "2023-07-28T11:16:35.735898",
     "status": "completed"
    },
    "tags": []
   },
   "outputs": [
    {
     "data": {
      "text/html": [
       "<style>#sk-container-id-2 {color: black;background-color: white;}#sk-container-id-2 pre{padding: 0;}#sk-container-id-2 div.sk-toggleable {background-color: white;}#sk-container-id-2 label.sk-toggleable__label {cursor: pointer;display: block;width: 100%;margin-bottom: 0;padding: 0.3em;box-sizing: border-box;text-align: center;}#sk-container-id-2 label.sk-toggleable__label-arrow:before {content: \"▸\";float: left;margin-right: 0.25em;color: #696969;}#sk-container-id-2 label.sk-toggleable__label-arrow:hover:before {color: black;}#sk-container-id-2 div.sk-estimator:hover label.sk-toggleable__label-arrow:before {color: black;}#sk-container-id-2 div.sk-toggleable__content {max-height: 0;max-width: 0;overflow: hidden;text-align: left;background-color: #f0f8ff;}#sk-container-id-2 div.sk-toggleable__content pre {margin: 0.2em;color: black;border-radius: 0.25em;background-color: #f0f8ff;}#sk-container-id-2 input.sk-toggleable__control:checked~div.sk-toggleable__content {max-height: 200px;max-width: 100%;overflow: auto;}#sk-container-id-2 input.sk-toggleable__control:checked~label.sk-toggleable__label-arrow:before {content: \"▾\";}#sk-container-id-2 div.sk-estimator input.sk-toggleable__control:checked~label.sk-toggleable__label {background-color: #d4ebff;}#sk-container-id-2 div.sk-label input.sk-toggleable__control:checked~label.sk-toggleable__label {background-color: #d4ebff;}#sk-container-id-2 input.sk-hidden--visually {border: 0;clip: rect(1px 1px 1px 1px);clip: rect(1px, 1px, 1px, 1px);height: 1px;margin: -1px;overflow: hidden;padding: 0;position: absolute;width: 1px;}#sk-container-id-2 div.sk-estimator {font-family: monospace;background-color: #f0f8ff;border: 1px dotted black;border-radius: 0.25em;box-sizing: border-box;margin-bottom: 0.5em;}#sk-container-id-2 div.sk-estimator:hover {background-color: #d4ebff;}#sk-container-id-2 div.sk-parallel-item::after {content: \"\";width: 100%;border-bottom: 1px solid gray;flex-grow: 1;}#sk-container-id-2 div.sk-label:hover label.sk-toggleable__label {background-color: #d4ebff;}#sk-container-id-2 div.sk-serial::before {content: \"\";position: absolute;border-left: 1px solid gray;box-sizing: border-box;top: 0;bottom: 0;left: 50%;z-index: 0;}#sk-container-id-2 div.sk-serial {display: flex;flex-direction: column;align-items: center;background-color: white;padding-right: 0.2em;padding-left: 0.2em;position: relative;}#sk-container-id-2 div.sk-item {position: relative;z-index: 1;}#sk-container-id-2 div.sk-parallel {display: flex;align-items: stretch;justify-content: center;background-color: white;position: relative;}#sk-container-id-2 div.sk-item::before, #sk-container-id-2 div.sk-parallel-item::before {content: \"\";position: absolute;border-left: 1px solid gray;box-sizing: border-box;top: 0;bottom: 0;left: 50%;z-index: -1;}#sk-container-id-2 div.sk-parallel-item {display: flex;flex-direction: column;z-index: 1;position: relative;background-color: white;}#sk-container-id-2 div.sk-parallel-item:first-child::after {align-self: flex-end;width: 50%;}#sk-container-id-2 div.sk-parallel-item:last-child::after {align-self: flex-start;width: 50%;}#sk-container-id-2 div.sk-parallel-item:only-child::after {width: 0;}#sk-container-id-2 div.sk-dashed-wrapped {border: 1px dashed gray;margin: 0 0.4em 0.5em 0.4em;box-sizing: border-box;padding-bottom: 0.4em;background-color: white;}#sk-container-id-2 div.sk-label label {font-family: monospace;font-weight: bold;display: inline-block;line-height: 1.2em;}#sk-container-id-2 div.sk-label-container {text-align: center;}#sk-container-id-2 div.sk-container {/* jupyter's `normalize.less` sets `[hidden] { display: none; }` but bootstrap.min.css set `[hidden] { display: none !important; }` so we also need the `!important` here to be able to override the default hidden behavior on the sphinx rendered scikit-learn.org. See: https://github.com/scikit-learn/scikit-learn/issues/21755 */display: inline-block !important;position: relative;}#sk-container-id-2 div.sk-text-repr-fallback {display: none;}</style><div id=\"sk-container-id-2\" class=\"sk-top-container\"><div class=\"sk-text-repr-fallback\"><pre>LGBMRegressor()</pre><b>In a Jupyter environment, please rerun this cell to show the HTML representation or trust the notebook. <br />On GitHub, the HTML representation is unable to render, please try loading this page with nbviewer.org.</b></div><div class=\"sk-container\" hidden><div class=\"sk-item\"><div class=\"sk-estimator sk-toggleable\"><input class=\"sk-toggleable__control sk-hidden--visually\" id=\"sk-estimator-id-4\" type=\"checkbox\" checked><label for=\"sk-estimator-id-4\" class=\"sk-toggleable__label sk-toggleable__label-arrow\">LGBMRegressor</label><div class=\"sk-toggleable__content\"><pre>LGBMRegressor()</pre></div></div></div></div></div>"
      ],
      "text/plain": [
       "LGBMRegressor()"
      ]
     },
     "execution_count": 34,
     "metadata": {},
     "output_type": "execute_result"
    }
   ],
   "source": [
    "# Training all of our models on the training data\n",
    "models = {}\n",
    "\n",
    "# CBR\n",
    "models[\"catboost\"] = CatBoostRegressor(**best_params_catboost, random_state=12,verbose=False)\n",
    "models['catboost'].fit(X_train[features], y_train, \n",
    "                       eval_set = (X_val[features], y_val), verbose = False)\n",
    "# XGB\n",
    "models['xgb'] = XGBRegressor()\n",
    "models['xgb'].fit(X_train[features], y_train)\n",
    "\n",
    "# LGBM\n",
    "models['lgbm'] = LGBMRegressor()\n",
    "models['lgbm'].fit(X_train[features],y_train)"
   ]
  },
  {
   "cell_type": "code",
   "execution_count": 35,
   "id": "2b027bbd",
   "metadata": {
    "execution": {
     "iopub.execute_input": "2023-07-28T11:16:43.761991Z",
     "iopub.status.busy": "2023-07-28T11:16:43.761589Z",
     "iopub.status.idle": "2023-07-28T11:16:44.004812Z",
     "shell.execute_reply": "2023-07-28T11:16:44.003568Z"
    },
    "papermill": {
     "duration": 0.296214,
     "end_time": "2023-07-28T11:16:44.007086",
     "exception": false,
     "start_time": "2023-07-28T11:16:43.710872",
     "status": "completed"
    },
    "tags": []
   },
   "outputs": [
    {
     "name": "stdout",
     "output_type": "stream",
     "text": [
      "sMAPE catboost: 4.515733210505503\n",
      "sMAPE xgb: 4.6234639092385015\n",
      "sMAPE lightgbm: 5.221363844815704\n"
     ]
    }
   ],
   "source": [
    "# Calculating the sMAPE score\n",
    "\n",
    "def smape(A, F):\n",
    "    return 100/len(A) * np.sum(2 * np.abs(F - A) / (np.abs(A) + np.abs(F)))\n",
    "\n",
    "print(\"sMAPE catboost:\",smape(np.exp(y_val),\n",
    "                              np.exp(models['catboost'].predict(X_val[features]))))\n",
    "print(\"sMAPE xgb:\",smape(np.exp(y_val),\n",
    "                              np.exp(models['xgb'].predict(X_val[features]))))\n",
    "print(\"sMAPE lightgbm:\",smape(np.exp(y_val),\n",
    "                              np.exp(models['lgbm'].predict(X_val[features]))))"
   ]
  },
  {
   "cell_type": "markdown",
   "id": "9d54856c",
   "metadata": {
    "papermill": {
     "duration": 0.04861,
     "end_time": "2023-07-28T11:16:44.105533",
     "exception": false,
     "start_time": "2023-07-28T11:16:44.056923",
     "status": "completed"
    },
    "tags": []
   },
   "source": [
    "Our sMAPE scores for each model are low, indicating a very good performance from each of the models when predicting using our validation set."
   ]
  },
  {
   "cell_type": "markdown",
   "id": "ae283f17",
   "metadata": {
    "papermill": {
     "duration": 0.048802,
     "end_time": "2023-07-28T11:16:44.203174",
     "exception": false,
     "start_time": "2023-07-28T11:16:44.154372",
     "status": "completed"
    },
    "tags": []
   },
   "source": [
    "## Step 8: Predictions"
   ]
  },
  {
   "cell_type": "code",
   "execution_count": 36,
   "id": "b91d519a",
   "metadata": {
    "execution": {
     "iopub.execute_input": "2023-07-28T11:16:44.299113Z",
     "iopub.status.busy": "2023-07-28T11:16:44.298397Z",
     "iopub.status.idle": "2023-07-28T11:17:02.352883Z",
     "shell.execute_reply": "2023-07-28T11:17:02.352124Z"
    },
    "papermill": {
     "duration": 18.104022,
     "end_time": "2023-07-28T11:17:02.354892",
     "exception": false,
     "start_time": "2023-07-28T11:16:44.250870",
     "status": "completed"
    },
    "tags": []
   },
   "outputs": [
    {
     "data": {
      "text/html": [
       "<style>#sk-container-id-3 {color: black;background-color: white;}#sk-container-id-3 pre{padding: 0;}#sk-container-id-3 div.sk-toggleable {background-color: white;}#sk-container-id-3 label.sk-toggleable__label {cursor: pointer;display: block;width: 100%;margin-bottom: 0;padding: 0.3em;box-sizing: border-box;text-align: center;}#sk-container-id-3 label.sk-toggleable__label-arrow:before {content: \"▸\";float: left;margin-right: 0.25em;color: #696969;}#sk-container-id-3 label.sk-toggleable__label-arrow:hover:before {color: black;}#sk-container-id-3 div.sk-estimator:hover label.sk-toggleable__label-arrow:before {color: black;}#sk-container-id-3 div.sk-toggleable__content {max-height: 0;max-width: 0;overflow: hidden;text-align: left;background-color: #f0f8ff;}#sk-container-id-3 div.sk-toggleable__content pre {margin: 0.2em;color: black;border-radius: 0.25em;background-color: #f0f8ff;}#sk-container-id-3 input.sk-toggleable__control:checked~div.sk-toggleable__content {max-height: 200px;max-width: 100%;overflow: auto;}#sk-container-id-3 input.sk-toggleable__control:checked~label.sk-toggleable__label-arrow:before {content: \"▾\";}#sk-container-id-3 div.sk-estimator input.sk-toggleable__control:checked~label.sk-toggleable__label {background-color: #d4ebff;}#sk-container-id-3 div.sk-label input.sk-toggleable__control:checked~label.sk-toggleable__label {background-color: #d4ebff;}#sk-container-id-3 input.sk-hidden--visually {border: 0;clip: rect(1px 1px 1px 1px);clip: rect(1px, 1px, 1px, 1px);height: 1px;margin: -1px;overflow: hidden;padding: 0;position: absolute;width: 1px;}#sk-container-id-3 div.sk-estimator {font-family: monospace;background-color: #f0f8ff;border: 1px dotted black;border-radius: 0.25em;box-sizing: border-box;margin-bottom: 0.5em;}#sk-container-id-3 div.sk-estimator:hover {background-color: #d4ebff;}#sk-container-id-3 div.sk-parallel-item::after {content: \"\";width: 100%;border-bottom: 1px solid gray;flex-grow: 1;}#sk-container-id-3 div.sk-label:hover label.sk-toggleable__label {background-color: #d4ebff;}#sk-container-id-3 div.sk-serial::before {content: \"\";position: absolute;border-left: 1px solid gray;box-sizing: border-box;top: 0;bottom: 0;left: 50%;z-index: 0;}#sk-container-id-3 div.sk-serial {display: flex;flex-direction: column;align-items: center;background-color: white;padding-right: 0.2em;padding-left: 0.2em;position: relative;}#sk-container-id-3 div.sk-item {position: relative;z-index: 1;}#sk-container-id-3 div.sk-parallel {display: flex;align-items: stretch;justify-content: center;background-color: white;position: relative;}#sk-container-id-3 div.sk-item::before, #sk-container-id-3 div.sk-parallel-item::before {content: \"\";position: absolute;border-left: 1px solid gray;box-sizing: border-box;top: 0;bottom: 0;left: 50%;z-index: -1;}#sk-container-id-3 div.sk-parallel-item {display: flex;flex-direction: column;z-index: 1;position: relative;background-color: white;}#sk-container-id-3 div.sk-parallel-item:first-child::after {align-self: flex-end;width: 50%;}#sk-container-id-3 div.sk-parallel-item:last-child::after {align-self: flex-start;width: 50%;}#sk-container-id-3 div.sk-parallel-item:only-child::after {width: 0;}#sk-container-id-3 div.sk-dashed-wrapped {border: 1px dashed gray;margin: 0 0.4em 0.5em 0.4em;box-sizing: border-box;padding-bottom: 0.4em;background-color: white;}#sk-container-id-3 div.sk-label label {font-family: monospace;font-weight: bold;display: inline-block;line-height: 1.2em;}#sk-container-id-3 div.sk-label-container {text-align: center;}#sk-container-id-3 div.sk-container {/* jupyter's `normalize.less` sets `[hidden] { display: none; }` but bootstrap.min.css set `[hidden] { display: none !important; }` so we also need the `!important` here to be able to override the default hidden behavior on the sphinx rendered scikit-learn.org. See: https://github.com/scikit-learn/scikit-learn/issues/21755 */display: inline-block !important;position: relative;}#sk-container-id-3 div.sk-text-repr-fallback {display: none;}</style><div id=\"sk-container-id-3\" class=\"sk-top-container\"><div class=\"sk-text-repr-fallback\"><pre>LGBMRegressor()</pre><b>In a Jupyter environment, please rerun this cell to show the HTML representation or trust the notebook. <br />On GitHub, the HTML representation is unable to render, please try loading this page with nbviewer.org.</b></div><div class=\"sk-container\" hidden><div class=\"sk-item\"><div class=\"sk-estimator sk-toggleable\"><input class=\"sk-toggleable__control sk-hidden--visually\" id=\"sk-estimator-id-5\" type=\"checkbox\" checked><label for=\"sk-estimator-id-5\" class=\"sk-toggleable__label sk-toggleable__label-arrow\">LGBMRegressor</label><div class=\"sk-toggleable__content\"><pre>LGBMRegressor()</pre></div></div></div></div></div>"
      ],
      "text/plain": [
       "LGBMRegressor()"
      ]
     },
     "execution_count": 36,
     "metadata": {},
     "output_type": "execute_result"
    }
   ],
   "source": [
    "# Training our models for the fianl predictions\n",
    "models = {}\n",
    "\n",
    "\n",
    "models[\"catboost\"] = CatBoostRegressor(**best_params_catboost, random_state=12,verbose=False)\n",
    "models['catboost'].fit(final_train[features], log_target_var, \n",
    "                       verbose = False)\n",
    "\n",
    "models['xgb'] = XGBRegressor()\n",
    "models['xgb'].fit(final_train[features], log_target_var)\n",
    "\n",
    "models['lgbm'] = LGBMRegressor()\n",
    "models['lgbm'].fit(final_train[features],log_target_var)"
   ]
  },
  {
   "cell_type": "code",
   "execution_count": 37,
   "id": "91b44b90",
   "metadata": {
    "execution": {
     "iopub.execute_input": "2023-07-28T11:17:02.449767Z",
     "iopub.status.busy": "2023-07-28T11:17:02.449187Z",
     "iopub.status.idle": "2023-07-28T11:17:02.596901Z",
     "shell.execute_reply": "2023-07-28T11:17:02.596022Z"
    },
    "papermill": {
     "duration": 0.196803,
     "end_time": "2023-07-28T11:17:02.599241",
     "exception": false,
     "start_time": "2023-07-28T11:17:02.402438",
     "status": "completed"
    },
    "tags": []
   },
   "outputs": [],
   "source": [
    "# Making predictions using an ensemble of our models\n",
    "predictions = (np.exp(models['catboost'].predict(final_test[features]))*0.33+\n",
    "               np.exp(models['xgb'].predict(final_test[features]))*0.33+\n",
    "               np.exp(models['lgbm'].predict(final_test[features]))*0.33)"
   ]
  },
  {
   "cell_type": "code",
   "execution_count": 38,
   "id": "1217f0a8",
   "metadata": {
    "execution": {
     "iopub.execute_input": "2023-07-28T11:17:02.697352Z",
     "iopub.status.busy": "2023-07-28T11:17:02.696734Z",
     "iopub.status.idle": "2023-07-28T11:17:02.711844Z",
     "shell.execute_reply": "2023-07-28T11:17:02.710996Z"
    },
    "papermill": {
     "duration": 0.066346,
     "end_time": "2023-07-28T11:17:02.713847",
     "exception": false,
     "start_time": "2023-07-28T11:17:02.647501",
     "status": "completed"
    },
    "tags": []
   },
   "outputs": [
    {
     "data": {
      "text/html": [
       "<div>\n",
       "<style scoped>\n",
       "    .dataframe tbody tr th:only-of-type {\n",
       "        vertical-align: middle;\n",
       "    }\n",
       "\n",
       "    .dataframe tbody tr th {\n",
       "        vertical-align: top;\n",
       "    }\n",
       "\n",
       "    .dataframe thead th {\n",
       "        text-align: right;\n",
       "    }\n",
       "</style>\n",
       "<table border=\"1\" class=\"dataframe\">\n",
       "  <thead>\n",
       "    <tr style=\"text-align: right;\">\n",
       "      <th></th>\n",
       "      <th>Id</th>\n",
       "      <th>num_sold</th>\n",
       "    </tr>\n",
       "  </thead>\n",
       "  <tbody>\n",
       "    <tr>\n",
       "      <th>0</th>\n",
       "      <td>136950</td>\n",
       "      <td>37.0</td>\n",
       "    </tr>\n",
       "    <tr>\n",
       "      <th>1</th>\n",
       "      <td>136951</td>\n",
       "      <td>36.0</td>\n",
       "    </tr>\n",
       "    <tr>\n",
       "      <th>2</th>\n",
       "      <td>136952</td>\n",
       "      <td>5.0</td>\n",
       "    </tr>\n",
       "    <tr>\n",
       "      <th>3</th>\n",
       "      <td>136953</td>\n",
       "      <td>33.0</td>\n",
       "    </tr>\n",
       "    <tr>\n",
       "      <th>4</th>\n",
       "      <td>136954</td>\n",
       "      <td>28.0</td>\n",
       "    </tr>\n",
       "    <tr>\n",
       "      <th>...</th>\n",
       "      <td>...</td>\n",
       "      <td>...</td>\n",
       "    </tr>\n",
       "    <tr>\n",
       "      <th>27370</th>\n",
       "      <td>164320</td>\n",
       "      <td>751.0</td>\n",
       "    </tr>\n",
       "    <tr>\n",
       "      <th>27371</th>\n",
       "      <td>164321</td>\n",
       "      <td>730.0</td>\n",
       "    </tr>\n",
       "    <tr>\n",
       "      <th>27372</th>\n",
       "      <td>164322</td>\n",
       "      <td>115.0</td>\n",
       "    </tr>\n",
       "    <tr>\n",
       "      <th>27373</th>\n",
       "      <td>164323</td>\n",
       "      <td>680.0</td>\n",
       "    </tr>\n",
       "    <tr>\n",
       "      <th>27374</th>\n",
       "      <td>164324</td>\n",
       "      <td>571.0</td>\n",
       "    </tr>\n",
       "  </tbody>\n",
       "</table>\n",
       "<p>27375 rows × 2 columns</p>\n",
       "</div>"
      ],
      "text/plain": [
       "           Id  num_sold\n",
       "0      136950      37.0\n",
       "1      136951      36.0\n",
       "2      136952       5.0\n",
       "3      136953      33.0\n",
       "4      136954      28.0\n",
       "...       ...       ...\n",
       "27370  164320     751.0\n",
       "27371  164321     730.0\n",
       "27372  164322     115.0\n",
       "27373  164323     680.0\n",
       "27374  164324     571.0\n",
       "\n",
       "[27375 rows x 2 columns]"
      ]
     },
     "execution_count": 38,
     "metadata": {},
     "output_type": "execute_result"
    }
   ],
   "source": [
    "# Making our predictions a series so we can add it to a DF\n",
    "predictions =  pd.Series(predictions)\n",
    "\n",
    "# Combining our predictions with the Ids we extracted at the beginning\n",
    "final_predictions = pd.concat([ids,predictions], axis=1)\n",
    "\n",
    "# Renaming our columns \n",
    "final_predictions.columns = ['Id','num_sold']\n",
    "\n",
    "# Rounding our num_sold column values\n",
    "final_predictions['num_sold'] = np.round(final_predictions['num_sold'],0)\n",
    "\n",
    "# Looking at our final predictions\n",
    "final_predictions"
   ]
  },
  {
   "cell_type": "code",
   "execution_count": 39,
   "id": "20e3cc5f",
   "metadata": {
    "execution": {
     "iopub.execute_input": "2023-07-28T11:17:02.814950Z",
     "iopub.status.busy": "2023-07-28T11:17:02.814378Z",
     "iopub.status.idle": "2023-07-28T11:17:02.898283Z",
     "shell.execute_reply": "2023-07-28T11:17:02.897114Z"
    },
    "papermill": {
     "duration": 0.137975,
     "end_time": "2023-07-28T11:17:02.901598",
     "exception": false,
     "start_time": "2023-07-28T11:17:02.763623",
     "status": "completed"
    },
    "tags": []
   },
   "outputs": [],
   "source": [
    "submissions = final_predictions\n",
    "submissions.to_csv('./submission.csv', index=False, header=True)"
   ]
  },
  {
   "cell_type": "code",
   "execution_count": null,
   "id": "005f017a",
   "metadata": {
    "papermill": {
     "duration": 0.048641,
     "end_time": "2023-07-28T11:17:03.000700",
     "exception": false,
     "start_time": "2023-07-28T11:17:02.952059",
     "status": "completed"
    },
    "tags": []
   },
   "outputs": [],
   "source": []
  }
 ],
 "metadata": {
  "kernelspec": {
   "display_name": "Python 3",
   "language": "python",
   "name": "python3"
  },
  "language_info": {
   "codemirror_mode": {
    "name": "ipython",
    "version": 3
   },
   "file_extension": ".py",
   "mimetype": "text/x-python",
   "name": "python",
   "nbconvert_exporter": "python",
   "pygments_lexer": "ipython3",
   "version": "3.10.12"
  },
  "papermill": {
   "default_parameters": {},
   "duration": 1600.294552,
   "end_time": "2023-07-28T11:17:05.684832",
   "environment_variables": {},
   "exception": null,
   "input_path": "__notebook__.ipynb",
   "output_path": "__notebook__.ipynb",
   "parameters": {},
   "start_time": "2023-07-28T10:50:25.390280",
   "version": "2.4.0"
  },
  "widgets": {
   "application/vnd.jupyter.widget-state+json": {
    "state": {
     "1be4f657171f444785245cc9ae11ec68": {
      "model_module": "@jupyter-widgets/controls",
      "model_module_version": "1.5.0",
      "model_name": "ProgressStyleModel",
      "state": {
       "_model_module": "@jupyter-widgets/controls",
       "_model_module_version": "1.5.0",
       "_model_name": "ProgressStyleModel",
       "_view_count": null,
       "_view_module": "@jupyter-widgets/base",
       "_view_module_version": "1.2.0",
       "_view_name": "StyleView",
       "bar_color": null,
       "description_width": ""
      }
     },
     "4646057c90e94744acf0c40cfb252fd3": {
      "model_module": "@jupyter-widgets/base",
      "model_module_version": "1.2.0",
      "model_name": "LayoutModel",
      "state": {
       "_model_module": "@jupyter-widgets/base",
       "_model_module_version": "1.2.0",
       "_model_name": "LayoutModel",
       "_view_count": null,
       "_view_module": "@jupyter-widgets/base",
       "_view_module_version": "1.2.0",
       "_view_name": "LayoutView",
       "align_content": null,
       "align_items": null,
       "align_self": null,
       "border": null,
       "bottom": null,
       "display": null,
       "flex": null,
       "flex_flow": null,
       "grid_area": null,
       "grid_auto_columns": null,
       "grid_auto_flow": null,
       "grid_auto_rows": null,
       "grid_column": null,
       "grid_gap": null,
       "grid_row": null,
       "grid_template_areas": null,
       "grid_template_columns": null,
       "grid_template_rows": null,
       "height": null,
       "justify_content": null,
       "justify_items": null,
       "left": null,
       "margin": null,
       "max_height": null,
       "max_width": null,
       "min_height": null,
       "min_width": null,
       "object_fit": null,
       "object_position": null,
       "order": null,
       "overflow": null,
       "overflow_x": null,
       "overflow_y": null,
       "padding": null,
       "right": null,
       "top": null,
       "visibility": null,
       "width": null
      }
     },
     "5d9d1dddf67b4fe58a23e366bcf7c1f8": {
      "model_module": "@jupyter-widgets/controls",
      "model_module_version": "1.5.0",
      "model_name": "FloatProgressModel",
      "state": {
       "_dom_classes": [],
       "_model_module": "@jupyter-widgets/controls",
       "_model_module_version": "1.5.0",
       "_model_name": "FloatProgressModel",
       "_view_count": null,
       "_view_module": "@jupyter-widgets/controls",
       "_view_module_version": "1.5.0",
       "_view_name": "ProgressView",
       "bar_style": "",
       "description": "",
       "description_tooltip": null,
       "layout": "IPY_MODEL_aeb223294c7840809a27d0c2af72db58",
       "max": 85.0,
       "min": 0.0,
       "orientation": "horizontal",
       "style": "IPY_MODEL_1be4f657171f444785245cc9ae11ec68",
       "value": 85.0
      }
     },
     "74e414a717624d989fc5223cc0118799": {
      "model_module": "@jupyter-widgets/controls",
      "model_module_version": "1.5.0",
      "model_name": "DescriptionStyleModel",
      "state": {
       "_model_module": "@jupyter-widgets/controls",
       "_model_module_version": "1.5.0",
       "_model_name": "DescriptionStyleModel",
       "_view_count": null,
       "_view_module": "@jupyter-widgets/base",
       "_view_module_version": "1.2.0",
       "_view_name": "StyleView",
       "description_width": ""
      }
     },
     "77fb718ff2384e58bf5966b2f6779019": {
      "model_module": "@jupyter-widgets/controls",
      "model_module_version": "1.5.0",
      "model_name": "HBoxModel",
      "state": {
       "_dom_classes": [],
       "_model_module": "@jupyter-widgets/controls",
       "_model_module_version": "1.5.0",
       "_model_name": "HBoxModel",
       "_view_count": null,
       "_view_module": "@jupyter-widgets/controls",
       "_view_module_version": "1.5.0",
       "_view_name": "HBoxView",
       "box_style": "",
       "children": [
        "IPY_MODEL_d2b35feb7f70443baba2c9e686c03b8a",
        "IPY_MODEL_5d9d1dddf67b4fe58a23e366bcf7c1f8",
        "IPY_MODEL_a0c649697d4f42d9a0985dbb8b541349"
       ],
       "layout": "IPY_MODEL_9be6e98d0f85409e979aa9ee3bfb4f0c"
      }
     },
     "9be6e98d0f85409e979aa9ee3bfb4f0c": {
      "model_module": "@jupyter-widgets/base",
      "model_module_version": "1.2.0",
      "model_name": "LayoutModel",
      "state": {
       "_model_module": "@jupyter-widgets/base",
       "_model_module_version": "1.2.0",
       "_model_name": "LayoutModel",
       "_view_count": null,
       "_view_module": "@jupyter-widgets/base",
       "_view_module_version": "1.2.0",
       "_view_name": "LayoutView",
       "align_content": null,
       "align_items": null,
       "align_self": null,
       "border": null,
       "bottom": null,
       "display": null,
       "flex": null,
       "flex_flow": null,
       "grid_area": null,
       "grid_auto_columns": null,
       "grid_auto_flow": null,
       "grid_auto_rows": null,
       "grid_column": null,
       "grid_gap": null,
       "grid_row": null,
       "grid_template_areas": null,
       "grid_template_columns": null,
       "grid_template_rows": null,
       "height": null,
       "justify_content": null,
       "justify_items": null,
       "left": null,
       "margin": null,
       "max_height": null,
       "max_width": null,
       "min_height": null,
       "min_width": null,
       "object_fit": null,
       "object_position": null,
       "order": null,
       "overflow": null,
       "overflow_x": null,
       "overflow_y": null,
       "padding": null,
       "right": null,
       "top": null,
       "visibility": "hidden",
       "width": null
      }
     },
     "a0c649697d4f42d9a0985dbb8b541349": {
      "model_module": "@jupyter-widgets/controls",
      "model_module_version": "1.5.0",
      "model_name": "HTMLModel",
      "state": {
       "_dom_classes": [],
       "_model_module": "@jupyter-widgets/controls",
       "_model_module_version": "1.5.0",
       "_model_name": "HTMLModel",
       "_view_count": null,
       "_view_module": "@jupyter-widgets/controls",
       "_view_module_version": "1.5.0",
       "_view_name": "HTMLView",
       "description": "",
       "description_tooltip": null,
       "layout": "IPY_MODEL_4646057c90e94744acf0c40cfb252fd3",
       "placeholder": "​",
       "style": "IPY_MODEL_74e414a717624d989fc5223cc0118799",
       "value": " 85/85 [17:14&lt;00:00,  9.61s/it]"
      }
     },
     "abe8d6d72c6a49d3a4b0f9d4259d2b33": {
      "model_module": "@jupyter-widgets/controls",
      "model_module_version": "1.5.0",
      "model_name": "DescriptionStyleModel",
      "state": {
       "_model_module": "@jupyter-widgets/controls",
       "_model_module_version": "1.5.0",
       "_model_name": "DescriptionStyleModel",
       "_view_count": null,
       "_view_module": "@jupyter-widgets/base",
       "_view_module_version": "1.2.0",
       "_view_name": "StyleView",
       "description_width": ""
      }
     },
     "aeb223294c7840809a27d0c2af72db58": {
      "model_module": "@jupyter-widgets/base",
      "model_module_version": "1.2.0",
      "model_name": "LayoutModel",
      "state": {
       "_model_module": "@jupyter-widgets/base",
       "_model_module_version": "1.2.0",
       "_model_name": "LayoutModel",
       "_view_count": null,
       "_view_module": "@jupyter-widgets/base",
       "_view_module_version": "1.2.0",
       "_view_name": "LayoutView",
       "align_content": null,
       "align_items": null,
       "align_self": null,
       "border": null,
       "bottom": null,
       "display": null,
       "flex": null,
       "flex_flow": null,
       "grid_area": null,
       "grid_auto_columns": null,
       "grid_auto_flow": null,
       "grid_auto_rows": null,
       "grid_column": null,
       "grid_gap": null,
       "grid_row": null,
       "grid_template_areas": null,
       "grid_template_columns": null,
       "grid_template_rows": null,
       "height": null,
       "justify_content": null,
       "justify_items": null,
       "left": null,
       "margin": null,
       "max_height": null,
       "max_width": null,
       "min_height": null,
       "min_width": null,
       "object_fit": null,
       "object_position": null,
       "order": null,
       "overflow": null,
       "overflow_x": null,
       "overflow_y": null,
       "padding": null,
       "right": null,
       "top": null,
       "visibility": null,
       "width": null
      }
     },
     "b8c0701b89b547c5b317ac011a59acf1": {
      "model_module": "@jupyter-widgets/base",
      "model_module_version": "1.2.0",
      "model_name": "LayoutModel",
      "state": {
       "_model_module": "@jupyter-widgets/base",
       "_model_module_version": "1.2.0",
       "_model_name": "LayoutModel",
       "_view_count": null,
       "_view_module": "@jupyter-widgets/base",
       "_view_module_version": "1.2.0",
       "_view_name": "LayoutView",
       "align_content": null,
       "align_items": null,
       "align_self": null,
       "border": null,
       "bottom": null,
       "display": null,
       "flex": null,
       "flex_flow": null,
       "grid_area": null,
       "grid_auto_columns": null,
       "grid_auto_flow": null,
       "grid_auto_rows": null,
       "grid_column": null,
       "grid_gap": null,
       "grid_row": null,
       "grid_template_areas": null,
       "grid_template_columns": null,
       "grid_template_rows": null,
       "height": null,
       "justify_content": null,
       "justify_items": null,
       "left": null,
       "margin": null,
       "max_height": null,
       "max_width": null,
       "min_height": null,
       "min_width": null,
       "object_fit": null,
       "object_position": null,
       "order": null,
       "overflow": null,
       "overflow_x": null,
       "overflow_y": null,
       "padding": null,
       "right": null,
       "top": null,
       "visibility": null,
       "width": null
      }
     },
     "d2b35feb7f70443baba2c9e686c03b8a": {
      "model_module": "@jupyter-widgets/controls",
      "model_module_version": "1.5.0",
      "model_name": "HTMLModel",
      "state": {
       "_dom_classes": [],
       "_model_module": "@jupyter-widgets/controls",
       "_model_module_version": "1.5.0",
       "_model_name": "HTMLModel",
       "_view_count": null,
       "_view_module": "@jupyter-widgets/controls",
       "_view_module_version": "1.5.0",
       "_view_name": "HTMLView",
       "description": "",
       "description_tooltip": null,
       "layout": "IPY_MODEL_b8c0701b89b547c5b317ac011a59acf1",
       "placeholder": "​",
       "style": "IPY_MODEL_abe8d6d72c6a49d3a4b0f9d4259d2b33",
       "value": "Processing: 100%"
      }
     }
    },
    "version_major": 2,
    "version_minor": 0
   }
  }
 },
 "nbformat": 4,
 "nbformat_minor": 5
}
